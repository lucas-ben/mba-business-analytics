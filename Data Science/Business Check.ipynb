{
 "cells": [
  {
   "cell_type": "markdown",
   "id": "bb559b3f",
   "metadata": {},
   "source": [
    "# **Business Checks & Balances**"
   ]
  },
  {
   "cell_type": "markdown",
   "id": "b1a229ae",
   "metadata": {},
   "source": [
    "What's the cost of being wrong?\n",
    "\n",
    "Can I afford inconsistent predictions?"
   ]
  },
  {
   "cell_type": "markdown",
   "id": "52b6c1b1",
   "metadata": {},
   "source": []
  }
 ],
 "metadata": {
  "language_info": {
   "name": "python"
  }
 },
 "nbformat": 4,
 "nbformat_minor": 5
}
