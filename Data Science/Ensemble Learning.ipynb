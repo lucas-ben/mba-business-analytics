{
 "cells": [
  {
   "cell_type": "markdown",
   "id": "226c3056",
   "metadata": {},
   "source": [
    "# **Ensembles**"
   ]
  },
  {
   "cell_type": "markdown",
   "id": "1cb14e7c",
   "metadata": {},
   "source": [
    "The core idea behind ensemble learning is to combine predictions from several models to create a very accurate prediction. By combining multiple sources of information, I can make better decisions."
   ]
  },
  {
   "cell_type": "markdown",
   "id": "5e008feb",
   "metadata": {},
   "source": [
    "By combining multiple models, I can reduce overfitting and improve generalization."
   ]
  },
  {
   "cell_type": "markdown",
   "id": "773a209b",
   "metadata": {},
   "source": [
    "Ensemble methods offset individual model weaknesses."
   ]
  },
  {
   "cell_type": "markdown",
   "id": "93e205cf",
   "metadata": {},
   "source": [
    "## When To Use Ensembles\n",
    "- High variance in model predictions\n",
    "- Single model performance plateaus\n",
    "- A need for robust predictions for production\n"
   ]
  },
  {
   "cell_type": "markdown",
   "id": "d562db33",
   "metadata": {},
   "source": [
    "### **High Variance In Model Predictions**\n",
    "- A model gives disparate predictions on similar data or performance varies between cross validation folds\n",
    "- A model works great on training data but poorly on validation set\n",
    "\n",
    "**Why Ensembles Help With High Variance In Model Predictions**\n",
    "- Averaging multiple models smooths out individual idiosyncrasies and reduces overfitting"
   ]
  },
  {
   "cell_type": "markdown",
   "id": "cd897ab1",
   "metadata": {},
   "source": [
    "### **Single Model Performance Plateaus**\n",
    "- A model performance plateau occurs after tuning hyperparameters and feature engineering, but accuracy gains have stopped\n",
    "\n",
    "**Why Ensembles Help With Single Model Performance Plateaus**\n",
    "- Different models make different types of errors. Combining them can push past individual model limitations"
   ]
  },
  {
   "cell_type": "markdown",
   "id": "b532cc59",
   "metadata": {},
   "source": [
    "### **A Need For Robust Predictions For Production**\n",
    "- Prediction errors have real business consequences, so I need reliable, consistent performance\n",
    "\n",
    "**Why Ensembles Help With Robust Predictions For Production**\n",
    "- Multiple models act as checks and balances"
   ]
  },
  {
   "cell_type": "markdown",
   "id": "01ad34ad",
   "metadata": {},
   "source": [
    "## Averaging Methods \n",
    "**Average the independent predictions of several estimators**\n",
    "\n",
    "Averaging methods are *Parallel Training*\n",
    "\n",
    "**High-level overview of how averaging ensemble methods work: Train models independently and combine predictions**\n",
    "\n",
    "Averaging ensemble methods work best for high-variance models because they reduce variance"
   ]
  },
  {
   "cell_type": "markdown",
   "id": "f55d88dd",
   "metadata": {},
   "source": []
  },
  {
   "cell_type": "markdown",
   "id": "afee8dfd",
   "metadata": {},
   "source": []
  }
 ],
 "metadata": {
  "kernelspec": {
   "display_name": "myenv",
   "language": "python",
   "name": "python3"
  },
  "language_info": {
   "name": "python",
   "version": "3.10.18"
  }
 },
 "nbformat": 4,
 "nbformat_minor": 5
}
