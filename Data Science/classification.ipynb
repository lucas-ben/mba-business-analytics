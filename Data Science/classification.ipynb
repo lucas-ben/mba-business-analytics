{
 "cells": [
  {
   "cell_type": "markdown",
   "id": "1c0b4bd0",
   "metadata": {},
   "source": [
    "# **Classification**"
   ]
  },
  {
   "cell_type": "markdown",
   "id": "048ff11e",
   "metadata": {},
   "source": [
    "### **Performance Metrics to Evaluate Classification Problems**\n",
    "- **Accuracy Score**\n",
    "    - How many predictions a model predicted correctly\n",
    "\n",
    "    from sklearn.metrics import accuracy_score\n",
    "\n",
    "    accuracy = accuracy_score(y_test, y_pred)\n",
    "- **Precision**\n",
    "    - What percentage of my positive predictions were correct?\n",
    "        - The number of correct positive predictions based on all positive predictions\n",
    "    \n",
    "    **Binary Problems**\n",
    "\n",
    "    from sklearn.metrics import precision_score\n",
    "\n",
    "    precision = precision_score(y_test, y_pred)\n",
    "\n",
    "    **Multi-Class Problems**\n",
    "\n",
    "    precision = precision_score(y_test, y_pred, average='macro') # \n",
    "\n",
    "- **Recall**\n",
    "- **F1 Score**\n",
    "- **ROC AUC** (Receiver Operating Characteristic Area Under Curve)\n",
    "- **Precision-Recall AUC**\n",
    "- **Specificity**\n"
   ]
  },
  {
   "cell_type": "markdown",
   "id": "ce0beab9",
   "metadata": {},
   "source": []
  }
 ],
 "metadata": {
  "kernelspec": {
   "display_name": "base",
   "language": "python",
   "name": "python3"
  },
  "language_info": {
   "name": "python",
   "version": "3.12.4"
  }
 },
 "nbformat": 4,
 "nbformat_minor": 5
}
