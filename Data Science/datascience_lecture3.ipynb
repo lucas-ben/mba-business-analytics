{
 "cells": [
  {
   "cell_type": "markdown",
   "id": "a6ae302d",
   "metadata": {},
   "source": [
    "# **Model Interpretability**"
   ]
  },
  {
   "cell_type": "markdown",
   "id": "a252c983",
   "metadata": {},
   "source": [
    "- coefficients are bias to the scale of the feature that I'm using\n",
    "- random forest model randomly samples columns and rows (if a feature isn't sampled I have no way of knowing)\n",
    "- information gain will make a tree deeper, gini impurity will make a tree wider"
   ]
  },
  {
   "cell_type": "markdown",
   "id": "80f30cb8",
   "metadata": {},
   "source": [
    "SHAP and LIME are model agnostic (can use them on any model)\n",
    "    remove bias and assess feature importance\n",
    "    allow us to understand which features were used for specific observations\n",
    "    allow us to understand overall model feature importance\n"
   ]
  },
  {
   "cell_type": "markdown",
   "id": "c1780303",
   "metadata": {},
   "source": [
    "- most models don't have built-in feature importance tool\n",
    "- Only linear regression with their coefficients and tree models"
   ]
  },
  {
   "cell_type": "markdown",
   "id": "3b77b5f5",
   "metadata": {},
   "source": [
    "**SHAP**\n",
    "- plots to understand feature importance\n",
    "- features work together to make a prediction in different situations\n",
    "- tries to attribute a percentage of that explanataion to different features\n",
    "- SHAP can break down a residual into which features drove most of the prediction\n",
    "- SHAP is industry standard and can be used on any data set\n",
    "\n",
    "Why SHAP is used\n",
    "- Consistent and accurate\n",
    "- SHAP has a consistent result regardless of which model is chosen\n",
    "- SHAP doesn't overstate the importance of the feature\n",
    "    - (SHAP isn't biased to a single observation)\n",
    "- isolate each feature, permutate through each feature, make a prediction then average across all predictions\n"
   ]
  },
  {
   "cell_type": "markdown",
   "id": "e0f18f9b",
   "metadata": {},
   "source": [
    "**LIME**\n",
    "- LIME is less used in industry than SHAP\n",
    "- LIME is used to interpret specific observations whereas SHAP is used to interpret a model's methodology of making predictions"
   ]
  },
  {
   "cell_type": "code",
   "execution_count": null,
   "id": "32338419",
   "metadata": {},
   "outputs": [],
   "source": [
    "# finishing resampling from Lecture 2"
   ]
  }
 ],
 "metadata": {
  "kernelspec": {
   "display_name": "base",
   "language": "python",
   "name": "python3"
  },
  "language_info": {
   "name": "python",
   "version": "3.12.4"
  }
 },
 "nbformat": 4,
 "nbformat_minor": 5
}
