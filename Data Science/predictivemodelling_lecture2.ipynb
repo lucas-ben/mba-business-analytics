{
 "cells": [
  {
   "cell_type": "code",
   "execution_count": 1,
   "id": "1509c370",
   "metadata": {},
   "outputs": [],
   "source": [
    "import numpy as np"
   ]
  },
  {
   "cell_type": "code",
   "execution_count": 2,
   "id": "d5c165a5",
   "metadata": {},
   "outputs": [],
   "source": [
    "# common elements of Python\n",
    "# lists, tuples, sets and dictionaries\n",
    "# common operations >> conditionals, loops\n",
    "# numpy operations\n",
    "# common pandas operations"
   ]
  },
  {
   "cell_type": "code",
   "execution_count": 3,
   "id": "2bce79aa",
   "metadata": {},
   "outputs": [],
   "source": [
    "# lists --> []\n",
    "list1 = [12, 15, 78, 15, 25]\n"
   ]
  },
  {
   "cell_type": "code",
   "execution_count": 4,
   "id": "f774abda",
   "metadata": {},
   "outputs": [
    {
     "data": {
      "text/plain": [
       "[12, 15, 78, 15, 25, 100]"
      ]
     },
     "execution_count": 4,
     "metadata": {},
     "output_type": "execute_result"
    }
   ],
   "source": [
    "list1.append(100)\n",
    "list1"
   ]
  },
  {
   "cell_type": "code",
   "execution_count": 5,
   "id": "0b0c5a9a",
   "metadata": {},
   "outputs": [
    {
     "data": {
      "text/plain": [
       "[12, 15, 78, 15, 25, 100, [100, 200]]"
      ]
     },
     "execution_count": 5,
     "metadata": {},
     "output_type": "execute_result"
    }
   ],
   "source": [
    "# when you append a LIST of items you get a nested list\n",
    "list1.append([100, 200])\n",
    "list1"
   ]
  },
  {
   "cell_type": "code",
   "execution_count": 6,
   "id": "48dac107",
   "metadata": {},
   "outputs": [
    {
     "data": {
      "text/plain": [
       "[12, 15, 1000, 78, 15, 25, 100, [100, 200]]"
      ]
     },
     "execution_count": 6,
     "metadata": {},
     "output_type": "execute_result"
    }
   ],
   "source": [
    "# insert a value at a specific position\n",
    "list1.insert(2, 1000)\n",
    "list1"
   ]
  },
  {
   "cell_type": "code",
   "execution_count": 7,
   "id": "ce4e3ae3",
   "metadata": {},
   "outputs": [
    {
     "data": {
      "text/plain": [
       "[12, 15, 1000, 78, 15, 25, 100]"
      ]
     },
     "execution_count": 7,
     "metadata": {},
     "output_type": "execute_result"
    }
   ],
   "source": [
    "# pop() or remove()\n",
    "list1.pop(7)\n",
    "list1"
   ]
  },
  {
   "cell_type": "code",
   "execution_count": 8,
   "id": "143dac17",
   "metadata": {},
   "outputs": [],
   "source": [
    "# remove() --> first time the value occurs\n",
    "list1.remove(15)"
   ]
  },
  {
   "cell_type": "code",
   "execution_count": 9,
   "id": "26dea45d",
   "metadata": {},
   "outputs": [
    {
     "data": {
      "text/plain": [
       "5"
      ]
     },
     "execution_count": 9,
     "metadata": {},
     "output_type": "execute_result"
    }
   ],
   "source": [
    "# index() tells you the FIRST index position of a value\n",
    "list1.index(100)"
   ]
  },
  {
   "cell_type": "code",
   "execution_count": 10,
   "id": "f367fde2",
   "metadata": {},
   "outputs": [
    {
     "data": {
      "text/plain": [
       "1"
      ]
     },
     "execution_count": 10,
     "metadata": {},
     "output_type": "execute_result"
    }
   ],
   "source": [
    "# count() will tell you how many of a specific value you have\n",
    "list1.count(100)"
   ]
  },
  {
   "cell_type": "code",
   "execution_count": 11,
   "id": "fd1525b3",
   "metadata": {},
   "outputs": [
    {
     "data": {
      "text/plain": [
       "12"
      ]
     },
     "execution_count": 11,
     "metadata": {},
     "output_type": "execute_result"
    }
   ],
   "source": [
    "# indexing and slicing\n",
    "list1[0]"
   ]
  },
  {
   "cell_type": "code",
   "execution_count": 12,
   "id": "5d5051fc",
   "metadata": {},
   "outputs": [
    {
     "data": {
      "text/plain": [
       "[15, 25, 100]"
      ]
     },
     "execution_count": 12,
     "metadata": {},
     "output_type": "execute_result"
    }
   ],
   "source": [
    "# slice -- isolate a range of values\n",
    "list1[3:7]"
   ]
  },
  {
   "cell_type": "code",
   "execution_count": 13,
   "id": "f25e9f10",
   "metadata": {},
   "outputs": [
    {
     "data": {
      "text/plain": [
       "[1000, 15, 100]"
      ]
     },
     "execution_count": 13,
     "metadata": {},
     "output_type": "execute_result"
    }
   ],
   "source": [
    "# starting position : ending position : step (2 = every other item)\n",
    "list1[1:8:2]"
   ]
  },
  {
   "cell_type": "code",
   "execution_count": 14,
   "id": "8cec6a07",
   "metadata": {},
   "outputs": [],
   "source": [
    "# lists support item assignment meaning we can overwrite values\n",
    "list1[0] = 4000"
   ]
  },
  {
   "cell_type": "code",
   "execution_count": 16,
   "id": "532851b8",
   "metadata": {},
   "outputs": [],
   "source": [
    "# tuple --> defined with round brackets ()\n",
    "tuple1 = (8, 7, 6, 15)"
   ]
  },
  {
   "cell_type": "code",
   "execution_count": 17,
   "id": "10fbdb5f",
   "metadata": {},
   "outputs": [
    {
     "data": {
      "text/plain": [
       "1"
      ]
     },
     "execution_count": 17,
     "metadata": {},
     "output_type": "execute_result"
    }
   ],
   "source": [
    "# count the number of elements of a certain value\n",
    "tuple1.count(8)"
   ]
  },
  {
   "cell_type": "code",
   "execution_count": 18,
   "id": "58722e6b",
   "metadata": {},
   "outputs": [
    {
     "data": {
      "text/plain": [
       "3"
      ]
     },
     "execution_count": 18,
     "metadata": {},
     "output_type": "execute_result"
    }
   ],
   "source": [
    "# find the first position of a certain value\n",
    "tuple1.index(15)"
   ]
  },
  {
   "cell_type": "code",
   "execution_count": 19,
   "id": "8670039d",
   "metadata": {},
   "outputs": [
    {
     "ename": "TypeError",
     "evalue": "'tuple' object does not support item assignment",
     "output_type": "error",
     "traceback": [
      "\u001b[0;31m---------------------------------------------------------------------------\u001b[0m",
      "\u001b[0;31mTypeError\u001b[0m                                 Traceback (most recent call last)",
      "Cell \u001b[0;32mIn[19], line 2\u001b[0m\n\u001b[1;32m      1\u001b[0m \u001b[38;5;66;03m# you cannot overwrite or change values in a tuple\u001b[39;00m\n\u001b[0;32m----> 2\u001b[0m tuple1[\u001b[38;5;241m0\u001b[39m] \u001b[38;5;241m=\u001b[39m \u001b[38;5;241m1000\u001b[39m\n",
      "\u001b[0;31mTypeError\u001b[0m: 'tuple' object does not support item assignment"
     ]
    }
   ],
   "source": [
    "# you cannot overwrite or change values in a tuple\n",
    "tuple1[0] = 1000"
   ]
  },
  {
   "cell_type": "code",
   "execution_count": 21,
   "id": "d9fe07c6",
   "metadata": {},
   "outputs": [
    {
     "data": {
      "text/plain": [
       "{12, 13, 15, 18, 25, 100}"
      ]
     },
     "execution_count": 21,
     "metadata": {},
     "output_type": "execute_result"
    }
   ],
   "source": [
    "# setes --> {}\n",
    "set1 = {12, 13, 15, 18, 25, 15, 100, 100}\n",
    "set1 # sets do not hold duplicate values, even if you define one with dupes it will remove them\n",
    "# can convert a list to a set and it will remove all the duplicates for you\n",
    "# sets are useful when comparing/contrasting multiple data collections, not very useful by itself"
   ]
  },
  {
   "cell_type": "code",
   "execution_count": 22,
   "id": "f9bc2eec",
   "metadata": {},
   "outputs": [],
   "source": [
    "set2 = {13, 100, 18, 14, 27, 35}"
   ]
  },
  {
   "cell_type": "code",
   "execution_count": 23,
   "id": "a5998bf2",
   "metadata": {},
   "outputs": [
    {
     "data": {
      "text/plain": [
       "{13, 18, 100}"
      ]
     },
     "execution_count": 23,
     "metadata": {},
     "output_type": "execute_result"
    }
   ],
   "source": [
    "# find common elements\n",
    "set1.intersection(set2)"
   ]
  },
  {
   "cell_type": "code",
   "execution_count": 24,
   "id": "73958dd7",
   "metadata": {},
   "outputs": [
    {
     "data": {
      "text/plain": [
       "{12, 15, 25}"
      ]
     },
     "execution_count": 24,
     "metadata": {},
     "output_type": "execute_result"
    }
   ],
   "source": [
    "# find elements that exist in set 1 but not in set 2\n",
    "set1.difference(set2)"
   ]
  },
  {
   "cell_type": "code",
   "execution_count": 26,
   "id": "79234ee4",
   "metadata": {},
   "outputs": [
    {
     "data": {
      "text/plain": [
       "{14, 27, 35}"
      ]
     },
     "execution_count": 26,
     "metadata": {},
     "output_type": "execute_result"
    }
   ],
   "source": [
    "set2.difference(set1) # elements in set 2 but not in set 1"
   ]
  },
  {
   "cell_type": "code",
   "execution_count": 27,
   "id": "f8f6af97",
   "metadata": {},
   "outputs": [
    {
     "data": {
      "text/plain": [
       "{14, 27, 35}"
      ]
     },
     "execution_count": 27,
     "metadata": {},
     "output_type": "execute_result"
    }
   ],
   "source": [
    "# If I only want to keep elements in set2 which are different than set1\n",
    "set2.difference_update(set1)\n",
    "set2"
   ]
  },
  {
   "cell_type": "markdown",
   "id": "03b84c32",
   "metadata": {},
   "source": [
    "https://docs.python.org/3/library/functions.html"
   ]
  },
  {
   "cell_type": "code",
   "execution_count": 28,
   "id": "e77f7333",
   "metadata": {},
   "outputs": [],
   "source": [
    "# dictionaries\n",
    "dict1 = {'ON': 'Toronto', 'MB': 'Winnipeg', 'SK': 'Regina', 'BC': 'Victoria'}\n"
   ]
  },
  {
   "cell_type": "code",
   "execution_count": null,
   "id": "bc1dac1f",
   "metadata": {},
   "outputs": [
    {
     "data": {
      "text/plain": [
       "dict_keys(['ON', 'MB', 'SK', 'BC'])"
      ]
     },
     "execution_count": 29,
     "metadata": {},
     "output_type": "execute_result"
    }
   ],
   "source": [
    "dict1.keys() # all the keys of the dictionary, highest level of information in the dictionary"
   ]
  },
  {
   "cell_type": "code",
   "execution_count": 30,
   "id": "0179345f",
   "metadata": {},
   "outputs": [
    {
     "data": {
      "text/plain": [
       "dict_values(['Toronto', 'Winnipeg', 'Regina', 'Victoria'])"
      ]
     },
     "execution_count": 30,
     "metadata": {},
     "output_type": "execute_result"
    }
   ],
   "source": [
    "dict1.values() # all the values of the dictionary"
   ]
  },
  {
   "cell_type": "code",
   "execution_count": 31,
   "id": "ee6582a4",
   "metadata": {},
   "outputs": [],
   "source": [
    "# hierarchical data example\n",
    "dict2 = {'customer1': {'books':['book1', 'book2'], 'food':['chips', 'tomatoes']}, 'customer2': {'clothing':['socks', 'shirt'], 'electronics':['tv', 'phone']}}"
   ]
  },
  {
   "cell_type": "code",
   "execution_count": 33,
   "id": "f9161251",
   "metadata": {},
   "outputs": [
    {
     "data": {
      "text/plain": [
       "dict_keys(['customer1', 'customer2'])"
      ]
     },
     "execution_count": 33,
     "metadata": {},
     "output_type": "execute_result"
    }
   ],
   "source": [
    "dict2.keys()"
   ]
  },
  {
   "cell_type": "code",
   "execution_count": 34,
   "id": "d2f708d8",
   "metadata": {},
   "outputs": [
    {
     "data": {
      "text/plain": [
       "dict_values([{'books': ['book1', 'book2'], 'food': ['chips', 'tomatoes']}, {'clothing': ['socks', 'shirt'], 'electronics': ['tv', 'phone']}])"
      ]
     },
     "execution_count": 34,
     "metadata": {},
     "output_type": "execute_result"
    }
   ],
   "source": [
    "dict2.values() # example of unstructured data"
   ]
  },
  {
   "cell_type": "code",
   "execution_count": 35,
   "id": "201704e3",
   "metadata": {},
   "outputs": [
    {
     "data": {
      "text/plain": [
       "dict_keys(['books', 'food'])"
      ]
     },
     "execution_count": 35,
     "metadata": {},
     "output_type": "execute_result"
    }
   ],
   "source": [
    "dict2['customer1'].keys()"
   ]
  },
  {
   "cell_type": "code",
   "execution_count": 36,
   "id": "e932a1bf",
   "metadata": {},
   "outputs": [
    {
     "data": {
      "text/plain": [
       "dict_values([['book1', 'book2'], ['chips', 'tomatoes']])"
      ]
     },
     "execution_count": 36,
     "metadata": {},
     "output_type": "execute_result"
    }
   ],
   "source": [
    "dict2['customer1'].values()"
   ]
  },
  {
   "cell_type": "code",
   "execution_count": 37,
   "id": "44943666",
   "metadata": {},
   "outputs": [
    {
     "data": {
      "text/plain": [
       "{'customer1': {'books': ['book1', 'book2'], 'food': ['chips', 'tomatoes']},\n",
       " 'customer2': {'clothing': ['socks', 'shirt'], 'electronics': ['tv', 'phone']},\n",
       " 'customer3': {'groceries': ['chips', 'pop'],\n",
       "  'shoes': ['running shoes', 'tennis shoes']}}"
      ]
     },
     "execution_count": 37,
     "metadata": {},
     "output_type": "execute_result"
    }
   ],
   "source": [
    "# adding a new key:value to a dictionary - just add one that doesn't exist\n",
    "dict2['customer3'] = {'groceries':['chips', 'pop'], 'shoes':['running shoes', 'tennis shoes']}\n",
    "dict2"
   ]
  },
  {
   "cell_type": "code",
   "execution_count": 38,
   "id": "eed2da87",
   "metadata": {},
   "outputs": [
    {
     "data": {
      "text/plain": [
       "{'customer1': {'books': ['book1', 'book2'], 'food': ['chips', 'tomatoes']},\n",
       " 'customer2': {'clothing': ['socks', 'shirt'], 'electronics': ['tv', 'phone']}}"
      ]
     },
     "execution_count": 38,
     "metadata": {},
     "output_type": "execute_result"
    }
   ],
   "source": [
    "# removing an element, we can use pop()\n",
    "dict2.pop('customer3')\n",
    "dict2"
   ]
  },
  {
   "cell_type": "code",
   "execution_count": 39,
   "id": "3173980e",
   "metadata": {},
   "outputs": [
    {
     "data": {
      "text/plain": [
       "dict_items([('customer1', {'books': ['book1', 'book2'], 'food': ['chips', 'tomatoes']}), ('customer2', {'clothing': ['socks', 'shirt'], 'electronics': ['tv', 'phone']})])"
      ]
     },
     "execution_count": 39,
     "metadata": {},
     "output_type": "execute_result"
    }
   ],
   "source": [
    "dict2.items()"
   ]
  },
  {
   "cell_type": "code",
   "execution_count": 47,
   "id": "d10ff19b",
   "metadata": {},
   "outputs": [],
   "source": [
    "# conditional statements\n",
    "x = 9*12/14+100"
   ]
  },
  {
   "cell_type": "code",
   "execution_count": 43,
   "id": "5cb33c7f",
   "metadata": {},
   "outputs": [
    {
     "name": "stdout",
     "output_type": "stream",
     "text": [
      "107.71428571428571 is greater than 10\n"
     ]
    }
   ],
   "source": [
    "if x > 10:\n",
    "    print(f'{x} is greater than 10')\n",
    "else:\n",
    "    print(f'{x} is not greater than 10')"
   ]
  },
  {
   "cell_type": "code",
   "execution_count": 49,
   "id": "ed4d7dce",
   "metadata": {},
   "outputs": [
    {
     "name": "stdout",
     "output_type": "stream",
     "text": [
      "0.4648268398268398 is not greater than 10\n",
      "0.4648268398268398\n"
     ]
    }
   ],
   "source": [
    "if x > 10:\n",
    "    x = (x + 15) / 22 # initial transformation\n",
    "    x = x/12 # secondary transformation\n",
    "else:\n",
    "    print(f'{x} is not greater than 10')\n",
    "print(x)"
   ]
  },
  {
   "cell_type": "code",
   "execution_count": null,
   "id": "4678b846",
   "metadata": {},
   "outputs": [
    {
     "name": "stdout",
     "output_type": "stream",
     "text": [
      "0\n"
     ]
    }
   ],
   "source": [
    "# make sure conditions are mutually exclusive\n",
    "if x > 10:\n",
    "    x = (x + 15) / 22 # initial transformation\n",
    "    x = x/12 # secondary transformation\n",
    "    print(f'{x} is calculated')\n",
    "\n",
    "elif x > 5 and x <= 10:\n",
    "    x = (x + 10) / 12\n",
    "    print(x)\n",
    "else:\n",
    "    x = 0\n",
    "print(x)"
   ]
  },
  {
   "cell_type": "code",
   "execution_count": null,
   "id": "0ae40c72",
   "metadata": {},
   "outputs": [
    {
     "name": "stdout",
     "output_type": "stream",
     "text": [
      "15.208333333333334 is calculated\n",
      "3.8446969696969693 is calculated\n",
      "0.3522727272727273 is calculated\n",
      "0.11363636363636363 is calculated\n",
      "0.15151515151515152 is calculated\n",
      "0.4356060606060606 is calculated\n",
      "0.4356060606060606\n"
     ]
    }
   ],
   "source": [
    "# looping -- the for loop\n",
    "# for each item in a collection, preform some action\n",
    "for i in list1: # example of a mathematical transformation\n",
    "    if i > 10:\n",
    "        i = (i + 15) / 22\n",
    "        i = i / 12\n",
    "        print(f'{i} is calculated')\n",
    "    elif i > 5 and i <= 100:\n",
    "        i = (i + 10) / 12\n",
    "        print(i)\n",
    "    else:\n",
    "        i = 0\n",
    "\n",
    "print(i)"
   ]
  },
  {
   "cell_type": "code",
   "execution_count": 54,
   "id": "cebe8c81",
   "metadata": {},
   "outputs": [
    {
     "name": "stdout",
     "output_type": "stream",
     "text": [
      "customer1\n",
      "customer2\n"
     ]
    }
   ],
   "source": [
    "for i in dict2: \n",
    "    print(i)\n",
    "# only prints the keys from a dictionary/\n"
   ]
  },
  {
   "cell_type": "code",
   "execution_count": 56,
   "id": "593ad7f0",
   "metadata": {},
   "outputs": [
    {
     "name": "stdout",
     "output_type": "stream",
     "text": [
      "('customer1', {'books': ['book1', 'book2'], 'food': ['chips', 'tomatoes']})\n",
      "('customer2', {'clothing': ['socks', 'shirt'], 'electronics': ['tv', 'phone']})\n"
     ]
    }
   ],
   "source": [
    "for i in dict2.items():\n",
    "    print(i)\n",
    "# will output a tuple - the key and the dictionary"
   ]
  },
  {
   "cell_type": "code",
   "execution_count": 57,
   "id": "00b40c99",
   "metadata": {},
   "outputs": [],
   "source": [
    "# we can use the loop to structure the data, by isolating specific elements and structure the data so it is more useable"
   ]
  },
  {
   "cell_type": "code",
   "execution_count": null,
   "id": "94564ede",
   "metadata": {},
   "outputs": [
    {
     "name": "stdout",
     "output_type": "stream",
     "text": [
      "books\n",
      "['book1', 'book2']\n",
      "food\n",
      "['chips', 'tomatoes']\n",
      "clothing\n",
      "['socks', 'shirt']\n",
      "electronics\n",
      "['tv', 'phone']\n"
     ]
    }
   ],
   "source": [
    "# calculate how many items from each major category were ordered\n",
    "for key, value in dict2.items():\n",
    "    # need to isolate the categories (keys)\n",
    "    # I need a nested dictionary\n",
    "    # detupled the tuple\n",
    "    for a, b in value.items(): # nested for loop which separates the category and the number of items\n",
    "        print(a)\n",
    "        print(b)\n"
   ]
  },
  {
   "cell_type": "code",
   "execution_count": 62,
   "id": "b30900ab",
   "metadata": {},
   "outputs": [
    {
     "name": "stdout",
     "output_type": "stream",
     "text": [
      "['books', 'food', 'clothing', 'electronics']\n",
      "[]\n",
      "4\n",
      "0\n"
     ]
    }
   ],
   "source": [
    "categories_w_purchases = []\n",
    "items_purchased = []\n",
    "num_categories = 0\n",
    "num_items = 0\n",
    "\n",
    "for key, value in dict2.items():\n",
    "    for a, b in value.items():\n",
    "        if a not in categories_w_purchases:\n",
    "            categories_w_purchases.append(a)\n",
    "            num_categories += 1\n",
    "print(categories_w_purchases)\n",
    "print(items_purchased)\n",
    "print(num_categories)\n",
    "print(num_items)\n"
   ]
  },
  {
   "cell_type": "code",
   "execution_count": 63,
   "id": "b05029cf",
   "metadata": {},
   "outputs": [
    {
     "name": "stdout",
     "output_type": "stream",
     "text": [
      "['books', 'food', 'clothing', 'electronics']\n",
      "['book1', 'book2', 'chips', 'tomatoes', 'socks', 'shirt', 'tv', 'phone']\n",
      "4\n",
      "8\n"
     ]
    }
   ],
   "source": [
    "# calculate how many items from each major category were ordered\n",
    "categories_w_purchases = []\n",
    "items_purchased = []\n",
    "num_categories = 0\n",
    "num_items = 0\n",
    "\n",
    "for key, value in dict2.items():\n",
    "  for a, b in value.items():\n",
    "    if a not in categories_w_purchases:\n",
    "      categories_w_purchases.append(a)\n",
    "      num_categories += 1\n",
    "    for item in b:\n",
    "      if item not in items_purchased:\n",
    "        items_purchased.append(item)\n",
    "        num_items += 1\n",
    "\n",
    "print(categories_w_purchases)\n",
    "print(items_purchased)\n",
    "print(num_categories)\n",
    "print(num_items)"
   ]
  },
  {
   "cell_type": "code",
   "execution_count": 64,
   "id": "93f372b3",
   "metadata": {},
   "outputs": [
    {
     "name": "stdout",
     "output_type": "stream",
     "text": [
      "['books', 'food', 'clothing', 'electronics']\n",
      "['book1', 'book2', 'chips', 'tomatoes', 'socks', 'shirt', 'tv', 'phone']\n",
      "4\n",
      "8\n"
     ]
    }
   ],
   "source": [
    "# calculate how many items from each major category were ordered\n",
    "categories_w_purchases = []\n",
    "items_purchased = []\n",
    "num_categories = 0\n",
    "num_items = 0\n",
    "num_items_by_category = {}\n",
    "\n",
    "for key, value in dict2.items():\n",
    "  for a, b in value.items():\n",
    "    if a not in categories_w_purchases:\n",
    "      categories_w_purchases.append(a)\n",
    "      num_categories += 1\n",
    "    for item in b:\n",
    "      if item not in items_purchased:\n",
    "        items_purchased.append(item)\n",
    "        num_items += 1\n",
    "      if a not in num_items_by_category.keys():\n",
    "        num_items_by_category[a] = 1\n",
    "      else:\n",
    "        num_items_by_category[a] += 1\n",
    "\n",
    "print(categories_w_purchases)\n",
    "print(items_purchased)\n",
    "print(num_categories)\n",
    "print(num_items)"
   ]
  },
  {
   "cell_type": "code",
   "execution_count": 65,
   "id": "15cd8e95",
   "metadata": {},
   "outputs": [
    {
     "data": {
      "text/plain": [
       "{'customer1': {'books': ['book1', 'book2'], 'food': ['chips', 'tomatoes']},\n",
       " 'customer2': {'clothing': ['socks', 'shirt'], 'electronics': ['tv', 'phone']}}"
      ]
     },
     "execution_count": 65,
     "metadata": {},
     "output_type": "execute_result"
    }
   ],
   "source": [
    "dict2"
   ]
  },
  {
   "cell_type": "code",
   "execution_count": null,
   "id": "9365664b",
   "metadata": {},
   "outputs": [
    {
     "data": {
      "text/plain": [
       "array([4000, 1000,   78,   15,   25,  100])"
      ]
     },
     "execution_count": 67,
     "metadata": {},
     "output_type": "execute_result"
    }
   ],
   "source": [
    "# numpy\n",
    "arr1 = np.array(list1)\n",
    "arr1"
   ]
  },
  {
   "cell_type": "code",
   "execution_count": 68,
   "id": "0ef78bae",
   "metadata": {},
   "outputs": [
    {
     "data": {
      "text/plain": [
       "array([4000., 1000.,   78.,   15.,   25.,  100.])"
      ]
     },
     "execution_count": 68,
     "metadata": {},
     "output_type": "execute_result"
    }
   ],
   "source": [
    "arr1.astype(float)"
   ]
  },
  {
   "cell_type": "code",
   "execution_count": 79,
   "id": "32255116",
   "metadata": {},
   "outputs": [
    {
     "data": {
      "text/plain": [
       "4000"
      ]
     },
     "execution_count": 79,
     "metadata": {},
     "output_type": "execute_result"
    }
   ],
   "source": [
    "arr1[0]"
   ]
  },
  {
   "cell_type": "code",
   "execution_count": 76,
   "id": "65faf1f0",
   "metadata": {},
   "outputs": [],
   "source": [
    "arr1 = np.append(arr1, [500, 200, 100])"
   ]
  },
  {
   "cell_type": "code",
   "execution_count": 80,
   "id": "3d22f313",
   "metadata": {},
   "outputs": [
    {
     "ename": "ValueError",
     "evalue": "cannot reshape array of size 14 into shape (5,2)",
     "output_type": "error",
     "traceback": [
      "\u001b[0;31m---------------------------------------------------------------------------\u001b[0m",
      "\u001b[0;31mValueError\u001b[0m                                Traceback (most recent call last)",
      "Cell \u001b[0;32mIn[80], line 1\u001b[0m\n\u001b[0;32m----> 1\u001b[0m arr1\u001b[38;5;241m.\u001b[39mreshape(\u001b[38;5;241m5\u001b[39m,\u001b[38;5;241m2\u001b[39m)\n",
      "\u001b[0;31mValueError\u001b[0m: cannot reshape array of size 14 into shape (5,2)"
     ]
    }
   ],
   "source": [
    "arr1.reshape(5,2)"
   ]
  },
  {
   "cell_type": "code",
   "execution_count": 82,
   "id": "6aa5e475",
   "metadata": {},
   "outputs": [],
   "source": [
    "arr2 = np.array([[12, 15, 78], [15, 25, 100], [4000, 100, 200]])"
   ]
  },
  {
   "cell_type": "code",
   "execution_count": 85,
   "id": "e616f634",
   "metadata": {},
   "outputs": [],
   "source": [
    "arr3 = np.array([10])"
   ]
  },
  {
   "cell_type": "code",
   "execution_count": 86,
   "id": "580af364",
   "metadata": {},
   "outputs": [
    {
     "data": {
      "text/plain": [
       "array([[  22,   25,   88],\n",
       "       [  25,   35,  110],\n",
       "       [4010,  110,  210]])"
      ]
     },
     "execution_count": 86,
     "metadata": {},
     "output_type": "execute_result"
    }
   ],
   "source": [
    "arr2 + arr3"
   ]
  },
  {
   "cell_type": "code",
   "execution_count": null,
   "id": "8db75528",
   "metadata": {},
   "outputs": [],
   "source": []
  }
 ],
 "metadata": {
  "kernelspec": {
   "display_name": "base",
   "language": "python",
   "name": "python3"
  },
  "language_info": {
   "codemirror_mode": {
    "name": "ipython",
    "version": 3
   },
   "file_extension": ".py",
   "mimetype": "text/x-python",
   "name": "python",
   "nbconvert_exporter": "python",
   "pygments_lexer": "ipython3",
   "version": "3.12.4"
  }
 },
 "nbformat": 4,
 "nbformat_minor": 5
}
