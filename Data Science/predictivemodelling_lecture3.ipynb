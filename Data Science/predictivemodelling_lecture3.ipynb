{
 "cells": [
  {
   "cell_type": "markdown",
   "id": "7644a2fe",
   "metadata": {},
   "source": [
    "- Want to represent problems as linear problems because of ease of explainability, ability to make decisions (proxy for decision making)\n",
    "- Collinearity might over or under estimate the coefficient\n",
    "- How to get rid of collinearity:\n",
    "    - Remove redundant variables (linearly dependent combinations)\n",
    "    - Use PCA\n",
    "- MLE is used in deep learning models\n",
    "- A data set represents a snapshot in time so we will never know the true function, MLE is one of the best ways to get to the population parameters\n",
    "- Correlation between the indepdent variables and the error could be resolved by adding more data (variables or data points)\n",
    "- Steps: Reduce the number of variables in the model (dimensionality reduction), increase the number of variables in the model, or collect more observations\n",
    "- durben-watson test for autocorrelation"
   ]
  },
  {
   "cell_type": "markdown",
   "id": "64878744",
   "metadata": {},
   "source": []
  },
  {
   "cell_type": "markdown",
   "id": "d1206b06",
   "metadata": {},
   "source": [
    "## **Demonstrating how model performance degrades with autocorrelation** using simulated data"
   ]
  },
  {
   "cell_type": "code",
   "execution_count": 1,
   "id": "7e05ca19",
   "metadata": {},
   "outputs": [],
   "source": [
    "import numpy as np\n",
    "import pandas as pd\n",
    "import matplotlib.pyplot as plt\n",
    "import statsmodels.api as sm"
   ]
  },
  {
   "cell_type": "code",
   "execution_count": 2,
   "id": "ecfb9dc8",
   "metadata": {},
   "outputs": [],
   "source": [
    "mu, sigma = 0, 5\n",
    "x = np.random.uniform(40,80,100)\n",
    "epsilon = np.random.normal(mu, sigma, 100)\n",
    "y = 3 + 4*x + epsilon"
   ]
  },
  {
   "cell_type": "code",
   "execution_count": 3,
   "id": "14d967be",
   "metadata": {},
   "outputs": [],
   "source": [
    "model_reg = sm.OLS(y,x).fit()"
   ]
  },
  {
   "cell_type": "code",
   "execution_count": null,
   "id": "81445ae4",
   "metadata": {},
   "outputs": [
    {
     "name": "stdout",
     "output_type": "stream",
     "text": [
      "                                 OLS Regression Results                                \n",
      "=======================================================================================\n",
      "Dep. Variable:                      y   R-squared (uncentered):                   0.999\n",
      "Model:                            OLS   Adj. R-squared (uncentered):              0.999\n",
      "Method:                 Least Squares   F-statistic:                          1.903e+05\n",
      "Date:                Tue, 23 Sep 2025   Prob (F-statistic):                   2.19e-164\n",
      "Time:                        20:45:21   Log-Likelihood:                         -314.61\n",
      "No. Observations:                 100   AIC:                                      631.2\n",
      "Df Residuals:                      99   BIC:                                      633.8\n",
      "Df Model:                           1                                                  \n",
      "Covariance Type:            nonrobust                                                  \n",
      "==============================================================================\n",
      "                 coef    std err          t      P>|t|      [0.025      0.975]\n",
      "------------------------------------------------------------------------------\n",
      "x1             4.0510      0.009    436.276      0.000       4.033       4.069\n",
      "==============================================================================\n",
      "Omnibus:                        1.152   Durbin-Watson:                   1.882\n",
      "Prob(Omnibus):                  0.562   Jarque-Bera (JB):                0.648\n",
      "Skew:                           0.077   Prob(JB):                        0.723\n",
      "Kurtosis:                       3.363   Cond. No.                         1.00\n",
      "==============================================================================\n",
      "\n",
      "Notes:\n",
      "[1] R² is computed without centering (uncentered) since the model does not contain a constant.\n",
      "[2] Standard Errors assume that the covariance matrix of the errors is correctly specified.\n"
     ]
    }
   ],
   "source": [
    "print(model_reg.summary()) # OLS assumes heteroskedacity and autocorrelation don't exist (this is what Covariance Type: nonrobust means)"
   ]
  },
  {
   "cell_type": "code",
   "execution_count": 6,
   "id": "12fd3155",
   "metadata": {},
   "outputs": [
    {
     "name": "stdout",
     "output_type": "stream",
     "text": [
      "                            OLS Regression Results                            \n",
      "==============================================================================\n",
      "Dep. Variable:                      y   R-squared:                       0.985\n",
      "Model:                            OLS   Adj. R-squared:                  0.985\n",
      "Method:                 Least Squares   F-statistic:                     6563.\n",
      "Date:                Tue, 23 Sep 2025   Prob (F-statistic):           1.33e-91\n",
      "Time:                        20:49:08   Log-Likelihood:                -311.72\n",
      "No. Observations:                 100   AIC:                             627.4\n",
      "Df Residuals:                      98   BIC:                             632.7\n",
      "Df Model:                           1                                         \n",
      "Covariance Type:            nonrobust                                         \n",
      "==============================================================================\n",
      "                 coef    std err          t      P>|t|      [0.025      0.975]\n",
      "------------------------------------------------------------------------------\n",
      "const          7.1336      2.958      2.412      0.018       1.264      13.003\n",
      "x1             3.9359      0.049     81.013      0.000       3.839       4.032\n",
      "==============================================================================\n",
      "Omnibus:                        1.278   Durbin-Watson:                   1.765\n",
      "Prob(Omnibus):                  0.528   Jarque-Bera (JB):                0.762\n",
      "Skew:                           0.079   Prob(JB):                        0.683\n",
      "Kurtosis:                       3.397   Cond. No.                         326.\n",
      "==============================================================================\n",
      "\n",
      "Notes:\n",
      "[1] Standard Errors assume that the covariance matrix of the errors is correctly specified.\n"
     ]
    }
   ],
   "source": [
    "x_updated = sm.add_constant(x)\n",
    "model_updated = sm.OLS(y, x_updated).fit()\n",
    "print(model_updated.summary())"
   ]
  },
  {
   "cell_type": "code",
   "execution_count": 7,
   "id": "85242dd7",
   "metadata": {},
   "outputs": [
    {
     "name": "stderr",
     "output_type": "stream",
     "text": [
      "/var/folders/3n/b26hkpfd71x2jvpstpknt4ch0000gn/T/ipykernel_43560/2748598615.py:1: DeprecationWarning: Conversion of an array with ndim > 0 to a scalar is deprecated, and will error in future. Ensure you extract a single element from your array before performing this operation. (Deprecated NumPy 1.25.)\n",
      "  epsilon[0] = np.random.normal(mu, sigma, 1)\n",
      "/var/folders/3n/b26hkpfd71x2jvpstpknt4ch0000gn/T/ipykernel_43560/2748598615.py:3: DeprecationWarning: Conversion of an array with ndim > 0 to a scalar is deprecated, and will error in future. Ensure you extract a single element from your array before performing this operation. (Deprecated NumPy 1.25.)\n",
      "  epsilon[i+1] = 0.4*epsilon[i] + 0.6*np.random.normal(mu, sigma, 1)\n"
     ]
    }
   ],
   "source": [
    "epsilon[0] = np.random.normal(mu, sigma, 1)\n",
    "for i in range(0,99):\n",
    "  epsilon[i+1] = 0.4*epsilon[i] + 0.6*np.random.normal(mu, sigma, 1)"
   ]
  },
  {
   "cell_type": "code",
   "execution_count": 8,
   "id": "0a7bfba3",
   "metadata": {},
   "outputs": [],
   "source": [
    "y = 3 + 4*x + epsilon"
   ]
  },
  {
   "cell_type": "code",
   "execution_count": 9,
   "id": "ead920cb",
   "metadata": {},
   "outputs": [
    {
     "name": "stdout",
     "output_type": "stream",
     "text": [
      "                            OLS Regression Results                            \n",
      "==============================================================================\n",
      "Dep. Variable:                      y   R-squared:                       0.996\n",
      "Model:                            OLS   Adj. R-squared:                  0.996\n",
      "Method:                 Least Squares   F-statistic:                 2.585e+04\n",
      "Date:                Tue, 23 Sep 2025   Prob (F-statistic):          1.52e-120\n",
      "Time:                        20:51:26   Log-Likelihood:                -243.52\n",
      "No. Observations:                 100   AIC:                             491.0\n",
      "Df Residuals:                      98   BIC:                             496.3\n",
      "Df Model:                           1                                         \n",
      "Covariance Type:            nonrobust                                         \n",
      "==============================================================================\n",
      "                 coef    std err          t      P>|t|      [0.025      0.975]\n",
      "------------------------------------------------------------------------------\n",
      "const          6.2913      1.495      4.207      0.000       3.324       9.259\n",
      "x1             3.9497      0.025    160.792      0.000       3.901       3.998\n",
      "==============================================================================\n",
      "Omnibus:                        2.290   Durbin-Watson:                   1.157\n",
      "Prob(Omnibus):                  0.318   Jarque-Bera (JB):                2.123\n",
      "Skew:                          -0.267   Prob(JB):                        0.346\n",
      "Kurtosis:                       2.526   Cond. No.                         326.\n",
      "==============================================================================\n",
      "\n",
      "Notes:\n",
      "[1] Standard Errors assume that the covariance matrix of the errors is correctly specified.\n"
     ]
    }
   ],
   "source": [
    "x_updated = sm.add_constant(x)\n",
    "model_OLS = sm.OLS(y,x_updated).fit()\n",
    "print(model_OLS.summary())"
   ]
  },
  {
   "cell_type": "code",
   "execution_count": 10,
   "id": "3ea16fb3",
   "metadata": {},
   "outputs": [],
   "source": [
    "# a test for heteroskedascity\n",
    "from statsmodels.stats.diagnostic import het_breuschpagan"
   ]
  },
  {
   "cell_type": "code",
   "execution_count": null,
   "id": "efd54674",
   "metadata": {},
   "outputs": [],
   "source": [
    "resid = model_OLS.resid\n",
    "exog = model_OLS.model.exog\n",
    "# gets design matrix"
   ]
  },
  {
   "cell_type": "code",
   "execution_count": null,
   "id": "e3d7d8f3",
   "metadata": {},
   "outputs": [],
   "source": [
    "lm_stat, lm_pvalue, f_stat, f_pvalue = het_breuschpagan(resid, exog) # pulling the stats out of the statistical test"
   ]
  },
  {
   "cell_type": "code",
   "execution_count": null,
   "id": "676e9942",
   "metadata": {},
   "outputs": [
    {
     "name": "stdout",
     "output_type": "stream",
     "text": [
      "0.23051452234900272\n"
     ]
    }
   ],
   "source": [
    "print(lm_pvalue) # p-value (fail to reject the null hypothesis) is high  so data is homoscedastic "
   ]
  },
  {
   "cell_type": "code",
   "execution_count": 15,
   "id": "b112cf1f",
   "metadata": {},
   "outputs": [
    {
     "name": "stdout",
     "output_type": "stream",
     "text": [
      "0.2347341235477536\n"
     ]
    }
   ],
   "source": [
    "print(f_pvalue)"
   ]
  },
  {
   "cell_type": "code",
   "execution_count": null,
   "id": "54a94634",
   "metadata": {},
   "outputs": [],
   "source": [
    "# building general least squares (GLS) model\n",
    "from scipy.linalg import toeplitz # diagonal matrix where all the variables from left to right are the same\n",
    "# what a matrix would look like if it was autocorrelated\n"
   ]
  },
  {
   "cell_type": "code",
   "execution_count": 17,
   "id": "768463a6",
   "metadata": {},
   "outputs": [
    {
     "data": {
      "text/plain": [
       "array([[1. , 0.5, 0. , 0. , 0. , 0. , 0. , 0. ],\n",
       "       [0.5, 1. , 0.5, 0. , 0. , 0. , 0. , 0. ],\n",
       "       [0. , 0.5, 1. , 0.5, 0. , 0. , 0. , 0. ],\n",
       "       [0. , 0. , 0.5, 1. , 0.5, 0. , 0. , 0. ],\n",
       "       [0. , 0. , 0. , 0.5, 1. , 0.5, 0. , 0. ],\n",
       "       [0. , 0. , 0. , 0. , 0.5, 1. , 0.5, 0. ],\n",
       "       [0. , 0. , 0. , 0. , 0. , 0.5, 1. , 0.5],\n",
       "       [0. , 0. , 0. , 0. , 0. , 0. , 0.5, 1. ]])"
      ]
     },
     "execution_count": 17,
     "metadata": {},
     "output_type": "execute_result"
    }
   ],
   "source": [
    "toeplitz(np.array([1,0.5,0,0,0,0,0,0]))"
   ]
  },
  {
   "cell_type": "code",
   "execution_count": 18,
   "id": "f6674d3f",
   "metadata": {},
   "outputs": [],
   "source": [
    "rho = 0.4\n",
    "cov_matrix = sigma**2 * toeplitz(np.append([1,rho], np.zeros(98)))"
   ]
  },
  {
   "cell_type": "code",
   "execution_count": null,
   "id": "5291a160",
   "metadata": {},
   "outputs": [
    {
     "name": "stdout",
     "output_type": "stream",
     "text": [
      "                            GLS Regression Results                            \n",
      "==============================================================================\n",
      "Dep. Variable:                      y   R-squared:                       0.997\n",
      "Model:                            GLS   Adj. R-squared:                  0.997\n",
      "Method:                 Least Squares   F-statistic:                 3.487e+04\n",
      "Date:                Tue, 23 Sep 2025   Prob (F-statistic):          6.88e-127\n",
      "Time:                        21:01:52   Log-Likelihood:                -237.46\n",
      "No. Observations:                 100   AIC:                             478.9\n",
      "Df Residuals:                      98   BIC:                             484.1\n",
      "Df Model:                           1                                         \n",
      "Covariance Type:            nonrobust                                         \n",
      "==============================================================================\n",
      "                 coef    std err          t      P>|t|      [0.025      0.975]\n",
      "------------------------------------------------------------------------------\n",
      "const          5.1986      1.330      3.909      0.000       2.559       7.838\n",
      "x1             3.9675      0.021    186.728      0.000       3.925       4.010\n",
      "==============================================================================\n",
      "Omnibus:                        2.637   Durbin-Watson:                   2.179\n",
      "Prob(Omnibus):                  0.268   Jarque-Bera (JB):                2.389\n",
      "Skew:                          -0.287   Prob(JB):                        0.303\n",
      "Kurtosis:                       2.505   Cond. No.                         212.\n",
      "==============================================================================\n",
      "\n",
      "Notes:\n",
      "[1] Standard Errors assume that the covariance matrix of the errors is correctly specified.\n"
     ]
    }
   ],
   "source": [
    "print(sm.GLS(y,x_updated,cov_matrix).fit().summary()) # a better generalized model to handle autocorrelation\n",
    "# will see a difference in the coefficient of the intercept variable which means there is more of a change in some default variable\n",
    "# there is more default behaviour that was discovered (a truer relationship) when reducing the autocorrerlation between models"
   ]
  },
  {
   "cell_type": "code",
   "execution_count": null,
   "id": "3f52c965",
   "metadata": {},
   "outputs": [],
   "source": [
    "df = pd.read_csv('https://raw.githubusercontent.com/delinai/schulich_ds1/refs/heads/main/Datasets/kc_house_data.csv') # housing data"
   ]
  },
  {
   "cell_type": "code",
   "execution_count": null,
   "id": "8576c7f4",
   "metadata": {},
   "outputs": [
    {
     "data": {
      "text/html": [
       "<div>\n",
       "<style scoped>\n",
       "    .dataframe tbody tr th:only-of-type {\n",
       "        vertical-align: middle;\n",
       "    }\n",
       "\n",
       "    .dataframe tbody tr th {\n",
       "        vertical-align: top;\n",
       "    }\n",
       "\n",
       "    .dataframe thead th {\n",
       "        text-align: right;\n",
       "    }\n",
       "</style>\n",
       "<table border=\"1\" class=\"dataframe\">\n",
       "  <thead>\n",
       "    <tr style=\"text-align: right;\">\n",
       "      <th></th>\n",
       "      <th>id</th>\n",
       "      <th>date</th>\n",
       "      <th>price</th>\n",
       "      <th>bedrooms</th>\n",
       "      <th>bathrooms</th>\n",
       "      <th>sqft_living</th>\n",
       "      <th>sqft_lot</th>\n",
       "      <th>floors</th>\n",
       "      <th>waterfront</th>\n",
       "      <th>view</th>\n",
       "      <th>...</th>\n",
       "      <th>grade</th>\n",
       "      <th>sqft_above</th>\n",
       "      <th>sqft_basement</th>\n",
       "      <th>yr_built</th>\n",
       "      <th>yr_renovated</th>\n",
       "      <th>zipcode</th>\n",
       "      <th>lat</th>\n",
       "      <th>long</th>\n",
       "      <th>sqft_living15</th>\n",
       "      <th>sqft_lot15</th>\n",
       "    </tr>\n",
       "  </thead>\n",
       "  <tbody>\n",
       "    <tr>\n",
       "      <th>0</th>\n",
       "      <td>7129300520</td>\n",
       "      <td>20141013T000000</td>\n",
       "      <td>221900.0</td>\n",
       "      <td>3</td>\n",
       "      <td>1.00</td>\n",
       "      <td>1180</td>\n",
       "      <td>5650</td>\n",
       "      <td>1.0</td>\n",
       "      <td>0</td>\n",
       "      <td>0</td>\n",
       "      <td>...</td>\n",
       "      <td>7</td>\n",
       "      <td>1180</td>\n",
       "      <td>0</td>\n",
       "      <td>1955</td>\n",
       "      <td>0</td>\n",
       "      <td>98178</td>\n",
       "      <td>47.5112</td>\n",
       "      <td>-122.257</td>\n",
       "      <td>1340</td>\n",
       "      <td>5650</td>\n",
       "    </tr>\n",
       "    <tr>\n",
       "      <th>1</th>\n",
       "      <td>6414100192</td>\n",
       "      <td>20141209T000000</td>\n",
       "      <td>538000.0</td>\n",
       "      <td>3</td>\n",
       "      <td>2.25</td>\n",
       "      <td>2570</td>\n",
       "      <td>7242</td>\n",
       "      <td>2.0</td>\n",
       "      <td>0</td>\n",
       "      <td>0</td>\n",
       "      <td>...</td>\n",
       "      <td>7</td>\n",
       "      <td>2170</td>\n",
       "      <td>400</td>\n",
       "      <td>1951</td>\n",
       "      <td>1991</td>\n",
       "      <td>98125</td>\n",
       "      <td>47.7210</td>\n",
       "      <td>-122.319</td>\n",
       "      <td>1690</td>\n",
       "      <td>7639</td>\n",
       "    </tr>\n",
       "    <tr>\n",
       "      <th>2</th>\n",
       "      <td>5631500400</td>\n",
       "      <td>20150225T000000</td>\n",
       "      <td>180000.0</td>\n",
       "      <td>2</td>\n",
       "      <td>1.00</td>\n",
       "      <td>770</td>\n",
       "      <td>10000</td>\n",
       "      <td>1.0</td>\n",
       "      <td>0</td>\n",
       "      <td>0</td>\n",
       "      <td>...</td>\n",
       "      <td>6</td>\n",
       "      <td>770</td>\n",
       "      <td>0</td>\n",
       "      <td>1933</td>\n",
       "      <td>0</td>\n",
       "      <td>98028</td>\n",
       "      <td>47.7379</td>\n",
       "      <td>-122.233</td>\n",
       "      <td>2720</td>\n",
       "      <td>8062</td>\n",
       "    </tr>\n",
       "    <tr>\n",
       "      <th>3</th>\n",
       "      <td>2487200875</td>\n",
       "      <td>20141209T000000</td>\n",
       "      <td>604000.0</td>\n",
       "      <td>4</td>\n",
       "      <td>3.00</td>\n",
       "      <td>1960</td>\n",
       "      <td>5000</td>\n",
       "      <td>1.0</td>\n",
       "      <td>0</td>\n",
       "      <td>0</td>\n",
       "      <td>...</td>\n",
       "      <td>7</td>\n",
       "      <td>1050</td>\n",
       "      <td>910</td>\n",
       "      <td>1965</td>\n",
       "      <td>0</td>\n",
       "      <td>98136</td>\n",
       "      <td>47.5208</td>\n",
       "      <td>-122.393</td>\n",
       "      <td>1360</td>\n",
       "      <td>5000</td>\n",
       "    </tr>\n",
       "    <tr>\n",
       "      <th>4</th>\n",
       "      <td>1954400510</td>\n",
       "      <td>20150218T000000</td>\n",
       "      <td>510000.0</td>\n",
       "      <td>3</td>\n",
       "      <td>2.00</td>\n",
       "      <td>1680</td>\n",
       "      <td>8080</td>\n",
       "      <td>1.0</td>\n",
       "      <td>0</td>\n",
       "      <td>0</td>\n",
       "      <td>...</td>\n",
       "      <td>8</td>\n",
       "      <td>1680</td>\n",
       "      <td>0</td>\n",
       "      <td>1987</td>\n",
       "      <td>0</td>\n",
       "      <td>98074</td>\n",
       "      <td>47.6168</td>\n",
       "      <td>-122.045</td>\n",
       "      <td>1800</td>\n",
       "      <td>7503</td>\n",
       "    </tr>\n",
       "    <tr>\n",
       "      <th>...</th>\n",
       "      <td>...</td>\n",
       "      <td>...</td>\n",
       "      <td>...</td>\n",
       "      <td>...</td>\n",
       "      <td>...</td>\n",
       "      <td>...</td>\n",
       "      <td>...</td>\n",
       "      <td>...</td>\n",
       "      <td>...</td>\n",
       "      <td>...</td>\n",
       "      <td>...</td>\n",
       "      <td>...</td>\n",
       "      <td>...</td>\n",
       "      <td>...</td>\n",
       "      <td>...</td>\n",
       "      <td>...</td>\n",
       "      <td>...</td>\n",
       "      <td>...</td>\n",
       "      <td>...</td>\n",
       "      <td>...</td>\n",
       "      <td>...</td>\n",
       "    </tr>\n",
       "    <tr>\n",
       "      <th>21608</th>\n",
       "      <td>263000018</td>\n",
       "      <td>20140521T000000</td>\n",
       "      <td>360000.0</td>\n",
       "      <td>3</td>\n",
       "      <td>2.50</td>\n",
       "      <td>1530</td>\n",
       "      <td>1131</td>\n",
       "      <td>3.0</td>\n",
       "      <td>0</td>\n",
       "      <td>0</td>\n",
       "      <td>...</td>\n",
       "      <td>8</td>\n",
       "      <td>1530</td>\n",
       "      <td>0</td>\n",
       "      <td>2009</td>\n",
       "      <td>0</td>\n",
       "      <td>98103</td>\n",
       "      <td>47.6993</td>\n",
       "      <td>-122.346</td>\n",
       "      <td>1530</td>\n",
       "      <td>1509</td>\n",
       "    </tr>\n",
       "    <tr>\n",
       "      <th>21609</th>\n",
       "      <td>6600060120</td>\n",
       "      <td>20150223T000000</td>\n",
       "      <td>400000.0</td>\n",
       "      <td>4</td>\n",
       "      <td>2.50</td>\n",
       "      <td>2310</td>\n",
       "      <td>5813</td>\n",
       "      <td>2.0</td>\n",
       "      <td>0</td>\n",
       "      <td>0</td>\n",
       "      <td>...</td>\n",
       "      <td>8</td>\n",
       "      <td>2310</td>\n",
       "      <td>0</td>\n",
       "      <td>2014</td>\n",
       "      <td>0</td>\n",
       "      <td>98146</td>\n",
       "      <td>47.5107</td>\n",
       "      <td>-122.362</td>\n",
       "      <td>1830</td>\n",
       "      <td>7200</td>\n",
       "    </tr>\n",
       "    <tr>\n",
       "      <th>21610</th>\n",
       "      <td>1523300141</td>\n",
       "      <td>20140623T000000</td>\n",
       "      <td>402101.0</td>\n",
       "      <td>2</td>\n",
       "      <td>0.75</td>\n",
       "      <td>1020</td>\n",
       "      <td>1350</td>\n",
       "      <td>2.0</td>\n",
       "      <td>0</td>\n",
       "      <td>0</td>\n",
       "      <td>...</td>\n",
       "      <td>7</td>\n",
       "      <td>1020</td>\n",
       "      <td>0</td>\n",
       "      <td>2009</td>\n",
       "      <td>0</td>\n",
       "      <td>98144</td>\n",
       "      <td>47.5944</td>\n",
       "      <td>-122.299</td>\n",
       "      <td>1020</td>\n",
       "      <td>2007</td>\n",
       "    </tr>\n",
       "    <tr>\n",
       "      <th>21611</th>\n",
       "      <td>291310100</td>\n",
       "      <td>20150116T000000</td>\n",
       "      <td>400000.0</td>\n",
       "      <td>3</td>\n",
       "      <td>2.50</td>\n",
       "      <td>1600</td>\n",
       "      <td>2388</td>\n",
       "      <td>2.0</td>\n",
       "      <td>0</td>\n",
       "      <td>0</td>\n",
       "      <td>...</td>\n",
       "      <td>8</td>\n",
       "      <td>1600</td>\n",
       "      <td>0</td>\n",
       "      <td>2004</td>\n",
       "      <td>0</td>\n",
       "      <td>98027</td>\n",
       "      <td>47.5345</td>\n",
       "      <td>-122.069</td>\n",
       "      <td>1410</td>\n",
       "      <td>1287</td>\n",
       "    </tr>\n",
       "    <tr>\n",
       "      <th>21612</th>\n",
       "      <td>1523300157</td>\n",
       "      <td>20141015T000000</td>\n",
       "      <td>325000.0</td>\n",
       "      <td>2</td>\n",
       "      <td>0.75</td>\n",
       "      <td>1020</td>\n",
       "      <td>1076</td>\n",
       "      <td>2.0</td>\n",
       "      <td>0</td>\n",
       "      <td>0</td>\n",
       "      <td>...</td>\n",
       "      <td>7</td>\n",
       "      <td>1020</td>\n",
       "      <td>0</td>\n",
       "      <td>2008</td>\n",
       "      <td>0</td>\n",
       "      <td>98144</td>\n",
       "      <td>47.5941</td>\n",
       "      <td>-122.299</td>\n",
       "      <td>1020</td>\n",
       "      <td>1357</td>\n",
       "    </tr>\n",
       "  </tbody>\n",
       "</table>\n",
       "<p>21613 rows × 21 columns</p>\n",
       "</div>"
      ],
      "text/plain": [
       "               id             date     price  bedrooms  bathrooms  \\\n",
       "0      7129300520  20141013T000000  221900.0         3       1.00   \n",
       "1      6414100192  20141209T000000  538000.0         3       2.25   \n",
       "2      5631500400  20150225T000000  180000.0         2       1.00   \n",
       "3      2487200875  20141209T000000  604000.0         4       3.00   \n",
       "4      1954400510  20150218T000000  510000.0         3       2.00   \n",
       "...           ...              ...       ...       ...        ...   \n",
       "21608   263000018  20140521T000000  360000.0         3       2.50   \n",
       "21609  6600060120  20150223T000000  400000.0         4       2.50   \n",
       "21610  1523300141  20140623T000000  402101.0         2       0.75   \n",
       "21611   291310100  20150116T000000  400000.0         3       2.50   \n",
       "21612  1523300157  20141015T000000  325000.0         2       0.75   \n",
       "\n",
       "       sqft_living  sqft_lot  floors  waterfront  view  ...  grade  \\\n",
       "0             1180      5650     1.0           0     0  ...      7   \n",
       "1             2570      7242     2.0           0     0  ...      7   \n",
       "2              770     10000     1.0           0     0  ...      6   \n",
       "3             1960      5000     1.0           0     0  ...      7   \n",
       "4             1680      8080     1.0           0     0  ...      8   \n",
       "...            ...       ...     ...         ...   ...  ...    ...   \n",
       "21608         1530      1131     3.0           0     0  ...      8   \n",
       "21609         2310      5813     2.0           0     0  ...      8   \n",
       "21610         1020      1350     2.0           0     0  ...      7   \n",
       "21611         1600      2388     2.0           0     0  ...      8   \n",
       "21612         1020      1076     2.0           0     0  ...      7   \n",
       "\n",
       "       sqft_above  sqft_basement  yr_built  yr_renovated  zipcode      lat  \\\n",
       "0            1180              0      1955             0    98178  47.5112   \n",
       "1            2170            400      1951          1991    98125  47.7210   \n",
       "2             770              0      1933             0    98028  47.7379   \n",
       "3            1050            910      1965             0    98136  47.5208   \n",
       "4            1680              0      1987             0    98074  47.6168   \n",
       "...           ...            ...       ...           ...      ...      ...   \n",
       "21608        1530              0      2009             0    98103  47.6993   \n",
       "21609        2310              0      2014             0    98146  47.5107   \n",
       "21610        1020              0      2009             0    98144  47.5944   \n",
       "21611        1600              0      2004             0    98027  47.5345   \n",
       "21612        1020              0      2008             0    98144  47.5941   \n",
       "\n",
       "          long  sqft_living15  sqft_lot15  \n",
       "0     -122.257           1340        5650  \n",
       "1     -122.319           1690        7639  \n",
       "2     -122.233           2720        8062  \n",
       "3     -122.393           1360        5000  \n",
       "4     -122.045           1800        7503  \n",
       "...        ...            ...         ...  \n",
       "21608 -122.346           1530        1509  \n",
       "21609 -122.362           1830        7200  \n",
       "21610 -122.299           1020        2007  \n",
       "21611 -122.069           1410        1287  \n",
       "21612 -122.299           1020        1357  \n",
       "\n",
       "[21613 rows x 21 columns]"
      ]
     },
     "execution_count": 21,
     "metadata": {},
     "output_type": "execute_result"
    }
   ],
   "source": [
    "# expect autocorrelation because of supply/demand (previous observations do inform current observations), expect heteroscedascity "
   ]
  },
  {
   "cell_type": "code",
   "execution_count": 26,
   "id": "59c71bcd",
   "metadata": {},
   "outputs": [],
   "source": [
    "x = df.iloc[:,3:] # removed the 2nd, 3rd, 4th columns from the data set\n",
    "y = df['price']\n",
    "# adding y-intercept\n",
    "x = sm.add_constant(x)"
   ]
  },
  {
   "cell_type": "code",
   "execution_count": 27,
   "id": "fbddc882",
   "metadata": {},
   "outputs": [],
   "source": [
    "model_houses = sm.OLS(y, x).fit() # baseline OLS model"
   ]
  },
  {
   "cell_type": "code",
   "execution_count": 28,
   "id": "f2689fa9",
   "metadata": {},
   "outputs": [
    {
     "name": "stdout",
     "output_type": "stream",
     "text": [
      "                            OLS Regression Results                            \n",
      "==============================================================================\n",
      "Dep. Variable:                  price   R-squared:                       0.700\n",
      "Model:                            OLS   Adj. R-squared:                  0.700\n",
      "Method:                 Least Squares   F-statistic:                     2960.\n",
      "Date:                Tue, 23 Sep 2025   Prob (F-statistic):               0.00\n",
      "Time:                        21:10:02   Log-Likelihood:            -2.9460e+05\n",
      "No. Observations:               21613   AIC:                         5.892e+05\n",
      "Df Residuals:                   21595   BIC:                         5.894e+05\n",
      "Df Model:                          17                                         \n",
      "Covariance Type:            nonrobust                                         \n",
      "=================================================================================\n",
      "                    coef    std err          t      P>|t|      [0.025      0.975]\n",
      "---------------------------------------------------------------------------------\n",
      "const           6.69e+06   2.93e+06      2.282      0.022    9.44e+05    1.24e+07\n",
      "bedrooms      -3.577e+04   1891.843    -18.906      0.000   -3.95e+04   -3.21e+04\n",
      "bathrooms      4.114e+04   3253.678     12.645      0.000    3.48e+04    4.75e+04\n",
      "sqft_living     110.4421      2.270     48.661      0.000     105.994     114.891\n",
      "sqft_lot          0.1286      0.048      2.683      0.007       0.035       0.223\n",
      "floors         6689.5501   3595.859      1.860      0.063    -358.599    1.37e+04\n",
      "waterfront      5.83e+05   1.74e+04     33.580      0.000    5.49e+05    6.17e+05\n",
      "view           5.287e+04   2140.055     24.705      0.000    4.87e+04    5.71e+04\n",
      "condition      2.639e+04   2351.461     11.221      0.000    2.18e+04     3.1e+04\n",
      "grade          9.589e+04   2152.789     44.542      0.000    9.17e+04       1e+05\n",
      "sqft_above       70.7860      2.253     31.413      0.000      66.369      75.203\n",
      "sqft_basement    39.6584      2.647     14.985      0.000      34.471      44.846\n",
      "yr_built      -2620.2232     72.659    -36.062      0.000   -2762.640   -2477.806\n",
      "yr_renovated     19.8126      3.656      5.420      0.000      12.647      26.978\n",
      "zipcode        -582.4199     32.986    -17.657      0.000    -647.074    -517.765\n",
      "lat            6.027e+05   1.07e+04     56.149      0.000    5.82e+05    6.24e+05\n",
      "long          -2.147e+05   1.31e+04    -16.349      0.000    -2.4e+05   -1.89e+05\n",
      "sqft_living15    21.6814      3.448      6.289      0.000      14.924      28.439\n",
      "sqft_lot15       -0.3826      0.073     -5.222      0.000      -0.526      -0.239\n",
      "==============================================================================\n",
      "Omnibus:                    18384.201   Durbin-Watson:                   1.990\n",
      "Prob(Omnibus):                  0.000   Jarque-Bera (JB):          1868224.491\n",
      "Skew:                           3.566   Prob(JB):                         0.00\n",
      "Kurtosis:                      47.985   Cond. No.                     2.22e+16\n",
      "==============================================================================\n",
      "\n",
      "Notes:\n",
      "[1] Standard Errors assume that the covariance matrix of the errors is correctly specified.\n",
      "[2] The smallest eigenvalue is 4.46e-19. This might indicate that there are\n",
      "strong multicollinearity problems or that the design matrix is singular.\n"
     ]
    }
   ],
   "source": [
    "print(model_houses.summary())"
   ]
  },
  {
   "cell_type": "markdown",
   "id": "d0dae1e9",
   "metadata": {},
   "source": [
    "- bedrooms and bathrooms are the biggest predictors of price\n",
    "- bedrooms is negative so there is probably missing information, or capturing information we don't have a variable for, there is bias in the model, other issues within the data set\n",
    "- take the bedrooms coefficient with a grain of salt\n",
    "- model is bad don't use the coefficients to derive real insights\n",
    "- there is lots of heteroskedascity\n",
    "- there is multicollinearity somewhere\n",
    "\n",
    "**research these notes**\n",
    "Notes:\n",
    "[1] Standard Errors assume that the covariance matrix of the errors is correctly specified.\n",
    "[2] The smallest eigenvalue is 4.46e-19. This might indicate that there are\n",
    "strong multicollinearity problems or that the design matrix is singular."
   ]
  },
  {
   "cell_type": "code",
   "execution_count": null,
   "id": "100655e4",
   "metadata": {},
   "outputs": [
    {
     "name": "stdout",
     "output_type": "stream",
     "text": [
      "0.0\n"
     ]
    }
   ],
   "source": [
    "resid = model_houses.resid\n",
    "exog = model_houses.model.exog\n",
    "lm_stat, lm_pvalue, f_stat, f_pvalue = het_breuschpagan(resid, exog)\n",
    "print(f_pvalue) # means heteroskedascity exists, model isn't good"
   ]
  },
  {
   "cell_type": "markdown",
   "id": "48582b21",
   "metadata": {},
   "source": [
    "https://www.statsmodels.org/dev/generated/statsmodels.regression.linear_model.OLSResults.get_robustcov_results.html"
   ]
  },
  {
   "cell_type": "code",
   "execution_count": null,
   "id": "38a299d2",
   "metadata": {},
   "outputs": [
    {
     "name": "stdout",
     "output_type": "stream",
     "text": [
      "                            OLS Regression Results                            \n",
      "==============================================================================\n",
      "Dep. Variable:                  price   R-squared:                       0.700\n",
      "Model:                            OLS   Adj. R-squared:                  0.700\n",
      "Method:                 Least Squares   F-statistic:                     1015.\n",
      "Date:                Tue, 23 Sep 2025   Prob (F-statistic):               0.00\n",
      "Time:                        21:20:25   Log-Likelihood:            -2.9460e+05\n",
      "No. Observations:               21613   AIC:                         5.892e+05\n",
      "Df Residuals:                   21595   BIC:                         5.894e+05\n",
      "Df Model:                          17                                         \n",
      "Covariance Type:                  HC3                                         \n",
      "=================================================================================\n",
      "                    coef    std err          t      P>|t|      [0.025      0.975]\n",
      "---------------------------------------------------------------------------------\n",
      "const           6.69e+06   2.96e+06      2.258      0.024    8.82e+05    1.25e+07\n",
      "bedrooms      -3.577e+04   4670.070     -7.659      0.000   -4.49e+04   -2.66e+04\n",
      "bathrooms      4.114e+04   5254.583      7.830      0.000    3.08e+04    5.14e+04\n",
      "sqft_living     110.4421      7.338     15.051      0.000      96.060     124.825\n",
      "sqft_lot          0.1286      0.064      2.025      0.043       0.004       0.253\n",
      "floors         6689.5501   5057.095      1.323      0.186   -3222.730    1.66e+04\n",
      "waterfront      5.83e+05   6.07e+04      9.608      0.000    4.64e+05    7.02e+05\n",
      "view           5.287e+04   3965.545     13.333      0.000    4.51e+04    6.06e+04\n",
      "condition      2.639e+04   2363.761     11.163      0.000    2.18e+04     3.1e+04\n",
      "grade          9.589e+04   3182.870     30.127      0.000    8.97e+04    1.02e+05\n",
      "sqft_above       70.7860      5.874     12.050      0.000      59.272      82.300\n",
      "sqft_basement    39.6584      5.098      7.779      0.000      29.665      49.652\n",
      "yr_built      -2620.2232     91.519    -28.630      0.000   -2799.608   -2440.839\n",
      "yr_renovated     19.8126      5.592      3.543      0.000       8.851      30.774\n",
      "zipcode        -582.4199     37.489    -15.536      0.000    -655.902    -508.938\n",
      "lat            6.027e+05   9880.958     61.001      0.000    5.83e+05    6.22e+05\n",
      "long          -2.147e+05   1.45e+04    -14.768      0.000   -2.43e+05   -1.86e+05\n",
      "sqft_living15    21.6814      7.118      3.046      0.002       7.730      35.633\n",
      "sqft_lot15       -0.3826      0.077     -4.939      0.000      -0.534      -0.231\n",
      "==============================================================================\n",
      "Omnibus:                    18384.201   Durbin-Watson:                   1.990\n",
      "Prob(Omnibus):                  0.000   Jarque-Bera (JB):          1868224.491\n",
      "Skew:                           3.566   Prob(JB):                         0.00\n",
      "Kurtosis:                      47.985   Cond. No.                     2.22e+16\n",
      "==============================================================================\n",
      "\n",
      "Notes:\n",
      "[1] Standard Errors are heteroscedasticity robust (HC3)\n",
      "[2] The smallest eigenvalue is 4.46e-19. This might indicate that there are\n",
      "strong multicollinearity problems or that the design matrix is singular.\n"
     ]
    },
    {
     "name": "stderr",
     "output_type": "stream",
     "text": [
      "/opt/anaconda3/lib/python3.12/site-packages/statsmodels/base/model.py:1894: ValueWarning: covariance of constraints does not have full rank. The number of constraints is 18, but rank is 17\n",
      "  warnings.warn('covariance of constraints does not have full '\n"
     ]
    }
   ],
   "source": [
    "# fitting a GLS model\n",
    "print(model_houses.get_robustcov_results(cov_type='HC3').summary()) # level depends on how much we want to account for outliers (points with a high degree of influence)\n",
    "# not much changed with this model"
   ]
  },
  {
   "cell_type": "code",
   "execution_count": 36,
   "id": "8e2085b6",
   "metadata": {},
   "outputs": [
    {
     "name": "stdout",
     "output_type": "stream",
     "text": [
      "                            OLS Regression Results                            \n",
      "==============================================================================\n",
      "Dep. Variable:                  price   R-squared:                       0.700\n",
      "Model:                            OLS   Adj. R-squared:                  0.700\n",
      "Method:                 Least Squares   F-statistic:                     1020.\n",
      "Date:                Tue, 23 Sep 2025   Prob (F-statistic):               0.00\n",
      "Time:                        21:21:23   Log-Likelihood:            -2.9460e+05\n",
      "No. Observations:               21613   AIC:                         5.892e+05\n",
      "Df Residuals:                   21595   BIC:                         5.894e+05\n",
      "Df Model:                          17                                         \n",
      "Covariance Type:                  HC1                                         \n",
      "=================================================================================\n",
      "                    coef    std err          t      P>|t|      [0.025      0.975]\n",
      "---------------------------------------------------------------------------------\n",
      "const           6.69e+06   2.95e+06      2.266      0.023    9.03e+05    1.25e+07\n",
      "bedrooms      -3.577e+04   4470.444     -8.001      0.000   -4.45e+04    -2.7e+04\n",
      "bathrooms      4.114e+04   5213.133      7.892      0.000    3.09e+04    5.14e+04\n",
      "sqft_living     110.4421      7.256     15.221      0.000      96.220     124.665\n",
      "sqft_lot          0.1286      0.061      2.099      0.036       0.009       0.249\n",
      "floors         6689.5501   5037.731      1.328      0.184   -3184.774    1.66e+04\n",
      "waterfront      5.83e+05   6.02e+04      9.689      0.000    4.65e+05    7.01e+05\n",
      "view           5.287e+04   3948.830     13.389      0.000    4.51e+04    6.06e+04\n",
      "condition      2.639e+04   2358.216     11.189      0.000    2.18e+04     3.1e+04\n",
      "grade          9.589e+04   3160.640     30.339      0.000    8.97e+04    1.02e+05\n",
      "sqft_above       70.7860      5.829     12.144      0.000      59.361      82.211\n",
      "sqft_basement    39.6584      5.064      7.832      0.000      29.733      49.583\n",
      "yr_built      -2620.2232     91.124    -28.755      0.000   -2798.832   -2441.614\n",
      "yr_renovated     19.8126      5.568      3.558      0.000       8.898      30.727\n",
      "zipcode        -582.4199     37.368    -15.586      0.000    -655.664    -509.176\n",
      "lat            6.027e+05   9851.636     61.183      0.000    5.83e+05    6.22e+05\n",
      "long          -2.147e+05   1.45e+04    -14.812      0.000   -2.43e+05   -1.86e+05\n",
      "sqft_living15    21.6814      7.074      3.065      0.002       7.815      35.547\n",
      "sqft_lot15       -0.3826      0.076     -5.045      0.000      -0.531      -0.234\n",
      "==============================================================================\n",
      "Omnibus:                    18384.201   Durbin-Watson:                   1.990\n",
      "Prob(Omnibus):                  0.000   Jarque-Bera (JB):          1868224.491\n",
      "Skew:                           3.566   Prob(JB):                         0.00\n",
      "Kurtosis:                      47.985   Cond. No.                     2.22e+16\n",
      "==============================================================================\n",
      "\n",
      "Notes:\n",
      "[1] Standard Errors are heteroscedasticity robust (HC1)\n",
      "[2] The smallest eigenvalue is 4.46e-19. This might indicate that there are\n",
      "strong multicollinearity problems or that the design matrix is singular.\n"
     ]
    },
    {
     "name": "stderr",
     "output_type": "stream",
     "text": [
      "/opt/anaconda3/lib/python3.12/site-packages/statsmodels/base/model.py:1894: ValueWarning: covariance of constraints does not have full rank. The number of constraints is 18, but rank is 17\n",
      "  warnings.warn('covariance of constraints does not have full '\n"
     ]
    }
   ],
   "source": [
    "print(model_houses.get_robustcov_results(cov_type='HC1').summary())\n",
    "# maybe we aren't able to deal with heteroscedascity in this way\n",
    "# or maybe this model isn't fit for this data"
   ]
  },
  {
   "cell_type": "code",
   "execution_count": 37,
   "id": "19383ed1",
   "metadata": {},
   "outputs": [],
   "source": [
    "# predict log-price instead of price to help control for variance\n",
    "# few outliers (super influential) in the data set (could check with a bubble plot)\n",
    "# could take out the outliers, could play around with the combination of independent variables. for this data set, it's probably linear models are not good choices for this data set"
   ]
  },
  {
   "cell_type": "code",
   "execution_count": null,
   "id": "ff53a9f5",
   "metadata": {},
   "outputs": [],
   "source": []
  }
 ],
 "metadata": {
  "kernelspec": {
   "display_name": "base",
   "language": "python",
   "name": "python3"
  },
  "language_info": {
   "codemirror_mode": {
    "name": "ipython",
    "version": 3
   },
   "file_extension": ".py",
   "mimetype": "text/x-python",
   "name": "python",
   "nbconvert_exporter": "python",
   "pygments_lexer": "ipython3",
   "version": "3.12.4"
  }
 },
 "nbformat": 4,
 "nbformat_minor": 5
}
