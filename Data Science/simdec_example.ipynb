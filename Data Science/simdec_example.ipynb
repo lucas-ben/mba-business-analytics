{
 "cells": [
  {
   "cell_type": "code",
   "execution_count": 8,
   "id": "e46e5920",
   "metadata": {},
   "outputs": [],
   "source": [
    "import pandas as pd\n",
    "import numpy as np\n",
    "import matplotlib.pyplot as plt\n",
    "import xgboost as xgb \n",
    "from sklearn.model_selection import train_test_split\n",
    "from sklearn.metrics import mean_squared_error, r2_score, mean_absolute_error"
   ]
  },
  {
   "cell_type": "code",
   "execution_count": 2,
   "id": "b88ff4a0",
   "metadata": {},
   "outputs": [],
   "source": [
    "df = pd.read_csv('data/xgboost_tutorial_data.csv')"
   ]
  },
  {
   "cell_type": "code",
   "execution_count": 5,
   "id": "dab5ca23",
   "metadata": {},
   "outputs": [
    {
     "name": "stdout",
     "output_type": "stream",
     "text": [
      "Number of training set players: 264\n",
      "Number of test set players: 66\n"
     ]
    }
   ],
   "source": [
    "y = df['woba']\n",
    "X = df[[\n",
    "    'pa',\n",
    "    'home_run',\n",
    "    'k_percent',\n",
    "    'bb_percent',\n",
    "    'sweet_spot_percent',\n",
    "    'avg_best_speed',\n",
    "    'swing_percent'\n",
    "]]\n",
    "\n",
    "X_train, X_test, y_train, y_test = train_test_split(\n",
    "    X, y,\n",
    "    test_size = 0.2,\n",
    "    random_state = 2002,\n",
    "    stratify = None\n",
    ") # train test split\n",
    "print(f\"Number of training set players: {X_train.shape[0]}\")\n",
    "print(f\"Number of test set players: {X_test.shape[0]}\")"
   ]
  },
  {
   "cell_type": "code",
   "execution_count": 6,
   "id": "72235f28",
   "metadata": {},
   "outputs": [],
   "source": [
    "model = xgb.XGBRegressor(\n",
    "    objective='reg:squarederror',\n",
    "    random_state=2002,\n",
    "    eval_metric='rmse'\n",
    ")\n",
    "\n",
    "model.fit(X_train, y_train)\n",
    "\n",
    "y_pred = model.predict(X_test)\n"
   ]
  },
  {
   "cell_type": "code",
   "execution_count": 9,
   "id": "13eb3daf",
   "metadata": {},
   "outputs": [
    {
     "name": "stdout",
     "output_type": "stream",
     "text": [
      "Model Performance Metrics\n",
      "Variance explained by the model: 0.5424\n",
      "RMSE: 0.0237\n",
      "MAE:0.0195\n"
     ]
    }
   ],
   "source": [
    "r2 = r2_score(y_test, y_pred)\n",
    "rmse = np.sqrt(mean_squared_error(y_test, y_pred))\n",
    "mae = mean_absolute_error(y_test, y_pred)\n",
    "print(\"Model Performance Metrics\")\n",
    "print(f\"Variance explained by the model: {r2:.4f}\")\n",
    "print(f\"RMSE: {rmse:.4f}\")\n",
    "print(f\"MAE:{mae:.4f}\")"
   ]
  },
  {
   "cell_type": "code",
   "execution_count": null,
   "id": "242035d3",
   "metadata": {},
   "outputs": [],
   "source": []
  }
 ],
 "metadata": {
  "kernelspec": {
   "display_name": "base",
   "language": "python",
   "name": "python3"
  },
  "language_info": {
   "codemirror_mode": {
    "name": "ipython",
    "version": 3
   },
   "file_extension": ".py",
   "mimetype": "text/x-python",
   "name": "python",
   "nbconvert_exporter": "python",
   "pygments_lexer": "ipython3",
   "version": "3.12.4"
  }
 },
 "nbformat": 4,
 "nbformat_minor": 5
}
