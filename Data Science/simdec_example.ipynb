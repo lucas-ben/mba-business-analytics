{
 "cells": [
  {
   "cell_type": "code",
   "execution_count": 1,
   "id": "e46e5920",
   "metadata": {},
   "outputs": [],
   "source": [
    "import pandas as pd\n",
    "import numpy as np\n",
    "import matplotlib.pyplot as plt\n",
    "import xgboost as xgb \n",
    "from sklearn.model_selection import train_test_split\n",
    "from sklearn.metrics import mean_squared_error, r2_score, mean_absolute_error\n",
    "from simdec import decomposition, palette, sensitivity_indices, states_expansion, tableau, visualization"
   ]
  },
  {
   "cell_type": "code",
   "execution_count": 2,
   "id": "b88ff4a0",
   "metadata": {},
   "outputs": [],
   "source": [
    "df = pd.read_csv('data/xgboost_tutorial_data.csv')"
   ]
  },
  {
   "cell_type": "code",
   "execution_count": 34,
   "id": "3d3af921",
   "metadata": {},
   "outputs": [
    {
     "data": {
      "text/plain": [
       "['last_name, first_name',\n",
       " 'player_id',\n",
       " 'year',\n",
       " 'pa',\n",
       " 'home_run',\n",
       " 'k_percent',\n",
       " 'bb_percent',\n",
       " 'woba',\n",
       " 'xwoba',\n",
       " 'sweet_spot_percent',\n",
       " 'barrel_batted_rate',\n",
       " 'hard_hit_percent',\n",
       " 'avg_best_speed',\n",
       " 'avg_hyper_speed',\n",
       " 'whiff_percent',\n",
       " 'swing_percent']"
      ]
     },
     "execution_count": 34,
     "metadata": {},
     "output_type": "execute_result"
    }
   ],
   "source": [
    "list(df.columns)"
   ]
  },
  {
   "cell_type": "code",
   "execution_count": 5,
   "id": "dab5ca23",
   "metadata": {},
   "outputs": [
    {
     "name": "stdout",
     "output_type": "stream",
     "text": [
      "Number of training set players: 264\n",
      "Number of test set players: 66\n"
     ]
    }
   ],
   "source": [
    "y = df['woba']\n",
    "X = df[[\n",
    "    'pa',\n",
    "    'home_run',\n",
    "    'k_percent',\n",
    "    'bb_percent',\n",
    "    'sweet_spot_percent',\n",
    "    'avg_best_speed',\n",
    "    'swing_percent'\n",
    "]]\n",
    "\n",
    "X_train, X_test, y_train, y_test = train_test_split(\n",
    "    X, y,\n",
    "    test_size = 0.2,\n",
    "    random_state = 2002,\n",
    "    stratify = None\n",
    ") # train test split\n",
    "print(f\"Number of training set players: {X_train.shape[0]}\")\n",
    "print(f\"Number of test set players: {X_test.shape[0]}\")"
   ]
  },
  {
   "cell_type": "code",
   "execution_count": 6,
   "id": "72235f28",
   "metadata": {},
   "outputs": [],
   "source": [
    "model = xgb.XGBRegressor(\n",
    "    objective='reg:squarederror',\n",
    "    random_state=2002,\n",
    "    eval_metric='rmse'\n",
    ")\n",
    "\n",
    "model.fit(X_train, y_train)\n",
    "\n",
    "y_pred = model.predict(X_test)\n"
   ]
  },
  {
   "cell_type": "code",
   "execution_count": 9,
   "id": "13eb3daf",
   "metadata": {},
   "outputs": [
    {
     "name": "stdout",
     "output_type": "stream",
     "text": [
      "Model Performance Metrics\n",
      "Variance explained by the model: 0.5424\n",
      "RMSE: 0.0237\n",
      "MAE:0.0195\n"
     ]
    }
   ],
   "source": [
    "r2 = r2_score(y_test, y_pred)\n",
    "rmse = np.sqrt(mean_squared_error(y_test, y_pred))\n",
    "mae = mean_absolute_error(y_test, y_pred)\n",
    "print(\"Model Performance Metrics\")\n",
    "print(f\"Variance explained by the model: {r2:.4f}\")\n",
    "print(f\"RMSE: {rmse:.4f}\")\n",
    "print(f\"MAE:{mae:.4f}\")"
   ]
  },
  {
   "cell_type": "code",
   "execution_count": null,
   "id": "242035d3",
   "metadata": {},
   "outputs": [],
   "source": [
    "y_pred = pd.DataFrame(y_pred) # transforming predictions to a dataframe"
   ]
  },
  {
   "cell_type": "code",
   "execution_count": 3,
   "id": "06dee55f",
   "metadata": {},
   "outputs": [
    {
     "data": {
      "text/html": [
       "<div>\n",
       "<style scoped>\n",
       "    .dataframe tbody tr th:only-of-type {\n",
       "        vertical-align: middle;\n",
       "    }\n",
       "\n",
       "    .dataframe tbody tr th {\n",
       "        vertical-align: top;\n",
       "    }\n",
       "\n",
       "    .dataframe thead th {\n",
       "        text-align: right;\n",
       "    }\n",
       "</style>\n",
       "<table border=\"1\" class=\"dataframe\">\n",
       "  <thead>\n",
       "    <tr style=\"text-align: right;\">\n",
       "      <th></th>\n",
       "      <th>pa</th>\n",
       "      <th>home_run</th>\n",
       "      <th>k_percent</th>\n",
       "      <th>bb_percent</th>\n",
       "      <th>sweet_spot_percent</th>\n",
       "      <th>avg_best_speed</th>\n",
       "      <th>swing_percent</th>\n",
       "    </tr>\n",
       "  </thead>\n",
       "  <tbody>\n",
       "    <tr>\n",
       "      <th>0</th>\n",
       "      <td>535</td>\n",
       "      <td>10</td>\n",
       "      <td>12.3</td>\n",
       "      <td>10.5</td>\n",
       "      <td>38.0</td>\n",
       "      <td>96.497006</td>\n",
       "      <td>45.3</td>\n",
       "    </tr>\n",
       "    <tr>\n",
       "      <th>1</th>\n",
       "      <td>273</td>\n",
       "      <td>8</td>\n",
       "      <td>21.2</td>\n",
       "      <td>11.4</td>\n",
       "      <td>28.5</td>\n",
       "      <td>102.273063</td>\n",
       "      <td>43.8</td>\n",
       "    </tr>\n",
       "    <tr>\n",
       "      <th>2</th>\n",
       "      <td>683</td>\n",
       "      <td>50</td>\n",
       "      <td>25.3</td>\n",
       "      <td>15.4</td>\n",
       "      <td>34.5</td>\n",
       "      <td>106.186932</td>\n",
       "      <td>44.6</td>\n",
       "    </tr>\n",
       "    <tr>\n",
       "      <th>3</th>\n",
       "      <td>253</td>\n",
       "      <td>2</td>\n",
       "      <td>28.1</td>\n",
       "      <td>5.1</td>\n",
       "      <td>38.1</td>\n",
       "      <td>100.150408</td>\n",
       "      <td>50.4</td>\n",
       "    </tr>\n",
       "    <tr>\n",
       "      <th>4</th>\n",
       "      <td>402</td>\n",
       "      <td>10</td>\n",
       "      <td>10.0</td>\n",
       "      <td>7.0</td>\n",
       "      <td>30.2</td>\n",
       "      <td>97.276171</td>\n",
       "      <td>48.6</td>\n",
       "    </tr>\n",
       "  </tbody>\n",
       "</table>\n",
       "</div>"
      ],
      "text/plain": [
       "    pa  home_run  k_percent  bb_percent  sweet_spot_percent  avg_best_speed  \\\n",
       "0  535        10       12.3        10.5                38.0       96.497006   \n",
       "1  273         8       21.2        11.4                28.5      102.273063   \n",
       "2  683        50       25.3        15.4                34.5      106.186932   \n",
       "3  253         2       28.1         5.1                38.1      100.150408   \n",
       "4  402        10       10.0         7.0                30.2       97.276171   \n",
       "\n",
       "   swing_percent  \n",
       "0           45.3  \n",
       "1           43.8  \n",
       "2           44.6  \n",
       "3           50.4  \n",
       "4           48.6  "
      ]
     },
     "execution_count": 3,
     "metadata": {},
     "output_type": "execute_result"
    }
   ],
   "source": [
    "# creating target variable and inputs from actual data\n",
    "output_name = df.columns[7] # woba is target variable\n",
    "input_names = list(df.columns[3:7]) + list(df.columns[[9, 12, 15]])\n",
    "\n",
    "inputs, output = df[input_names].copy(), df[output_name].copy()\n",
    "\n",
    "inputs.head()"
   ]
  },
  {
   "cell_type": "code",
   "execution_count": 11,
   "id": "20f45d43",
   "metadata": {},
   "outputs": [
    {
     "data": {
      "text/plain": [
       "Index(['pa', 'home_run', 'k_percent', 'bb_percent', 'sweet_spot_percent',\n",
       "       'avg_best_speed', 'swing_percent'],\n",
       "      dtype='object')"
      ]
     },
     "execution_count": 11,
     "metadata": {},
     "output_type": "execute_result"
    }
   ],
   "source": [
    "inputs.columns"
   ]
  },
  {
   "cell_type": "code",
   "execution_count": 4,
   "id": "32fdb151",
   "metadata": {},
   "outputs": [
    {
     "data": {
      "text/plain": [
       "0    0.326\n",
       "1    0.275\n",
       "2    0.416\n",
       "3    0.286\n",
       "4    0.286\n",
       "Name: woba, dtype: float64"
      ]
     },
     "execution_count": 4,
     "metadata": {},
     "output_type": "execute_result"
    }
   ],
   "source": [
    "output.head()"
   ]
  },
  {
   "cell_type": "code",
   "execution_count": 19,
   "id": "082bfe9a",
   "metadata": {},
   "outputs": [
    {
     "name": "stdout",
     "output_type": "stream",
     "text": [
      "             variable  sensitivity_index  first_order  second_order\n",
      "0            home_run           0.485488     0.462457      0.046061\n",
      "1      avg_best_speed           0.431599     0.261892      0.339415\n",
      "2          bb_percent           0.412513     0.285156      0.254714\n",
      "3                  pa           0.349426     0.247086      0.204681\n",
      "4  sweet_spot_percent           0.252816     0.120347      0.264938\n",
      "5           k_percent           0.051095     0.029100      0.043990\n",
      "6       swing_percent          -0.002589     0.057524     -0.120228\n"
     ]
    }
   ],
   "source": [
    "# computing sensitivity indices\n",
    "indices = sensitivity_indices(inputs=inputs, output=output)\n",
    "\n",
    "indices_df = pd.DataFrame({\n",
    "    'variable': inputs.columns,\n",
    "    'sensitivity_index': indices.si,\n",
    "    'first_order': indices.first_order\n",
    "})\n",
    "\n",
    "# Calculate second-order effects (sum of interactions for each variable)\n",
    "# This sums all interaction effects for each variable\n",
    "second_order_sum = indices.second_order.sum(axis=1)\n",
    "\n",
    "indices_df['second_order'] = second_order_sum\n",
    "\n",
    "# Sort by sensitivity_index (descending)\n",
    "indices_df = indices_df.sort_values('sensitivity_index', ascending=False).reset_index(drop=True)\n",
    "\n",
    "print(indices_df)\n"
   ]
  },
  {
   "cell_type": "code",
   "execution_count": 6,
   "id": "093e8e23",
   "metadata": {},
   "outputs": [
    {
     "data": {
      "text/plain": [
       "DecompositionResult(var_names=['home_run', 'avg_best_speed'], statistic=array([[0.28916923, 0.29589189, 0.28913333],\n",
       "       [0.31075676, 0.31979167, 0.32314286],\n",
       "       [0.33844444, 0.33508   , 0.35      ]]), bins=        0      1      2      3      4      5      6      7      8\n",
       "0   0.243  0.286  0.275  0.326  0.342  0.284  0.323  0.345  0.416\n",
       "1   0.289  0.302  0.355  0.286  0.294  0.338  0.336  0.310  0.308\n",
       "2   0.309  0.259  0.275  0.308  0.265  0.316  0.361  0.342  0.334\n",
       "3   0.232  0.333  0.228  0.292  0.321  0.325  0.307  0.347  0.350\n",
       "4   0.260  0.269  0.274  0.327  0.323  0.319  0.372  0.326  0.354\n",
       "..    ...    ...    ...    ...    ...    ...    ...    ...    ...\n",
       "61  0.319    NaN    NaN    NaN    NaN    NaN    NaN    NaN  0.393\n",
       "62  0.229    NaN    NaN    NaN    NaN    NaN    NaN    NaN  0.348\n",
       "63  0.322    NaN    NaN    NaN    NaN    NaN    NaN    NaN  0.329\n",
       "64  0.252    NaN    NaN    NaN    NaN    NaN    NaN    NaN  0.331\n",
       "65    NaN    NaN    NaN    NaN    NaN    NaN    NaN    NaN  0.360\n",
       "\n",
       "[66 rows x 9 columns], states=[3, 3], bin_edges=[array([ 0.,  9., 17., 56.]), array([ 93.45139596,  99.51141167, 101.43746473, 107.72745853])])"
      ]
     },
     "execution_count": 6,
     "metadata": {},
     "output_type": "execute_result"
    }
   ],
   "source": [
    "# decomposing the problem with SimDec\n",
    "si = indices.si\n",
    "res = decomposition(inputs=inputs, output=output, sensitivity_indices=si)\n",
    "res"
   ]
  },
  {
   "cell_type": "code",
   "execution_count": 7,
   "id": "6463b1e9",
   "metadata": {},
   "outputs": [
    {
     "data": {
      "text/plain": [
       "[[0.0702614379084967, 0.43562091503267975, 0.41353874883286645, 1.0],\n",
       " [0.14901960784313728, 0.8627450980392157, 0.8196078431372549, 1.0],\n",
       " [0.5846405228758169, 0.9330065359477124, 0.9119514472455649, 1.0],\n",
       " [0.4956417501498417, 0.5004538059765391, 0.050526586180323685, 1.0],\n",
       " [0.9098039215686274, 0.9176470588235294, 0.1843137254901961, 1.0],\n",
       " [0.9651425635756488, 0.9681736450038532, 0.6847675314667352, 1.0],\n",
       " [0.43562091503267975, 0.0702614379084967, 0.24892623716153087, 1.0],\n",
       " [0.8627450980392157, 0.14901960784313728, 0.4980392156862745, 1.0],\n",
       " [0.9330065359477124, 0.5846405228758169, 0.7549953314659192, 1.0]]"
      ]
     },
     "execution_count": 7,
     "metadata": {},
     "output_type": "execute_result"
    }
   ],
   "source": [
    "palette = palette(states=res.states)[::-1]\n",
    "palette"
   ]
  },
  {
   "cell_type": "code",
   "execution_count": 8,
   "id": "a48b5ec3",
   "metadata": {},
   "outputs": [
    {
     "data": {
      "image/png": "[encoded data removed]",
      "text/plain": [
       "<Figure size 640x480 with 1 Axes>"
      ]
     },
     "metadata": {},
     "output_type": "display_data"
    }
   ],
   "source": [
    "fig, ax = plt.subplots()\n",
    "ax = visualization(bins=res.bins, palette=palette, ax=ax)"
   ]
  },
  {
   "cell_type": "code",
   "execution_count": 9,
   "id": "cf0348b2",
   "metadata": {},
   "outputs": [
    {
     "data": {
      "image/png": "[encoded data removed]",
      "text/plain": [
       "<Figure size 640x480 with 1 Axes>"
      ]
     },
     "metadata": {},
     "output_type": "display_data"
    }
   ],
   "source": [
    "fig, ax = plt.subplots()\n",
    "ax = visualization(bins=res.bins, palette=palette, kind=\"boxplot\", ax=ax)"
   ]
  },
  {
   "cell_type": "code",
   "execution_count": 10,
   "id": "a8199772",
   "metadata": {},
   "outputs": [
    {
     "data": {
      "text/html": [
       "<style type=\"text/css\">\n",
       "#T_299ee th {\n",
       "  text-align: center;\n",
       "}\n",
       "#T_299ee_row0_col1 {\n",
       "  background-color: #ee95c1;\n",
       "  color: #000000;\n",
       "}\n",
       "#T_299ee_row1_col1 {\n",
       "  background-color: #dc267f;\n",
       "  color: #f1f1f1;\n",
       "}\n",
       "#T_299ee_row2_col1 {\n",
       "  background-color: #6f123f;\n",
       "  color: #f1f1f1;\n",
       "}\n",
       "#T_299ee_row3_col1 {\n",
       "  background-color: #f6f7af;\n",
       "  color: #000000;\n",
       "}\n",
       "#T_299ee_row4_col1 {\n",
       "  background-color: #e8ea2f;\n",
       "  color: #000000;\n",
       "}\n",
       "#T_299ee_row5_col1 {\n",
       "  background-color: #7e800d;\n",
       "  color: #f1f1f1;\n",
       "}\n",
       "#T_299ee_row6_col1 {\n",
       "  background-color: #95eee9;\n",
       "  color: #000000;\n",
       "}\n",
       "#T_299ee_row7_col1 {\n",
       "  background-color: #26dcd1;\n",
       "  color: #000000;\n",
       "}\n",
       "#T_299ee_row8_col1 {\n",
       "  background-color: #126f69;\n",
       "  color: #f1f1f1;\n",
       "}\n",
       "</style>\n",
       "<table id=\"T_299ee\">\n",
       "  <thead>\n",
       "    <tr>\n",
       "      <th class=\"blank\" >&nbsp;</th>\n",
       "      <th class=\"blank level0\" >&nbsp;</th>\n",
       "      <th id=\"T_299ee_level0_col0\" class=\"col_heading level0 col0\" >N°</th>\n",
       "      <th id=\"T_299ee_level0_col1\" class=\"col_heading level0 col1\" >colour</th>\n",
       "      <th id=\"T_299ee_level0_col2\" class=\"col_heading level0 col2\" >std</th>\n",
       "      <th id=\"T_299ee_level0_col3\" class=\"col_heading level0 col3\" >min</th>\n",
       "      <th id=\"T_299ee_level0_col4\" class=\"col_heading level0 col4\" >mean</th>\n",
       "      <th id=\"T_299ee_level0_col5\" class=\"col_heading level0 col5\" >max</th>\n",
       "      <th id=\"T_299ee_level0_col6\" class=\"col_heading level0 col6\" >probability</th>\n",
       "    </tr>\n",
       "    <tr>\n",
       "      <th class=\"index_name level0\" >home_run</th>\n",
       "      <th class=\"index_name level1\" >avg_best_speed</th>\n",
       "      <th class=\"blank col0\" >&nbsp;</th>\n",
       "      <th class=\"blank col1\" >&nbsp;</th>\n",
       "      <th class=\"blank col2\" >&nbsp;</th>\n",
       "      <th class=\"blank col3\" >&nbsp;</th>\n",
       "      <th class=\"blank col4\" >&nbsp;</th>\n",
       "      <th class=\"blank col5\" >&nbsp;</th>\n",
       "      <th class=\"blank col6\" >&nbsp;</th>\n",
       "    </tr>\n",
       "  </thead>\n",
       "  <tbody>\n",
       "    <tr>\n",
       "      <th id=\"T_299ee_level0_row0\" class=\"row_heading level0 row0\" rowspan=\"3\">low</th>\n",
       "      <th id=\"T_299ee_level1_row0\" class=\"row_heading level1 row0\" >low</th>\n",
       "      <td id=\"T_299ee_row0_col0\" class=\"data row0 col0\" >9</td>\n",
       "      <td id=\"T_299ee_row0_col1\" class=\"data row0 col1\" ></td>\n",
       "      <td id=\"T_299ee_row0_col2\" class=\"data row0 col2\" >0.03</td>\n",
       "      <td id=\"T_299ee_row0_col3\" class=\"data row0 col3\" >0.23</td>\n",
       "      <td id=\"T_299ee_row0_col4\" class=\"data row0 col4\" >0.29</td>\n",
       "      <td id=\"T_299ee_row0_col5\" class=\"data row0 col5\" >0.36</td>\n",
       "      <td id=\"T_299ee_row0_col6\" class=\"data row0 col6\" >0.20</td>\n",
       "    </tr>\n",
       "    <tr>\n",
       "      <th id=\"T_299ee_level1_row1\" class=\"row_heading level1 row1\" >medium</th>\n",
       "      <td id=\"T_299ee_row1_col0\" class=\"data row1 col0\" >8</td>\n",
       "      <td id=\"T_299ee_row1_col1\" class=\"data row1 col1\" ></td>\n",
       "      <td id=\"T_299ee_row1_col2\" class=\"data row1 col2\" >0.03</td>\n",
       "      <td id=\"T_299ee_row1_col3\" class=\"data row1 col3\" >0.22</td>\n",
       "      <td id=\"T_299ee_row1_col4\" class=\"data row1 col4\" >0.30</td>\n",
       "      <td id=\"T_299ee_row1_col5\" class=\"data row1 col5\" >0.35</td>\n",
       "      <td id=\"T_299ee_row1_col6\" class=\"data row1 col6\" >0.11</td>\n",
       "    </tr>\n",
       "    <tr>\n",
       "      <th id=\"T_299ee_level1_row2\" class=\"row_heading level1 row2\" >high</th>\n",
       "      <td id=\"T_299ee_row2_col0\" class=\"data row2 col0\" >7</td>\n",
       "      <td id=\"T_299ee_row2_col1\" class=\"data row2 col1\" ></td>\n",
       "      <td id=\"T_299ee_row2_col2\" class=\"data row2 col2\" >0.04</td>\n",
       "      <td id=\"T_299ee_row2_col3\" class=\"data row2 col3\" >0.23</td>\n",
       "      <td id=\"T_299ee_row2_col4\" class=\"data row2 col4\" >0.29</td>\n",
       "      <td id=\"T_299ee_row2_col5\" class=\"data row2 col5\" >0.38</td>\n",
       "      <td id=\"T_299ee_row2_col6\" class=\"data row2 col6\" >0.05</td>\n",
       "    </tr>\n",
       "    <tr>\n",
       "      <th id=\"T_299ee_level0_row3\" class=\"row_heading level0 row3\" rowspan=\"3\">medium</th>\n",
       "      <th id=\"T_299ee_level1_row3\" class=\"row_heading level1 row3\" >low</th>\n",
       "      <td id=\"T_299ee_row3_col0\" class=\"data row3 col0\" >6</td>\n",
       "      <td id=\"T_299ee_row3_col1\" class=\"data row3 col1\" ></td>\n",
       "      <td id=\"T_299ee_row3_col2\" class=\"data row3 col2\" >0.02</td>\n",
       "      <td id=\"T_299ee_row3_col3\" class=\"data row3 col3\" >0.27</td>\n",
       "      <td id=\"T_299ee_row3_col4\" class=\"data row3 col4\" >0.31</td>\n",
       "      <td id=\"T_299ee_row3_col5\" class=\"data row3 col5\" >0.36</td>\n",
       "      <td id=\"T_299ee_row3_col6\" class=\"data row3 col6\" >0.11</td>\n",
       "    </tr>\n",
       "    <tr>\n",
       "      <th id=\"T_299ee_level1_row4\" class=\"row_heading level1 row4\" >medium</th>\n",
       "      <td id=\"T_299ee_row4_col0\" class=\"data row4 col0\" >5</td>\n",
       "      <td id=\"T_299ee_row4_col1\" class=\"data row4 col1\" ></td>\n",
       "      <td id=\"T_299ee_row4_col2\" class=\"data row4 col2\" >0.03</td>\n",
       "      <td id=\"T_299ee_row4_col3\" class=\"data row4 col3\" >0.27</td>\n",
       "      <td id=\"T_299ee_row4_col4\" class=\"data row4 col4\" >0.32</td>\n",
       "      <td id=\"T_299ee_row4_col5\" class=\"data row4 col5\" >0.39</td>\n",
       "      <td id=\"T_299ee_row4_col6\" class=\"data row4 col6\" >0.15</td>\n",
       "    </tr>\n",
       "    <tr>\n",
       "      <th id=\"T_299ee_level1_row5\" class=\"row_heading level1 row5\" >high</th>\n",
       "      <td id=\"T_299ee_row5_col0\" class=\"data row5 col0\" >4</td>\n",
       "      <td id=\"T_299ee_row5_col1\" class=\"data row5 col1\" ></td>\n",
       "      <td id=\"T_299ee_row5_col2\" class=\"data row5 col2\" >0.03</td>\n",
       "      <td id=\"T_299ee_row5_col3\" class=\"data row5 col3\" >0.28</td>\n",
       "      <td id=\"T_299ee_row5_col4\" class=\"data row5 col4\" >0.32</td>\n",
       "      <td id=\"T_299ee_row5_col5\" class=\"data row5 col5\" >0.39</td>\n",
       "      <td id=\"T_299ee_row5_col6\" class=\"data row5 col6\" >0.08</td>\n",
       "    </tr>\n",
       "    <tr>\n",
       "      <th id=\"T_299ee_level0_row6\" class=\"row_heading level0 row6\" rowspan=\"3\">high</th>\n",
       "      <th id=\"T_299ee_level1_row6\" class=\"row_heading level1 row6\" >low</th>\n",
       "      <td id=\"T_299ee_row6_col0\" class=\"data row6 col0\" >3</td>\n",
       "      <td id=\"T_299ee_row6_col1\" class=\"data row6 col1\" ></td>\n",
       "      <td id=\"T_299ee_row6_col2\" class=\"data row6 col2\" >0.02</td>\n",
       "      <td id=\"T_299ee_row6_col3\" class=\"data row6 col3\" >0.31</td>\n",
       "      <td id=\"T_299ee_row6_col4\" class=\"data row6 col4\" >0.34</td>\n",
       "      <td id=\"T_299ee_row6_col5\" class=\"data row6 col5\" >0.37</td>\n",
       "      <td id=\"T_299ee_row6_col6\" class=\"data row6 col6\" >0.03</td>\n",
       "    </tr>\n",
       "    <tr>\n",
       "      <th id=\"T_299ee_level1_row7\" class=\"row_heading level1 row7\" >medium</th>\n",
       "      <td id=\"T_299ee_row7_col0\" class=\"data row7 col0\" >2</td>\n",
       "      <td id=\"T_299ee_row7_col1\" class=\"data row7 col1\" ></td>\n",
       "      <td id=\"T_299ee_row7_col2\" class=\"data row7 col2\" >0.02</td>\n",
       "      <td id=\"T_299ee_row7_col3\" class=\"data row7 col3\" >0.29</td>\n",
       "      <td id=\"T_299ee_row7_col4\" class=\"data row7 col4\" >0.34</td>\n",
       "      <td id=\"T_299ee_row7_col5\" class=\"data row7 col5\" >0.37</td>\n",
       "      <td id=\"T_299ee_row7_col6\" class=\"data row7 col6\" >0.08</td>\n",
       "    </tr>\n",
       "    <tr>\n",
       "      <th id=\"T_299ee_level1_row8\" class=\"row_heading level1 row8\" >high</th>\n",
       "      <td id=\"T_299ee_row8_col0\" class=\"data row8 col0\" >1</td>\n",
       "      <td id=\"T_299ee_row8_col1\" class=\"data row8 col1\" ></td>\n",
       "      <td id=\"T_299ee_row8_col2\" class=\"data row8 col2\" >0.03</td>\n",
       "      <td id=\"T_299ee_row8_col3\" class=\"data row8 col3\" >0.28</td>\n",
       "      <td id=\"T_299ee_row8_col4\" class=\"data row8 col4\" >0.35</td>\n",
       "      <td id=\"T_299ee_row8_col5\" class=\"data row8 col5\" >0.46</td>\n",
       "      <td id=\"T_299ee_row8_col6\" class=\"data row8 col6\" >0.20</td>\n",
       "    </tr>\n",
       "  </tbody>\n",
       "</table>\n"
      ],
      "text/plain": [
       "<pandas.io.formats.style.Styler at 0x1a3528350>"
      ]
     },
     "execution_count": 10,
     "metadata": {},
     "output_type": "execute_result"
    }
   ],
   "source": [
    "table, styler = tableau(\n",
    "    statistic=res.statistic,\n",
    "    var_names=res.var_names,\n",
    "    states=res.states,\n",
    "    bins=res.bins,\n",
    "    palette=palette,\n",
    ")\n",
    "styler"
   ]
  },
  {
   "cell_type": "code",
   "execution_count": null,
   "id": "4d7bc168",
   "metadata": {},
   "outputs": [],
   "source": []
  }
 ],
 "metadata": {
  "kernelspec": {
   "display_name": "base",
   "language": "python",
   "name": "python3"
  },
  "language_info": {
   "codemirror_mode": {
    "name": "ipython",
    "version": 3
   },
   "file_extension": ".py",
   "mimetype": "text/x-python",
   "name": "python",
   "nbconvert_exporter": "python",
   "pygments_lexer": "ipython3",
   "version": "3.12.4"
  }
 },
 "nbformat": 4,
 "nbformat_minor": 5
}
