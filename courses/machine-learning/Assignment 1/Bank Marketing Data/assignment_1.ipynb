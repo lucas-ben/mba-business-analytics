{
 "cells": [
  {
   "cell_type": "code",
   "execution_count": 1,
   "id": "b47b7a87",
   "metadata": {},
   "outputs": [],
   "source": [
    "import pandas as pd\n",
    "import numpy as np\n",
    "import seaborn as sns\n",
    "import matplotlib.pyplot as plt\n",
    "from sklearn.model_selection import cross_val_score, StratifiedKFold, train_test_split\n",
    "from sklearn.compose import ColumnTransformer\n",
    "from sklearn.preprocessing import OneHotEncoder, StandardScaler\n",
    "from sklearn.impute import SimpleImputer\n",
    "from sklearn.pipeline import Pipeline\n",
    "from sklearn.inspection import permutation_importance\n",
    "from sklearn.metrics import (accuracy_score, roc_auc_score, f1_score,\n",
    "                             precision_score, recall_score, confusion_matrix,\n",
    "                             log_loss, RocCurveDisplay, PrecisionRecallDisplay, average_precision_score, precision_recall_curve, auc,\n",
    "                             DetCurveDisplay, ConfusionMatrixDisplay, classification_report)\n",
    "from sklearn.linear_model import LogisticRegression\n",
    "from sklearn.neighbors import KNeighborsClassifier\n",
    "from sklearn.ensemble import BaggingClassifier, AdaBoostClassifier, RandomForestClassifier, VotingClassifier\n",
    "from scipy.stats import chi2_contingency"
   ]
  },
  {
   "cell_type": "code",
   "execution_count": 2,
   "id": "55b10b60",
   "metadata": {},
   "outputs": [],
   "source": [
    "# loading data sets\n",
    "df_train = pd.read_csv('train.csv', delimiter = ';')\n",
    "df_test = pd.read_csv('test.csv', delimiter = ';')"
   ]
  },
  {
   "cell_type": "code",
   "execution_count": 3,
   "id": "6e927852",
   "metadata": {},
   "outputs": [
    {
     "name": "stdout",
     "output_type": "stream",
     "text": [
      "<class 'pandas.core.frame.DataFrame'>\n",
      "RangeIndex: 45211 entries, 0 to 45210\n",
      "Data columns (total 17 columns):\n",
      " #   Column     Non-Null Count  Dtype \n",
      "---  ------     --------------  ----- \n",
      " 0   age        45211 non-null  int64 \n",
      " 1   job        45211 non-null  object\n",
      " 2   marital    45211 non-null  object\n",
      " 3   education  45211 non-null  object\n",
      " 4   default    45211 non-null  object\n",
      " 5   balance    45211 non-null  int64 \n",
      " 6   housing    45211 non-null  object\n",
      " 7   loan       45211 non-null  object\n",
      " 8   contact    45211 non-null  object\n",
      " 9   day        45211 non-null  int64 \n",
      " 10  month      45211 non-null  object\n",
      " 11  duration   45211 non-null  int64 \n",
      " 12  campaign   45211 non-null  int64 \n",
      " 13  pdays      45211 non-null  int64 \n",
      " 14  previous   45211 non-null  int64 \n",
      " 15  poutcome   45211 non-null  object\n",
      " 16  y          45211 non-null  object\n",
      "dtypes: int64(7), object(10)\n",
      "memory usage: 5.9+ MB\n"
     ]
    }
   ],
   "source": [
    "df_train.info()"
   ]
  },
  {
   "cell_type": "code",
   "execution_count": 4,
   "id": "d1f3f77c",
   "metadata": {},
   "outputs": [
    {
     "name": "stdout",
     "output_type": "stream",
     "text": [
      "<class 'pandas.core.frame.DataFrame'>\n",
      "RangeIndex: 4521 entries, 0 to 4520\n",
      "Data columns (total 17 columns):\n",
      " #   Column     Non-Null Count  Dtype \n",
      "---  ------     --------------  ----- \n",
      " 0   age        4521 non-null   int64 \n",
      " 1   job        4521 non-null   object\n",
      " 2   marital    4521 non-null   object\n",
      " 3   education  4521 non-null   object\n",
      " 4   default    4521 non-null   object\n",
      " 5   balance    4521 non-null   int64 \n",
      " 6   housing    4521 non-null   object\n",
      " 7   loan       4521 non-null   object\n",
      " 8   contact    4521 non-null   object\n",
      " 9   day        4521 non-null   int64 \n",
      " 10  month      4521 non-null   object\n",
      " 11  duration   4521 non-null   int64 \n",
      " 12  campaign   4521 non-null   int64 \n",
      " 13  pdays      4521 non-null   int64 \n",
      " 14  previous   4521 non-null   int64 \n",
      " 15  poutcome   4521 non-null   object\n",
      " 16  y          4521 non-null   object\n",
      "dtypes: int64(7), object(10)\n",
      "memory usage: 600.6+ KB\n"
     ]
    }
   ],
   "source": [
    "df_test.info()"
   ]
  },
  {
   "cell_type": "code",
   "execution_count": 5,
   "id": "9efa4236",
   "metadata": {},
   "outputs": [
    {
     "name": "stdout",
     "output_type": "stream",
     "text": [
      "Training Set NaNs\n",
      "age          0\n",
      "job          0\n",
      "marital      0\n",
      "education    0\n",
      "default      0\n",
      "balance      0\n",
      "housing      0\n",
      "loan         0\n",
      "contact      0\n",
      "day          0\n",
      "month        0\n",
      "duration     0\n",
      "campaign     0\n",
      "pdays        0\n",
      "previous     0\n",
      "poutcome     0\n",
      "y            0\n",
      "dtype: int64\n",
      "Test Set NaNs\n",
      "age          0\n",
      "job          0\n",
      "marital      0\n",
      "education    0\n",
      "default      0\n",
      "balance      0\n",
      "housing      0\n",
      "loan         0\n",
      "contact      0\n",
      "day          0\n",
      "month        0\n",
      "duration     0\n",
      "campaign     0\n",
      "pdays        0\n",
      "previous     0\n",
      "poutcome     0\n",
      "y            0\n",
      "dtype: int64\n"
     ]
    }
   ],
   "source": [
    "print(f\"Training Set NaNs\\n{df_train.isnull().sum()}\")\n",
    "print(f\"Test Set NaNs\\n{df_test.isnull().sum()}\") # checking for NaN and nulls"
   ]
  },
  {
   "cell_type": "code",
   "execution_count": 6,
   "id": "7a75135b",
   "metadata": {},
   "outputs": [
    {
     "name": "stdout",
     "output_type": "stream",
     "text": [
      "job: 288\n",
      "marital: 0\n",
      "education: 1857\n",
      "default: 0\n",
      "housing: 0\n",
      "loan: 0\n",
      "contact: 13020\n",
      "month: 0\n",
      "poutcome: 36959\n",
      "y: 0\n"
     ]
    }
   ],
   "source": [
    "# checking for 'unknown' values in categorical columns in training set\n",
    "for col in df_train.columns:\n",
    "    if df_train[col].dtype == 'object':\n",
    "        unknown_count = (df_train[col] == 'unknown').sum()\n",
    "        print(f\"{col}: {unknown_count}\")\n"
   ]
  },
  {
   "cell_type": "code",
   "execution_count": 7,
   "id": "9a51dd72",
   "metadata": {},
   "outputs": [
    {
     "name": "stdout",
     "output_type": "stream",
     "text": [
      "job: 38\n",
      "marital: 0\n",
      "education: 187\n",
      "default: 0\n",
      "housing: 0\n",
      "loan: 0\n",
      "contact: 1324\n",
      "month: 0\n",
      "poutcome: 3705\n",
      "y: 0\n"
     ]
    }
   ],
   "source": [
    "# checking for 'unknown' values in categorical columns in test set\n",
    "for col in df_test.columns:\n",
    "    if df_test[col].dtype == 'object':\n",
    "        unknown_count = (df_test[col] == 'unknown').sum()\n",
    "        print(f\"{col}: {unknown_count}\")"
   ]
  },
  {
   "cell_type": "code",
   "execution_count": 8,
   "id": "3d229d97",
   "metadata": {},
   "outputs": [],
   "source": [
    "# exploring class distribution of dependent variable\n",
    "dic = {'no': 0, 'yes': 1} # creating binary dictionary for response variable\n",
    "\n",
    "df_train['y'] = df_train['y'].map(dic)\n",
    "df_test['y'] = df_test['y'].map(dic)"
   ]
  },
  {
   "cell_type": "code",
   "execution_count": 9,
   "id": "9e398f39",
   "metadata": {},
   "outputs": [
    {
     "name": "stdout",
     "output_type": "stream",
     "text": [
      "Mean of training set response variable classes 0.11698480458295547\n"
     ]
    }
   ],
   "source": [
    "training_conversion_rate = df_train['y'].mean()\n",
    "print(f\"Mean of training set response variable classes {df_train['y'].mean()}\")"
   ]
  },
  {
   "cell_type": "code",
   "execution_count": 10,
   "id": "c4d1218d",
   "metadata": {},
   "outputs": [
    {
     "name": "stdout",
     "output_type": "stream",
     "text": [
      "Mean of test set response variable classes 0.11523999115239991\n"
     ]
    }
   ],
   "source": [
    "print(f\"Mean of test set response variable classes {df_test['y'].mean()}\")"
   ]
  },
  {
   "cell_type": "code",
   "execution_count": 11,
   "id": "e2ba86f7",
   "metadata": {},
   "outputs": [
    {
     "name": "stdout",
     "output_type": "stream",
     "text": [
      "y                 0     1\n",
      "job                      \n",
      "admin.         4540   631\n",
      "blue-collar    9024   708\n",
      "entrepreneur   1364   123\n",
      "housemaid      1131   109\n",
      "management     8157  1301\n",
      "retired        1748   516\n",
      "self-employed  1392   187\n",
      "services       3785   369\n",
      "student         669   269\n",
      "technician     6757   840\n",
      "unemployed     1101   202\n",
      "unknown         254    34\n"
     ]
    }
   ],
   "source": [
    "\n",
    "contingency_table = pd.crosstab(df_train['job'], df_train['y']) # creating contingency table\n",
    "print(contingency_table)"
   ]
  },
  {
   "cell_type": "code",
   "execution_count": 12,
   "id": "8ea48054",
   "metadata": {},
   "outputs": [
    {
     "name": "stdout",
     "output_type": "stream",
     "text": [
      "chi-squared statistic 836.1054877471965\n",
      "p-value 3.337121944935502e-172\n",
      "df 11\n"
     ]
    }
   ],
   "source": [
    "chi2, p_value, dof, expected = chi2_contingency(contingency_table)\n",
    "print(f\"chi-squared statistic {chi2}\")\n",
    "print(f\"p-value {p_value}\")\n",
    "print(f\"df {dof}\")"
   ]
  },
  {
   "cell_type": "markdown",
   "id": "24541bc6",
   "metadata": {},
   "source": [
    "- Careers with above average conversion rates:\n",
    "    - Students **28.7%**\n",
    "    - Retired **22.8%**\n",
    "\n",
    "- Careers with below average conversion rates:\n",
    "    - Blue-collar **7.3%**\n",
    "    - Entrepreneur **8.3%**\n",
    "\n",
    "- p-value < 0.05 so reject the null that career type doesn't influence responding well to campaign\n",
    "\n",
    "**Career type and responding positively to the campaign are dependent**\n",
    "\n",
    "The chi-squared test (χ² = 836.11, p < 0.001) provides overwhelming evidence that job type and subscription decisions are strongly related. This suggests that profession is a critical factor in customer behavior and should be prioritized in both feature selection and business strategy.\""
   ]
  },
  {
   "cell_type": "markdown",
   "id": "6948f1f2",
   "metadata": {},
   "source": [
    "**Feature Engineering Ideas**\n",
    "- Categorize variables\n",
    "    - Categorize 'month' (last contact month of the year) into Q1-Q4\n",
    "        - Q1-Q4\n",
    "    - Categorize 'job' into currently working or currently not working\n",
    "        - Currently not working: students, retirees\n",
    "        - Categories of jobs (white collar salaried jobs, blue-collared salaried jobs, variable income (entrepreneurs))\n",
    "        - With these buckets I won't have to use 'education' which is probably collinear with 'job'\n",
    "    - Categorize 'balance' into different buckets of wealth\n",
    "    - Categorize 'day' (last contact day of the month) into buckets\n",
    "        - Could learn the average time of the month people usually pay their bills or repay their debt for most banks\n",
    "    - Categorize 'duration' into buckets of types of clients\n",
    "    - Categorize 'campaign' (number of contacts performed during this campaign and for this client)\n",
    "        - Could be buckets of frequently contacted (see if they subscribed in the past if clients were contacted more or if it bothered them into not subscribing)\n",
    "        - Same for 'previous'\n",
    "    - Categorize 'pdays' (number of days that passed by after the client was last contacted from a previous campaign)"
   ]
  },
  {
   "cell_type": "markdown",
   "id": "d0dc01ef",
   "metadata": {},
   "source": [
    "1. Train baseline model with original features\n",
    "2. Add engineered features incrementally\n",
    "3. Compare model performance"
   ]
  },
  {
   "cell_type": "markdown",
   "id": "94e3c1f0",
   "metadata": {},
   "source": [
    "## **Baseline Logistic Regression Model**"
   ]
  },
  {
   "cell_type": "code",
   "execution_count": 13,
   "id": "d60cf9e8",
   "metadata": {},
   "outputs": [],
   "source": [
    "# baseline logistic regression model\n",
    "X_train = df_train.drop('y', axis=1)\n",
    "y_train = df_train['y']\n",
    "\n",
    "X_test = df_test.drop('y', axis=1)\n",
    "y_test = df_test['y']"
   ]
  },
  {
   "cell_type": "code",
   "execution_count": 14,
   "id": "0b32d272",
   "metadata": {},
   "outputs": [],
   "source": [
    "cat_feats = ['job', 'marital', 'education', 'default', 'housing', 'loan', 'contact', 'month', 'poutcome']\n",
    "num_feats = ['age', 'balance', 'campaign', 'pdays', 'previous', 'day']"
   ]
  },
  {
   "cell_type": "code",
   "execution_count": 15,
   "id": "d76abd71",
   "metadata": {},
   "outputs": [],
   "source": [
    "preprocessor = ColumnTransformer(\n",
    "    transformers=[\n",
    "        ('num', StandardScaler(), num_feats),\n",
    "        ('cat', OneHotEncoder(drop='first', sparse_output=False, handle_unknown='ignore'), cat_feats)\n",
    "    ]\n",
    ")\n",
    "\n",
    "lr = Pipeline([\n",
    "    ('preprocessor', preprocessor),\n",
    "    ('classifier', LogisticRegression(max_iter=1000, random_state=42))\n",
    "])\n",
    "\n",
    "lr.fit(X_train, y_train)\n",
    "\n",
    "pred = lr.predict(X_test)\n",
    "pred_proba = lr.predict_proba(X_test)[:, 1]"
   ]
  },
  {
   "cell_type": "code",
   "execution_count": 16,
   "id": "e4d4ceaa",
   "metadata": {},
   "outputs": [
    {
     "name": "stdout",
     "output_type": "stream",
     "text": [
      "\n",
      "Precision: 0.5920\n"
     ]
    }
   ],
   "source": [
    "precision = precision_score(y_test, pred)\n",
    "print(f\"\\nPrecision: {precision:.4f}\")"
   ]
  },
  {
   "cell_type": "code",
   "execution_count": 17,
   "id": "50b29eaf",
   "metadata": {},
   "outputs": [
    {
     "name": "stdout",
     "output_type": "stream",
     "text": [
      "\n",
      "Recall: 0.1420\n"
     ]
    }
   ],
   "source": [
    "recall = recall_score(y_test, pred)  \n",
    "print(f\"\\nRecall: {recall:.4f}\")"
   ]
  },
  {
   "cell_type": "code",
   "execution_count": 18,
   "id": "a9966cf9",
   "metadata": {},
   "outputs": [
    {
     "data": {
      "image/png": "[encoded data removed]",
      "text/plain": [
       "<Figure size 640x480 with 2 Axes>"
      ]
     },
     "metadata": {},
     "output_type": "display_data"
    }
   ],
   "source": [
    "cm = confusion_matrix(y_test, pred)\n",
    "\n",
    "disp = ConfusionMatrixDisplay(confusion_matrix=cm, display_labels=['Not Subscribed', 'Subscribed'])\n",
    "disp.plot(cmap='Blues')\n",
    "plt.title('Confusion Matrix')\n",
    "plt.show()"
   ]
  },
  {
   "cell_type": "markdown",
   "id": "d0703af2",
   "metadata": {},
   "source": [
    "## **Baseline K-NN Model**"
   ]
  },
  {
   "cell_type": "code",
   "execution_count": 19,
   "id": "d0bf2b83",
   "metadata": {},
   "outputs": [],
   "source": [
    "preprocessor = ColumnTransformer(\n",
    "    transformers = [\n",
    "        ('num', StandardScaler(), num_feats),\n",
    "        ('cat', OneHotEncoder(drop='first', sparse_output=False, handle_unknown='ignore'), cat_feats)\n",
    "    ])\n",
    "\n",
    "knn = Pipeline([\n",
    "    ('preprocessor', preprocessor),\n",
    "    ('classifier', KNeighborsClassifier(n_neighbors=5))\n",
    "])\n",
    "\n",
    "knn.fit(X_train, y_train)\n",
    "\n",
    "pred_knn = knn.predict(X_test)"
   ]
  },
  {
   "cell_type": "code",
   "execution_count": 20,
   "id": "7fca16e3",
   "metadata": {},
   "outputs": [
    {
     "name": "stdout",
     "output_type": "stream",
     "text": [
      "=== k-NN Model Performance ===\n",
      "Precision: 0.7110\n",
      "Recall: 0.2975\n"
     ]
    }
   ],
   "source": [
    "# Calculate precision and recall\n",
    "precision_knn = precision_score(y_test, pred_knn, pos_label=1)\n",
    "recall_knn = recall_score(y_test, pred_knn, pos_label=1)\n",
    "\n",
    "print(\"=== k-NN Model Performance ===\")\n",
    "print(f\"Precision: {precision_knn:.4f}\")\n",
    "print(f\"Recall: {recall_knn:.4f}\")"
   ]
  },
  {
   "cell_type": "code",
   "execution_count": 21,
   "id": "b4e710c9",
   "metadata": {},
   "outputs": [
    {
     "data": {
      "image/png": "[encoded data removed]",
      "text/plain": [
       "<Figure size 1200x600 with 1 Axes>"
      ]
     },
     "metadata": {},
     "output_type": "display_data"
    }
   ],
   "source": [
    "ap_lr = average_precision_score(y_test, lr.predict_proba(X_test)[:, 1])\n",
    "ap_knn = average_precision_score(y_test, knn.predict_proba(X_test)[:, 1])\n",
    "\n",
    "fig, ax = plt.subplots(figsize=(12,6))\n",
    "\n",
    "PrecisionRecallDisplay.from_estimator(\n",
    "    lr, X_test, y_test,\n",
    "    name=f'Logistic Regression (AP={ap_lr:.2f})',\n",
    "    ax=ax\n",
    ")\n",
    "\n",
    "PrecisionRecallDisplay.from_estimator(\n",
    "    knn, X_test, y_test, \n",
    "    name=f'KNN (AP={ap_knn:.2f})',\n",
    "    ax=ax\n",
    ")\n",
    "\n",
    "# Use different colors and add edge colors for visibility\n",
    "ax.scatter(recall, precision, color='darkblue', s=150, marker='o', \n",
    "           edgecolors='black', linewidths=2,\n",
    "           label=f'LR Current (P={precision:.2f}, R={recall:.2f})', zorder=5)\n",
    "ax.scatter(recall_knn, precision_knn, color='darkorange', s=150, marker='o', \n",
    "           edgecolors='black', linewidths=2,\n",
    "           label=f'KNN Current (P={precision_knn:.2f}, R={recall_knn:.2f})', zorder=5)\n",
    "\n",
    "plt.title('Precision-Recall Curve Comparison')\n",
    "plt.legend()\n",
    "plt.grid(True, alpha=0.3)\n",
    "plt.show()"
   ]
  },
  {
   "cell_type": "markdown",
   "id": "dda80af7",
   "metadata": {},
   "source": [
    "**Baseline Model Evaluation**\n",
    "- Logistic regression had higher precision than recall (over 4x) and k-NN had higher precision than recall (more than 2x). By using these models, running another telemarketing campaign can capture a segment of our clients who will leave term deposits somewhat efficiently, however we would miss a chunk of clients who would have also subscribed to more term deposits.\n",
    "\n",
    "- Advantages of higher precision than recall are if we have budget constraints for our telemarketing campaign and want to reduce the risk of losing customers do to false positive cases. \n",
    "\n"
   ]
  },
  {
   "cell_type": "markdown",
   "id": "13043c02",
   "metadata": {},
   "source": [
    "## **Feature Engineering**"
   ]
  },
  {
   "cell_type": "markdown",
   "id": "d7dec82b",
   "metadata": {},
   "source": [
    "- Build baseline k-nn model with all features (and evaluate model)\n",
    "\n",
    "- Show chi-square test results **Career type and responding positively to the campaign are dependent**\n",
    "- Categorize 'month' (last contact month of the year) into Q1-Q4\n",
    "- Categorize 'balance' into different buckets of wealth\n",
    "- Categorize 'duration' into buckets of types of clients\n",
    "\n",
    "- Figure out if there is multicollinearity (and how to deal with it)\n",
    "\n",
    "- Build logistic regression model with engineered features (and evaluate model)\n",
    "\n",
    "- Build k-nn model with engineered features (and evaluate model)\n",
    "\n",
    "- Build logistic regression model with engineered features & balancing classes (try built-in parameter then try downsampling and upweighting majority class method) (and evaluate model)\n",
    "\n",
    "- Build k-nn model with engineered features & balancing classes (and evaluate model)\n",
    "\n",
    "- Build and tune 4 ensemble models (and evalute models)\n",
    "\n",
    "- Write report "
   ]
  },
  {
   "cell_type": "code",
   "execution_count": 22,
   "id": "02d8e21d",
   "metadata": {},
   "outputs": [
    {
     "name": "stdout",
     "output_type": "stream",
     "text": [
      "month\n",
      "apr     2932\n",
      "aug     6247\n",
      "dec      214\n",
      "feb     2649\n",
      "jan     1403\n",
      "jul     6895\n",
      "jun     5341\n",
      "mar      477\n",
      "may    13766\n",
      "nov     3970\n",
      "oct      738\n",
      "sep      579\n",
      "Name: count, dtype: int64\n"
     ]
    }
   ],
   "source": [
    "print(df_train['month'].value_counts().sort_index())"
   ]
  },
  {
   "cell_type": "code",
   "execution_count": 23,
   "id": "3882c342",
   "metadata": {},
   "outputs": [
    {
     "name": "stdout",
     "output_type": "stream",
     "text": [
      "\n",
      "Conversion Rate by Month: month\n",
      "mar    0.519916\n",
      "dec    0.467290\n",
      "sep    0.464594\n",
      "oct    0.437669\n",
      "apr    0.196794\n",
      "feb    0.166478\n",
      "aug    0.110133\n",
      "jun    0.102228\n",
      "nov    0.101511\n",
      "jan    0.101212\n",
      "jul    0.090935\n",
      "may    0.067195\n",
      "Name: y, dtype: float64\n"
     ]
    }
   ],
   "source": [
    "print(f\"\\nConversion Rate by Month: {df_train.groupby('month')['y'].mean().sort_values(ascending=False)}\")\n",
    "# Which months have data and their conversion rates (to create meaningful quarters)"
   ]
  },
  {
   "cell_type": "code",
   "execution_count": 24,
   "id": "e9b423c6",
   "metadata": {},
   "outputs": [
    {
     "name": "stdout",
     "output_type": "stream",
     "text": [
      "\n",
      "==================================================\n",
      "BALANCE STATISTICS\n",
      "==================================================\n",
      "count     45211.000000\n",
      "mean       1362.272058\n",
      "std        3044.765829\n",
      "min       -8019.000000\n",
      "25%          72.000000\n",
      "50%         448.000000\n",
      "75%        1428.000000\n",
      "max      102127.000000\n",
      "Name: balance, dtype: float64\n",
      "\n",
      "Balance percentiles:\n",
      "0.10        0.0\n",
      "0.25       72.0\n",
      "0.50      448.0\n",
      "0.75     1428.0\n",
      "0.90     3574.0\n",
      "0.95     5768.0\n",
      "0.99    13164.9\n",
      "Name: balance, dtype: float64\n",
      "\n",
      "Negative balance count: 3766\n",
      "Negative balance rate: 8.33%\n",
      "\n",
      "Conversion rate by balance sign:\n",
      "balance\n",
      "False    0.122548\n",
      "True     0.055762\n",
      "Name: y, dtype: float64\n"
     ]
    }
   ],
   "source": [
    "print(\"\\n\" + \"=\"*50)\n",
    "print(\"BALANCE STATISTICS\")\n",
    "print(\"=\"*50)\n",
    "print(df_train['balance'].describe())\n",
    "print(\"\\nBalance percentiles:\")\n",
    "print(df_train['balance'].quantile([0.1, 0.25, 0.5, 0.75, 0.9, 0.95, 0.99]))\n",
    "print(f\"\\nNegative balance count: {(df_train['balance'] < 0).sum()}\")\n",
    "print(f\"Negative balance rate: {(df_train['balance'] < 0).mean():.2%}\")\n",
    "print(\"\\nConversion rate by balance sign:\")\n",
    "print(df_train.groupby(df_train['balance'] < 0)['y'].mean())\n",
    "# Balance distribution (to see if quantiles or custom buckets make more sense)"
   ]
  },
  {
   "cell_type": "code",
   "execution_count": 25,
   "id": "e1be009a",
   "metadata": {},
   "outputs": [
    {
     "name": "stdout",
     "output_type": "stream",
     "text": [
      "\n",
      "==================================================\n",
      "DURATION STATISTICS\n",
      "==================================================\n",
      "count    45211.000000\n",
      "mean       258.163080\n",
      "std        257.527812\n",
      "min          0.000000\n",
      "25%        103.000000\n",
      "50%        180.000000\n",
      "75%        319.000000\n",
      "max       4918.000000\n",
      "Name: duration, dtype: float64\n",
      "\n",
      "Duration percentiles:\n",
      "0.10      58.0\n",
      "0.25     103.0\n",
      "0.50     180.0\n",
      "0.75     319.0\n",
      "0.90     548.0\n",
      "0.95     751.0\n",
      "0.99    1269.0\n",
      "Name: duration, dtype: float64\n",
      "\n",
      "Conversion rate by duration quartiles:\n",
      "duration\n",
      "(-0.001, 103.0]    0.011165\n",
      "(103.0, 180.0]     0.051573\n",
      "(180.0, 319.0]     0.112046\n",
      "(319.0, 4918.0]    0.294379\n",
      "Name: y, dtype: float64\n"
     ]
    },
    {
     "name": "stderr",
     "output_type": "stream",
     "text": [
      "/var/folders/3n/b26hkpfd71x2jvpstpknt4ch0000gn/T/ipykernel_41761/1611742492.py:8: FutureWarning: The default of observed=False is deprecated and will be changed to True in a future version of pandas. Pass observed=False to retain current behavior or observed=True to adopt the future default and silence this warning.\n",
      "  print(df_train.groupby(pd.qcut(df_train['duration'], q=4, duplicates='drop'))['y'].mean())\n"
     ]
    }
   ],
   "source": [
    "print(\"\\n\" + \"=\"*50)\n",
    "print(\"DURATION STATISTICS\")\n",
    "print(\"=\"*50)\n",
    "print(df_train['duration'].describe())\n",
    "print(\"\\nDuration percentiles:\")\n",
    "print(df_train['duration'].quantile([0.1, 0.25, 0.5, 0.75, 0.9, 0.95, 0.99]))\n",
    "print(\"\\nConversion rate by duration quartiles:\")\n",
    "print(df_train.groupby(pd.qcut(df_train['duration'], q=4, duplicates='drop'))['y'].mean())\n",
    "# Duration patterns (to determine natural breakpoints for \"client types\")"
   ]
  },
  {
   "cell_type": "code",
   "execution_count": 26,
   "id": "8998864c",
   "metadata": {},
   "outputs": [
    {
     "ename": "NameError",
     "evalue": "name 'lm' is not defined",
     "output_type": "error",
     "traceback": [
      "\u001b[0;31m---------------------------------------------------------------------------\u001b[0m",
      "\u001b[0;31mNameError\u001b[0m                                 Traceback (most recent call last)",
      "Cell \u001b[0;32mIn[26], line 1\u001b[0m\n\u001b[0;32m----> 1\u001b[0m housing_lasso \u001b[38;5;241m=\u001b[39m lm\u001b[38;5;241m.\u001b[39mLasso(alpha\u001b[38;5;241m=\u001b[39m\u001b[38;5;241m10000\u001b[39m)\u001b[38;5;241m.\u001b[39mfit(x, y)\n\u001b[1;32m      2\u001b[0m housing_lasso\u001b[38;5;241m.\u001b[39mcoef_\n",
      "\u001b[0;31mNameError\u001b[0m: name 'lm' is not defined"
     ]
    }
   ],
   "source": [
    "housing_lasso = lm.Lasso(alpha=10000).fit(x, y)\n",
    "housing_lasso.coef_"
   ]
  }
 ],
 "metadata": {
  "kernelspec": {
   "display_name": "base",
   "language": "python",
   "name": "python3"
  },
  "language_info": {
   "codemirror_mode": {
    "name": "ipython",
    "version": 3
   },
   "file_extension": ".py",
   "mimetype": "text/x-python",
   "name": "python",
   "nbconvert_exporter": "python",
   "pygments_lexer": "ipython3",
   "version": "3.12.4"
  }
 },
 "nbformat": 4,
 "nbformat_minor": 5
}
