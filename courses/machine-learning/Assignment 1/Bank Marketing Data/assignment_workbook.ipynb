{
 "cells": [
  {
   "cell_type": "markdown",
   "id": "9a941c9c",
   "metadata": {},
   "source": [
    "# **Ensemble Learning in Action**"
   ]
  },
  {
   "cell_type": "markdown",
   "id": "1f6f432e",
   "metadata": {},
   "source": [
    "**Objective**\n",
    "\n",
    "Build, evaluate, and compare ensemble models while demonstrating an understanding of model mechanics, trade-offs, and business implications."
   ]
  },
  {
   "cell_type": "code",
   "execution_count": 36,
   "id": "8e0806c8",
   "metadata": {},
   "outputs": [],
   "source": [
    "import pandas as pd\n",
    "import numpy as np\n",
    "import seaborn as sns\n",
    "import matplotlib.pyplot as plt\n",
    "from sklearn.model_selection import cross_val_score, StratifiedKFold\n",
    "from sklearn.compose import ColumnTransformer\n",
    "from sklearn.preprocessing import OneHotEncoder, StandardScaler\n",
    "from sklearn.impute import SimpleImputer\n",
    "from sklearn.pipeline import Pipeline\n",
    "from sklearn.inspection import permutation_importance\n",
    "from sklearn.metrics import (accuracy_score, roc_auc_score, f1_score,\n",
    "                             precision_score, recall_score, confusion_matrix,\n",
    "                             log_loss, RocCurveDisplay, PrecisionRecallDisplay,\n",
    "                             DetCurveDisplay, ConfusionMatrixDisplay, brier_score_loss)\n",
    "from sklearn.linear_model import LogisticRegression\n",
    "from sklearn.neighbors import KNeighborsClassifier\n",
    "from sklearn.ensemble import BaggingClassifier, AdaBoostClassifier, RandomForestClassifier, VotingClassifier"
   ]
  },
  {
   "cell_type": "markdown",
   "id": "9b183877",
   "metadata": {},
   "source": [
    "### Libraries\n",
    "\n",
    "**Model Selection & Validation**\n",
    "- cross_val_score: Performs cross-validation to evaluate model performance\n",
    "- StratifiedKFold: Performs cross-validation that maintains class distributions\n",
    "\n",
    "**Data Preprocessing**\n",
    "- ColumnTransformer: Applies different preprocessing to different columns\n",
    "- OneHotEncoderL Applies one hot encoding\n",
    "- StandardScaler: Normalizes features to the same scale\n",
    "- SimpleImputer: Imputes missing values\n",
    "- Pipeline: Chains preprocessing and modelling steps together\n",
    "\n",
    "**Model Analysis**\n",
    "- permutation_importance: Determines feature importance by shuffling features\n",
    "\n",
    "**Evaluation Metrics**\n",
    "- accuracy_score\n",
    "- f1_score\n",
    "- precision_score\n",
    "- recall_score\n",
    "- roc_auc_score\n",
    "- confusion_matrix\n",
    "- log_loss\n",
    "- brier_score_loss\n",
    "\n",
    "**Classification Algorithms**\n",
    "- LogisticRegression\n",
    "- KNeighborsClassifier\n",
    "- BaggingClassifier\n",
    "- AdaBoostClassifier\n",
    "- RandomForestClassifier\n",
    "- VotingClassifier\n"
   ]
  },
  {
   "cell_type": "code",
   "execution_count": 37,
   "id": "19489850",
   "metadata": {},
   "outputs": [],
   "source": [
    "# loading data sets\n",
    "df_train = pd.read_csv('train.csv', delimiter = ';')\n",
    "df_test = pd.read_csv('test.csv', delimiter = ';')"
   ]
  },
  {
   "cell_type": "code",
   "execution_count": 38,
   "id": "be7e27f5",
   "metadata": {},
   "outputs": [
    {
     "name": "stdout",
     "output_type": "stream",
     "text": [
      "<class 'pandas.core.frame.DataFrame'>\n",
      "RangeIndex: 45211 entries, 0 to 45210\n",
      "Data columns (total 17 columns):\n",
      " #   Column     Non-Null Count  Dtype \n",
      "---  ------     --------------  ----- \n",
      " 0   age        45211 non-null  int64 \n",
      " 1   job        45211 non-null  object\n",
      " 2   marital    45211 non-null  object\n",
      " 3   education  45211 non-null  object\n",
      " 4   default    45211 non-null  object\n",
      " 5   balance    45211 non-null  int64 \n",
      " 6   housing    45211 non-null  object\n",
      " 7   loan       45211 non-null  object\n",
      " 8   contact    45211 non-null  object\n",
      " 9   day        45211 non-null  int64 \n",
      " 10  month      45211 non-null  object\n",
      " 11  duration   45211 non-null  int64 \n",
      " 12  campaign   45211 non-null  int64 \n",
      " 13  pdays      45211 non-null  int64 \n",
      " 14  previous   45211 non-null  int64 \n",
      " 15  poutcome   45211 non-null  object\n",
      " 16  y          45211 non-null  object\n",
      "dtypes: int64(7), object(10)\n",
      "memory usage: 5.9+ MB\n"
     ]
    }
   ],
   "source": [
    "df_train.info()"
   ]
  },
  {
   "cell_type": "code",
   "execution_count": 39,
   "id": "d1883c1f",
   "metadata": {},
   "outputs": [
    {
     "name": "stdout",
     "output_type": "stream",
     "text": [
      "Training Set NaNs\n",
      "age          0\n",
      "job          0\n",
      "marital      0\n",
      "education    0\n",
      "default      0\n",
      "balance      0\n",
      "housing      0\n",
      "loan         0\n",
      "contact      0\n",
      "day          0\n",
      "month        0\n",
      "duration     0\n",
      "campaign     0\n",
      "pdays        0\n",
      "previous     0\n",
      "poutcome     0\n",
      "y            0\n",
      "dtype: int64\n",
      "Test Set NaNs\n",
      "age          0\n",
      "job          0\n",
      "marital      0\n",
      "education    0\n",
      "default      0\n",
      "balance      0\n",
      "housing      0\n",
      "loan         0\n",
      "contact      0\n",
      "day          0\n",
      "month        0\n",
      "duration     0\n",
      "campaign     0\n",
      "pdays        0\n",
      "previous     0\n",
      "poutcome     0\n",
      "y            0\n",
      "dtype: int64\n"
     ]
    }
   ],
   "source": [
    "print(f\"Training Set NaNs\\n{df_train.isnull().sum()}\")\n",
    "print(f\"Test Set NaNs\\n{df_test.isnull().sum()}\") # checking for NaN and nulls"
   ]
  },
  {
   "cell_type": "code",
   "execution_count": 40,
   "id": "d7d74239",
   "metadata": {},
   "outputs": [
    {
     "name": "stdout",
     "output_type": "stream",
     "text": [
      "job: 288\n",
      "marital: 0\n",
      "education: 1857\n",
      "default: 0\n",
      "housing: 0\n",
      "loan: 0\n",
      "contact: 13020\n",
      "month: 0\n",
      "poutcome: 36959\n",
      "y: 0\n"
     ]
    }
   ],
   "source": [
    "# checking for 'unknown' values in categorical columns in training set\n",
    "for col in df_train.columns:\n",
    "    if df_train[col].dtype == 'object':\n",
    "        unknown_count = (df_train[col] == 'unknown').sum()\n",
    "        print(f\"{col}: {unknown_count}\")\n",
    "\n",
    "    "
   ]
  },
  {
   "cell_type": "code",
   "execution_count": 41,
   "id": "f50a8975",
   "metadata": {},
   "outputs": [
    {
     "name": "stdout",
     "output_type": "stream",
     "text": [
      "job: 38\n",
      "marital: 0\n",
      "education: 187\n",
      "default: 0\n",
      "housing: 0\n",
      "loan: 0\n",
      "contact: 1324\n",
      "month: 0\n",
      "poutcome: 3705\n",
      "y: 0\n"
     ]
    }
   ],
   "source": [
    "# checking for 'unknown' values in categorical columns in test set\n",
    "for col in df_test.columns:\n",
    "    if df_test[col].dtype == 'object':\n",
    "        unknown_count = (df_test[col] == 'unknown').sum()\n",
    "        print(f\"{col}: {unknown_count}\")"
   ]
  },
  {
   "cell_type": "markdown",
   "id": "f838643b",
   "metadata": {},
   "source": [
    "When I first started exploring the class distribution of the output variable, I realized it was an object with a binary response for the observations,'yes' and 'no', which described whether a client subscribed to a term deposit. To make my analysis easier, I defined a dictionary where 'no' equals 0 and 'yes' equals 1 then mapped it to both the training and test sets. Following this, I transformed the output variable from an object to an integer."
   ]
  },
  {
   "cell_type": "code",
   "execution_count": 42,
   "id": "80848555",
   "metadata": {},
   "outputs": [],
   "source": [
    "# exploring class distribution of dependent variable\n",
    "dic = {'no': 0, 'yes': 1} # creating binary dictionary for response variable\n",
    "\n",
    "df_train['y'] = df_train['y'].map(dic)\n",
    "df_test['y'] = df_test['y'].map(dic)\n",
    "\n",
    "df_train['y'] = df_train['y'].astype(int) \n",
    "df_test['y'] = df_test['y'].astype(int) # changing the output variable from an object to an integer"
   ]
  },
  {
   "cell_type": "code",
   "execution_count": 43,
   "id": "2f6e1afb",
   "metadata": {},
   "outputs": [
    {
     "name": "stdout",
     "output_type": "stream",
     "text": [
      "Mean of training set response variable classes 0.11698480458295547\n"
     ]
    }
   ],
   "source": [
    "print(f\"Mean of training set response variable classes {df_train['y'].mean()}\")"
   ]
  },
  {
   "cell_type": "code",
   "execution_count": 44,
   "id": "5b270685",
   "metadata": {},
   "outputs": [
    {
     "name": "stdout",
     "output_type": "stream",
     "text": [
      "Mean of test set response variable classes 0.11523999115239991\n"
     ]
    }
   ],
   "source": [
    "print(f\"Mean of test set response variable classes {df_test['y'].mean()}\")"
   ]
  },
  {
   "cell_type": "markdown",
   "id": "4c29611a",
   "metadata": {},
   "source": [
    "Both the mean of the training and test set response variable show the majority class is no. This means most clients do not subscribe to a term deposit."
   ]
  },
  {
   "cell_type": "code",
   "execution_count": 45,
   "id": "e0ca0747",
   "metadata": {},
   "outputs": [],
   "source": [
    "# defining majority and minority classes for both data sets for exploration\n",
    "train_majority = df_train[df_train['y'] == 0]\n",
    "test_majority = df_test[df_test['y'] == 0]\n",
    "\n",
    "train_minority = df_train[df_train['y'] == 1]\n",
    "test_minority = df_test[df_test['y'] == 1]"
   ]
  },
  {
   "cell_type": "code",
   "execution_count": 46,
   "id": "94dcec58",
   "metadata": {},
   "outputs": [
    {
     "name": "stdout",
     "output_type": "stream",
     "text": [
      "Training set majority class dimensions (39922, 17)\n",
      "Training set minority class dimensions (5289, 17)\n"
     ]
    }
   ],
   "source": [
    "print(f\"Training set majority class dimensions {train_majority.shape}\")\n",
    "print(f\"Training set minority class dimensions {train_minority.shape}\")"
   ]
  },
  {
   "cell_type": "code",
   "execution_count": 47,
   "id": "6a6ce659",
   "metadata": {},
   "outputs": [
    {
     "name": "stdout",
     "output_type": "stream",
     "text": [
      "The minority class of the training set makes up 13.25% of the data\n"
     ]
    }
   ],
   "source": [
    "print(f\"The minority class of the training set makes up {5289/39922 * 100:.2f}% of the data\")"
   ]
  },
  {
   "cell_type": "code",
   "execution_count": 48,
   "id": "701a8014",
   "metadata": {},
   "outputs": [
    {
     "name": "stdout",
     "output_type": "stream",
     "text": [
      "Test set majority class dimensions (4000, 17)\n",
      "Test set minority class dimensions (521, 17)\n"
     ]
    }
   ],
   "source": [
    "print(f\"Test set majority class dimensions {test_majority.shape}\")\n",
    "print(f\"Test set minority class dimensions {test_minority.shape}\")"
   ]
  },
  {
   "cell_type": "code",
   "execution_count": 49,
   "id": "789b82d3",
   "metadata": {},
   "outputs": [
    {
     "name": "stdout",
     "output_type": "stream",
     "text": [
      "The minority class of the test set makes up 13.03% of the data\n"
     ]
    }
   ],
   "source": [
    "print(f\"The minority class of the test set makes up {521/4000 *100:.2f}% of the data\")"
   ]
  },
  {
   "cell_type": "markdown",
   "id": "c390dd22",
   "metadata": {},
   "source": [
    "There is a large class imbalance between clients who do subscribe to a term deposit and those who don't. This is a severely class-imbalanced data set.\n",
    "\n",
    "Data imbalance refers to the concept where a certain output category is underrepresented in a data set. Class-imbalanced data sets are far more common than class-balanced data sets. The goal of training is to create a model that successfully distinguishes the positive class from the negative class. A severely class-imbalanced data set might not contain enough minority class examples for proper training. During training a model should learn what each class looks like (what feature calues correspond to what class) and how common each class is (what is the relative distribution of the classes). These questions can be addressed with a two-step technique downsampling and upweighting the majority class.\n",
    "\n",
    "**1.** Downsampling the majority class means training on a disproportionately low percentage of majority class observations. I artificially force a class-imbalanced data set to become a little more balanced by omitting majority class examples from training. This increases the likelihood that each batch contains enough obsevations of the minority class to train the model properly. However, downsampling introduces a prediction bias by showing the model an unrealistic reality where the classes are more balanced.\n",
    "\n",
    "**2.** Upweighting the majority class is where the majority class is weighted by the factor to which it was downsampled. Upweigthing means treating the loss on a majority class observation more harshly than the loss on a minority class observation. This will multiply the loss on one observation by the factor to which the majority class was downsampled. \n",
    "\n",
    "Experiment with hyperparameters to determine the factor to use to rebalance the data set. A bonus of this method is faster convergence as the model sees the minority class more often during training. \n",
    "\n",
    "https://developers.google.com/machine-learning/crash-course/overfitting/imbalanced-datasets "
   ]
  },
  {
   "cell_type": "markdown",
   "id": "86932d96",
   "metadata": {},
   "source": [
    "## **Exploratory Data Analysis** \n",
    "- Analyze the data set to summarize its main characteristics (use visuals, statistical models)\n",
    "- I want to see what the data can tell me beyond the formal modelling or hypothesis testing task\n",
    "\n",
    "**Ask myself** What patterns, anomalies, or relationships exist here that I might not anticipate?"
   ]
  },
  {
   "cell_type": "markdown",
   "id": "0c59eb6e",
   "metadata": {},
   "source": [
    "### **Age**"
   ]
  },
  {
   "cell_type": "code",
   "execution_count": 51,
   "id": "2be24108",
   "metadata": {},
   "outputs": [
    {
     "data": {
      "text/plain": [
       "<Axes: xlabel='age', ylabel='Count'>"
      ]
     },
     "execution_count": 51,
     "metadata": {},
     "output_type": "execute_result"
    },
    {
     "data": {
      "image/png": "[encoded data removed]",
      "text/plain": [
       "<Figure size 640x480 with 1 Axes>"
      ]
     },
     "metadata": {},
     "output_type": "display_data"
    }
   ],
   "source": [
    "# I think the best predictors for determining if a direct marketing campaign will result in a client subscribing to a term deposit are:\n",
    "    # Age (older people), job anyone not 'unknown', 'unemployed', 'student', 'retired'), education (tertiary and secondary), doesn't have credit in default, already has a balance with the bank, duration of the call\n",
    "\n",
    "df_train['age'].describe()\n",
    "sns.histplot(df_train['age'])"
   ]
  },
  {
   "cell_type": "markdown",
   "id": "d07fc92e",
   "metadata": {},
   "source": [
    "### **Job**"
   ]
  },
  {
   "cell_type": "code",
   "execution_count": 52,
   "id": "1ca62029",
   "metadata": {},
   "outputs": [
    {
     "data": {
      "text/plain": [
       "job\n",
       "blue-collar      21.525735\n",
       "management       20.919688\n",
       "technician       16.803433\n",
       "admin.           11.437482\n",
       "services          9.188029\n",
       "retired           5.007631\n",
       "self-employed     3.492513\n",
       "entrepreneur      3.289023\n",
       "unemployed        2.882042\n",
       "housemaid         2.742695\n",
       "student           2.074716\n",
       "unknown           0.637013\n",
       "Name: proportion, dtype: float64"
      ]
     },
     "execution_count": 52,
     "metadata": {},
     "output_type": "execute_result"
    }
   ],
   "source": [
    "df_train['job'].value_counts(normalize=True) * 100 # getting percentage of each class in variable 'job'"
   ]
  },
  {
   "cell_type": "code",
   "execution_count": 53,
   "id": "f58d84ba",
   "metadata": {},
   "outputs": [
    {
     "data": {
      "image/png": "[encoded data removed]",
      "text/plain": [
       "<Figure size 640x480 with 1 Axes>"
      ]
     },
     "metadata": {},
     "output_type": "display_data"
    }
   ],
   "source": [
    "df_train['job'].value_counts().plot(kind='pie', autopct='%1.1f%%')\n",
    "plt.title('Distribution of Jobs')\n",
    "plt.ylabel('')\n",
    "plt.show()"
   ]
  },
  {
   "cell_type": "markdown",
   "id": "72f99c5f",
   "metadata": {},
   "source": [
    "### **Education**"
   ]
  },
  {
   "cell_type": "code",
   "execution_count": 54,
   "id": "5dca8b03",
   "metadata": {},
   "outputs": [
    {
     "data": {
      "text/plain": [
       "education\n",
       "secondary    51.319369\n",
       "tertiary     29.419831\n",
       "primary      15.153392\n",
       "unknown       4.107407\n",
       "Name: proportion, dtype: float64"
      ]
     },
     "execution_count": 54,
     "metadata": {},
     "output_type": "execute_result"
    }
   ],
   "source": [
    "df_train['education'].value_counts(normalize=True) * 100"
   ]
  },
  {
   "cell_type": "markdown",
   "id": "cfc20d52",
   "metadata": {},
   "source": [
    "### **Credit Default**"
   ]
  },
  {
   "cell_type": "code",
   "execution_count": 71,
   "id": "1e5189a9",
   "metadata": {},
   "outputs": [
    {
     "data": {
      "text/plain": [
       "default\n",
       "no     98.197341\n",
       "yes     1.802659\n",
       "Name: proportion, dtype: float64"
      ]
     },
     "execution_count": 71,
     "metadata": {},
     "output_type": "execute_result"
    }
   ],
   "source": [
    "df_train['default'].value_counts(normalize=True) * 100"
   ]
  },
  {
   "cell_type": "code",
   "execution_count": 55,
   "id": "b627be59",
   "metadata": {},
   "outputs": [
    {
     "data": {
      "image/png": "[encoded data removed]",
      "text/plain": [
       "<Figure size 640x480 with 1 Axes>"
      ]
     },
     "metadata": {},
     "output_type": "display_data"
    }
   ],
   "source": [
    "df_train['default'].value_counts().plot(kind='bar')\n",
    "plt.title('Distribution of Credit Defaults')\n",
    "plt.xlabel('Has credit in default')\n",
    "plt.ylabel('Count')\n",
    "plt.show()"
   ]
  },
  {
   "cell_type": "markdown",
   "id": "6c036ed1",
   "metadata": {},
   "source": [
    "### **Balance**"
   ]
  },
  {
   "cell_type": "code",
   "execution_count": 56,
   "id": "48cb51e7",
   "metadata": {},
   "outputs": [
    {
     "data": {
      "text/plain": [
       "count     45211.000000\n",
       "mean       1362.272058\n",
       "std        3044.765829\n",
       "min       -8019.000000\n",
       "25%          72.000000\n",
       "50%         448.000000\n",
       "75%        1428.000000\n",
       "max      102127.000000\n",
       "Name: balance, dtype: float64"
      ]
     },
     "execution_count": 56,
     "metadata": {},
     "output_type": "execute_result"
    }
   ],
   "source": [
    "df_train['balance'].describe()"
   ]
  },
  {
   "cell_type": "code",
   "execution_count": null,
   "id": "dbf8e9ce",
   "metadata": {},
   "outputs": [
    {
     "data": {
      "text/plain": [
       "<Axes: xlabel='balance', ylabel='Count'>"
      ]
     },
     "execution_count": 57,
     "metadata": {},
     "output_type": "execute_result"
    },
    {
     "data": {
      "image/png": "[encoded data removed]",
      "text/plain": [
       "<Figure size 640x480 with 1 Axes>"
      ]
     },
     "metadata": {},
     "output_type": "display_data"
    }
   ],
   "source": [
    "sns.histplot(df_train['balance']) # there are some unusually high outliers pulling the mean upward\n",
    "# data is right skewed"
   ]
  },
  {
   "cell_type": "code",
   "execution_count": null,
   "id": "8a3f6aa1",
   "metadata": {},
   "outputs": [
    {
     "data": {
      "text/plain": [
       "0    0\n",
       "Name: balance, dtype: int64"
      ]
     },
     "execution_count": 72,
     "metadata": {},
     "output_type": "execute_result"
    }
   ],
   "source": [
    "df_train['balance'].mode() # most clients have an average yearly balance of $0 with the bank"
   ]
  },
  {
   "cell_type": "code",
   "execution_count": null,
   "id": "e82c395b",
   "metadata": {},
   "outputs": [
    {
     "name": "stdout",
     "output_type": "stream",
     "text": [
      "98th percentile: 9,439.40\n"
     ]
    }
   ],
   "source": [
    "print(f\"98th percentile: {df_train['balance'].quantile(0.98):,.2f}\") # looking at the 98th quantile\n",
    "# just below $10,000"
   ]
  },
  {
   "cell_type": "code",
   "execution_count": null,
   "id": "86121dec",
   "metadata": {},
   "outputs": [
    {
     "name": "stdout",
     "output_type": "stream",
     "text": [
      "99th percentile: 12,757.01\n"
     ]
    }
   ],
   "source": [
    "# looking at 99th percentile \n",
    "print(f\"99th percentile: {df_train['balance'].quantile(0.989):,.2f}\") \n",
    "# a larger jump, this is a good place to winsorize "
   ]
  },
  {
   "cell_type": "markdown",
   "id": "0ec8e2b1",
   "metadata": {},
   "source": [
    "### **Duration of the Call for the Campaign**"
   ]
  },
  {
   "cell_type": "code",
   "execution_count": 58,
   "id": "f1b588f0",
   "metadata": {},
   "outputs": [
    {
     "data": {
      "text/plain": [
       "count    45211.000000\n",
       "mean       258.163080\n",
       "std        257.527812\n",
       "min          0.000000\n",
       "25%        103.000000\n",
       "50%        180.000000\n",
       "75%        319.000000\n",
       "max       4918.000000\n",
       "Name: duration, dtype: float64"
      ]
     },
     "execution_count": 58,
     "metadata": {},
     "output_type": "execute_result"
    }
   ],
   "source": [
    "df_train['duration'].describe()"
   ]
  },
  {
   "cell_type": "code",
   "execution_count": 59,
   "id": "7b89b1e6",
   "metadata": {},
   "outputs": [
    {
     "data": {
      "text/plain": [
       "<Axes: xlabel='duration', ylabel='Count'>"
      ]
     },
     "execution_count": 59,
     "metadata": {},
     "output_type": "execute_result"
    },
    {
     "data": {
      "image/png": "[encoded data removed]",
      "text/plain": [
       "<Figure size 640x480 with 1 Axes>"
      ]
     },
     "metadata": {},
     "output_type": "display_data"
    }
   ],
   "source": [
    "sns.histplot(df_train['duration']) # right skewed\n",
    "# most people stay on the phone for less than 4 minutes"
   ]
  },
  {
   "cell_type": "code",
   "execution_count": 60,
   "id": "a05ef610",
   "metadata": {},
   "outputs": [
    {
     "data": {
      "text/plain": [
       "0    124\n",
       "Name: duration, dtype: int64"
      ]
     },
     "execution_count": 60,
     "metadata": {},
     "output_type": "execute_result"
    }
   ],
   "source": [
    "df_train['duration'].mode() # Most people are on the phone for 2 minutes"
   ]
  },
  {
   "cell_type": "markdown",
   "id": "424ff0df",
   "metadata": {},
   "source": [
    "## **Preparing Data for Linear Model**"
   ]
  },
  {
   "cell_type": "markdown",
   "id": "c3a752f3",
   "metadata": {},
   "source": [
    "**Applying all filters together**\n",
    "- Keeping clients 35 or older\n",
    "- Keeping clients who are not retired, students, unemployed, or have an unknown occupation\n",
    "- Keeping clients with at least secondary education\n",
    "- Keeping clients who stayed on the phone for at least two minutes (who engaged meaningfully with calls)\n",
    "\n",
    "## **All Filter Data Set**"
   ]
  },
  {
   "cell_type": "code",
   "execution_count": 91,
   "id": "1b5b991f",
   "metadata": {},
   "outputs": [
    {
     "name": "stdout",
     "output_type": "stream",
     "text": [
      "Retention Rate: 31.2%\n"
     ]
    }
   ],
   "source": [
    "age_filter = df_train['age'] >= 35\n",
    "job_filter = ~df_train['job'].isin(['unknown', 'unemployed', 'student', 'retired'])\n",
    "education_filter = ~df_train['education'].isin(['unknown', 'primary'])\n",
    "duration_filter = df_train['duration'] >= 120\n",
    "\n",
    "combined_filter = age_filter & job_filter & education_filter & duration_filter\n",
    "df_filtered_train = df_train[combined_filter].copy()\n",
    "\n",
    "print(f\"Retention Rate: {len(df_filtered_train)/len(df_train)*100:.1f}%\") # only about 1/3 of the training set remains after all filters are applied"
   ]
  },
  {
   "cell_type": "code",
   "execution_count": 94,
   "id": "b4aa1134",
   "metadata": {},
   "outputs": [
    {
     "data": {
      "text/plain": [
       "<Axes: xlabel='balance', ylabel='Count'>"
      ]
     },
     "execution_count": 94,
     "metadata": {},
     "output_type": "execute_result"
    },
    {
     "data": {
      "image/png": "[encoded data removed]",
      "text/plain": [
       "<Figure size 640x480 with 1 Axes>"
      ]
     },
     "metadata": {},
     "output_type": "display_data"
    }
   ],
   "source": [
    "sns.histplot(df_filtered_train['balance'])"
   ]
  },
  {
   "cell_type": "code",
   "execution_count": 98,
   "id": "3695421a",
   "metadata": {},
   "outputs": [
    {
     "data": {
      "text/plain": [
       "<Axes: ylabel='Count'>"
      ]
     },
     "execution_count": 98,
     "metadata": {},
     "output_type": "execute_result"
    },
    {
     "data": {
      "image/png": "[encoded data removed]",
      "text/plain": [
       "<Figure size 640x480 with 1 Axes>"
      ]
     },
     "metadata": {},
     "output_type": "display_data"
    }
   ],
   "source": [
    "# winsorizing at 98th percentile to get a better look at most clients with the bank\n",
    "# only winsorizing uppe tail because I think negative balances could be a good indicator for future deposit prediction\n",
    "from scipy.stats import mstats\n",
    "balance_winsorized_train = mstats.winsorize(df_filtered_train['balance'], limits=[0, 0.02])\n",
    "sns.histplot(balance_winsorized_train)"
   ]
  },
  {
   "cell_type": "markdown",
   "id": "e6bfc4cb",
   "metadata": {},
   "source": [
    "**Feature prep for all filter data set**"
   ]
  },
  {
   "cell_type": "code",
   "execution_count": 100,
   "id": "b1ff9b37",
   "metadata": {},
   "outputs": [],
   "source": [
    "df_filtered_train['balance_winsorized'] = mstats.winsorize(df_filtered_train['balance'], limits=[0, 0.02]) # winsorizing balance above 98th percentile\n",
    "\n",
    "# defining quantitative and qualtitative predictors\n",
    "numeric_features = ['age', 'balance_winsorized', 'duration'] \n",
    "categorical_features = ['job', 'education', 'default']\n",
    "\n",
    "X_numeric = df_filtered_train[numeric_features]\n",
    "X_categorical = df_filtered_train[categorical_features]\n",
    "\n",
    "# one hot encoding categorical variables\n",
    "encoder = OneHotEncoder(drop='first', sparse_output=False)\n",
    "X_categorical_encoded = encoder.fit_transform(X_categorical)\n",
    "\n",
    "categorical_names = encoder.get_feature_names_out(categorical_features)\n",
    "\n",
    "X_categorical_df = pd.DataFrame(\n",
    "    X_categorical_encoded,\n",
    "    columns=categorical_names,\n",
    "    index=df_filtered_train.index \n",
    ")"
   ]
  },
  {
   "cell_type": "code",
   "execution_count": 101,
   "id": "756a33ea",
   "metadata": {},
   "outputs": [
    {
     "name": "stdout",
     "output_type": "stream",
     "text": [
      "                            OLS Regression Results                            \n",
      "==============================================================================\n",
      "Dep. Variable:                      y   R-squared:                       0.142\n",
      "Model:                            OLS   Adj. R-squared:                  0.141\n",
      "Method:                 Least Squares   F-statistic:                     194.8\n",
      "Date:                Wed, 24 Sep 2025   Prob (F-statistic):               0.00\n",
      "Time:                        15:13:49   Log-Likelihood:                -4368.1\n",
      "No. Observations:               14115   AIC:                             8762.\n",
      "Df Residuals:                   14102   BIC:                             8860.\n",
      "Df Model:                          12                                         \n",
      "Covariance Type:            nonrobust                                         \n",
      "======================================================================================\n",
      "                         coef    std err          t      P>|t|      [0.025      0.975]\n",
      "--------------------------------------------------------------------------------------\n",
      "const                 -0.0657      0.019     -3.498      0.000      -0.102      -0.029\n",
      "age                    0.0017      0.000      4.539      0.000       0.001       0.002\n",
      "balance_winsorized  8.823e-06   1.29e-06      6.819      0.000    6.29e-06    1.14e-05\n",
      "duration               0.0005   9.97e-06     45.292      0.000       0.000       0.000\n",
      "job_blue-collar       -0.0762      0.010     -7.524      0.000      -0.096      -0.056\n",
      "job_entrepreneur      -0.0803      0.016     -5.132      0.000      -0.111      -0.050\n",
      "job_housemaid         -0.0531      0.021     -2.546      0.011      -0.094      -0.012\n",
      "job_management        -0.0457      0.011     -4.107      0.000      -0.068      -0.024\n",
      "job_self-employed     -0.0802      0.016     -5.174      0.000      -0.111      -0.050\n",
      "job_services          -0.0632      0.011     -5.564      0.000      -0.085      -0.041\n",
      "job_technician        -0.0310      0.010     -3.191      0.001      -0.050      -0.012\n",
      "education_tertiary     0.0555      0.008      6.792      0.000       0.039       0.071\n",
      "default_yes           -0.0294      0.022     -1.363      0.173      -0.072       0.013\n",
      "==============================================================================\n",
      "Omnibus:                     3968.049   Durbin-Watson:                   1.459\n",
      "Prob(Omnibus):                  0.000   Jarque-Bera (JB):             9182.768\n",
      "Skew:                           1.604   Prob(JB):                         0.00\n",
      "Kurtosis:                       5.306   Cond. No.                     2.34e+04\n",
      "==============================================================================\n",
      "\n",
      "Notes:\n",
      "[1] Standard Errors assume that the covariance matrix of the errors is correctly specified.\n",
      "[2] The condition number is large, 2.34e+04. This might indicate that there are\n",
      "strong multicollinearity or other numerical problems.\n"
     ]
    }
   ],
   "source": [
    "# using a linear regression model to assess if the relationship between a client subscribing to more deposits and the data is best described as a linear relationship\n",
    "import statsmodels.api as sm\n",
    "\n",
    "X = pd.concat([X_numeric, X_categorical_df], axis=1) # independent variables\n",
    "y = df_filtered_train['y'] # dependent variable\n",
    "X = sm.add_constant(X) # adding intercept\n",
    "\n",
    "lin_model = sm.OLS(y, X).fit()\n",
    "print(lin_model.summary())\n"
   ]
  },
  {
   "cell_type": "markdown",
   "id": "e4b8129b",
   "metadata": {},
   "source": [
    "- Low R^2 (0.142) and note from model suggesting strong multicollinearity means I should refine my approach."
   ]
  },
  {
   "cell_type": "code",
   "execution_count": null,
   "id": "72b77cad",
   "metadata": {},
   "outputs": [],
   "source": []
  }
 ],
 "metadata": {
  "kernelspec": {
   "display_name": "base",
   "language": "python",
   "name": "python3"
  },
  "language_info": {
   "codemirror_mode": {
    "name": "ipython",
    "version": 3
   },
   "file_extension": ".py",
   "mimetype": "text/x-python",
   "name": "python",
   "nbconvert_exporter": "python",
   "pygments_lexer": "ipython3",
   "version": "3.12.4"
  }
 },
 "nbformat": 4,
 "nbformat_minor": 5
}
