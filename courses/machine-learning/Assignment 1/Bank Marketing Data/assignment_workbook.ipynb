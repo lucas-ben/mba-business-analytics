{
 "cells": [
  {
   "cell_type": "markdown",
   "id": "9a941c9c",
   "metadata": {},
   "source": [
    "# **Ensemble Learning in Action**"
   ]
  },
  {
   "cell_type": "markdown",
   "id": "1f6f432e",
   "metadata": {},
   "source": [
    "**Objective**\n",
    "\n",
    "Build, evaluate, and compare ensemble models while demonstrating an understanding of model mechanics, trade-offs, and business implications."
   ]
  },
  {
   "cell_type": "code",
   "execution_count": 22,
   "id": "8e0806c8",
   "metadata": {},
   "outputs": [],
   "source": [
    "import pandas as pd\n",
    "import numpy as np\n",
    "import seaborn as sns\n",
    "import matplotlib.pyplot as plt\n",
    "from sklearn.model_selection import cross_val_score, StratifiedKFold, train_test_split\n",
    "from sklearn.compose import ColumnTransformer\n",
    "from sklearn.preprocessing import OneHotEncoder, StandardScaler\n",
    "from sklearn.impute import SimpleImputer\n",
    "from sklearn.pipeline import Pipeline\n",
    "from sklearn.inspection import permutation_importance\n",
    "from sklearn.metrics import (accuracy_score, roc_auc_score, f1_score,\n",
    "                             precision_score, recall_score, confusion_matrix,\n",
    "                             log_loss, RocCurveDisplay, PrecisionRecallDisplay,\n",
    "                             DetCurveDisplay, ConfusionMatrixDisplay, brier_score_loss, classification_report)\n",
    "from sklearn.linear_model import LogisticRegression\n",
    "from sklearn.neighbors import KNeighborsClassifier\n",
    "from sklearn.ensemble import BaggingClassifier, AdaBoostClassifier, RandomForestClassifier, VotingClassifier"
   ]
  },
  {
   "cell_type": "markdown",
   "id": "9b183877",
   "metadata": {},
   "source": [
    "### Libraries\n",
    "\n",
    "**Model Selection & Validation**\n",
    "- cross_val_score: Performs cross-validation to evaluate model performance\n",
    "- StratifiedKFold: Performs cross-validation that maintains class distributions\n",
    "\n",
    "**Data Preprocessing**\n",
    "- ColumnTransformer: Applies different preprocessing to different columns\n",
    "- OneHotEncoderL Applies one hot encoding\n",
    "- StandardScaler: Normalizes features to the same scale\n",
    "- SimpleImputer: Imputes missing values\n",
    "- Pipeline: Chains preprocessing and modelling steps together\n",
    "\n",
    "**Model Analysis**\n",
    "- permutation_importance: Determines feature importance by shuffling features\n",
    "\n",
    "**Evaluation Metrics**\n",
    "- accuracy_score\n",
    "- f1_score\n",
    "- precision_score\n",
    "- recall_score\n",
    "- roc_auc_score\n",
    "- confusion_matrix\n",
    "- log_loss\n",
    "- brier_score_loss\n",
    "\n",
    "**Classification Algorithms**\n",
    "- LogisticRegression\n",
    "- KNeighborsClassifier\n",
    "- BaggingClassifier\n",
    "- AdaBoostClassifier\n",
    "- RandomForestClassifier\n",
    "- VotingClassifier\n"
   ]
  },
  {
   "cell_type": "code",
   "execution_count": 2,
   "id": "19489850",
   "metadata": {},
   "outputs": [],
   "source": [
    "# loading data sets\n",
    "df_train = pd.read_csv('train.csv', delimiter = ';')\n",
    "df_test = pd.read_csv('test.csv', delimiter = ';')"
   ]
  },
  {
   "cell_type": "code",
   "execution_count": 3,
   "id": "be7e27f5",
   "metadata": {},
   "outputs": [
    {
     "name": "stdout",
     "output_type": "stream",
     "text": [
      "<class 'pandas.core.frame.DataFrame'>\n",
      "RangeIndex: 45211 entries, 0 to 45210\n",
      "Data columns (total 17 columns):\n",
      " #   Column     Non-Null Count  Dtype \n",
      "---  ------     --------------  ----- \n",
      " 0   age        45211 non-null  int64 \n",
      " 1   job        45211 non-null  object\n",
      " 2   marital    45211 non-null  object\n",
      " 3   education  45211 non-null  object\n",
      " 4   default    45211 non-null  object\n",
      " 5   balance    45211 non-null  int64 \n",
      " 6   housing    45211 non-null  object\n",
      " 7   loan       45211 non-null  object\n",
      " 8   contact    45211 non-null  object\n",
      " 9   day        45211 non-null  int64 \n",
      " 10  month      45211 non-null  object\n",
      " 11  duration   45211 non-null  int64 \n",
      " 12  campaign   45211 non-null  int64 \n",
      " 13  pdays      45211 non-null  int64 \n",
      " 14  previous   45211 non-null  int64 \n",
      " 15  poutcome   45211 non-null  object\n",
      " 16  y          45211 non-null  object\n",
      "dtypes: int64(7), object(10)\n",
      "memory usage: 5.9+ MB\n"
     ]
    }
   ],
   "source": [
    "df_train.info()"
   ]
  },
  {
   "cell_type": "code",
   "execution_count": 3,
   "id": "d1883c1f",
   "metadata": {},
   "outputs": [
    {
     "name": "stdout",
     "output_type": "stream",
     "text": [
      "Training Set NaNs\n",
      "age          0\n",
      "job          0\n",
      "marital      0\n",
      "education    0\n",
      "default      0\n",
      "balance      0\n",
      "housing      0\n",
      "loan         0\n",
      "contact      0\n",
      "day          0\n",
      "month        0\n",
      "duration     0\n",
      "campaign     0\n",
      "pdays        0\n",
      "previous     0\n",
      "poutcome     0\n",
      "y            0\n",
      "dtype: int64\n",
      "Test Set NaNs\n",
      "age          0\n",
      "job          0\n",
      "marital      0\n",
      "education    0\n",
      "default      0\n",
      "balance      0\n",
      "housing      0\n",
      "loan         0\n",
      "contact      0\n",
      "day          0\n",
      "month        0\n",
      "duration     0\n",
      "campaign     0\n",
      "pdays        0\n",
      "previous     0\n",
      "poutcome     0\n",
      "y            0\n",
      "dtype: int64\n"
     ]
    }
   ],
   "source": [
    "print(f\"Training Set NaNs\\n{df_train.isnull().sum()}\")\n",
    "print(f\"Test Set NaNs\\n{df_test.isnull().sum()}\") # checking for NaN and nulls"
   ]
  },
  {
   "cell_type": "code",
   "execution_count": null,
   "id": "d7d74239",
   "metadata": {},
   "outputs": [],
   "source": [
    "# checking for 'unknown' values in categorical columns in training set\n",
    "for col in df_train.columns:\n",
    "    if df_train[col].dtype == 'object':\n",
    "        unknown_count = (df_train[col] == 'unknown').sum()\n",
    "        print(f\"{col}: {unknown_count}\")\n",
    "\n",
    "    "
   ]
  },
  {
   "cell_type": "code",
   "execution_count": null,
   "id": "f50a8975",
   "metadata": {},
   "outputs": [],
   "source": [
    "# checking for 'unknown' values in categorical columns in test set\n",
    "for col in df_test.columns:\n",
    "    if df_test[col].dtype == 'object':\n",
    "        unknown_count = (df_test[col] == 'unknown').sum()\n",
    "        print(f\"{col}: {unknown_count}\")"
   ]
  },
  {
   "cell_type": "markdown",
   "id": "f838643b",
   "metadata": {},
   "source": [
    "When I first started exploring the class distribution of the output variable, I realized it was an object with a binary response for the observations,'yes' and 'no', which described whether a client subscribed to a term deposit. To make my analysis easier, I defined a dictionary where 'no' equals 0 and 'yes' equals 1 then mapped it to both the training and test sets. Following this, I transformed the output variable from an object to an integer."
   ]
  },
  {
   "cell_type": "code",
   "execution_count": null,
   "id": "2f6e1afb",
   "metadata": {},
   "outputs": [],
   "source": [
    "training_conversion_rate = df_train['y'].mean()\n",
    "print(f\"Mean of training set response variable classes {df_train['y'].mean()}\")"
   ]
  },
  {
   "cell_type": "code",
   "execution_count": null,
   "id": "5b270685",
   "metadata": {},
   "outputs": [],
   "source": [
    "print(f\"Mean of test set response variable classes {df_test['y'].mean()}\")"
   ]
  },
  {
   "cell_type": "markdown",
   "id": "4c29611a",
   "metadata": {},
   "source": [
    "Both the mean of the training and test set response variable show the majority class is no. This means most clients do not subscribe to a term deposit."
   ]
  },
  {
   "cell_type": "code",
   "execution_count": null,
   "id": "e0ca0747",
   "metadata": {},
   "outputs": [],
   "source": [
    "# defining majority and minority classes for both data sets for exploration\n",
    "train_majority = df_train[df_train['y'] == 0]\n",
    "test_majority = df_test[df_test['y'] == 0]\n",
    "\n",
    "train_minority = df_train[df_train['y'] == 1]\n",
    "test_minority = df_test[df_test['y'] == 1]"
   ]
  },
  {
   "cell_type": "code",
   "execution_count": null,
   "id": "94dcec58",
   "metadata": {},
   "outputs": [],
   "source": [
    "print(f\"Training set majority class dimensions {train_majority.shape}\")\n",
    "print(f\"Training set minority class dimensions {train_minority.shape}\")"
   ]
  },
  {
   "cell_type": "code",
   "execution_count": null,
   "id": "6a6ce659",
   "metadata": {},
   "outputs": [],
   "source": [
    "print(f\"The minority class of the training set makes up {5289/39922 * 100:.2f}% of the data\")"
   ]
  },
  {
   "cell_type": "code",
   "execution_count": null,
   "id": "701a8014",
   "metadata": {},
   "outputs": [],
   "source": [
    "print(f\"Test set majority class dimensions {test_majority.shape}\")\n",
    "print(f\"Test set minority class dimensions {test_minority.shape}\")"
   ]
  },
  {
   "cell_type": "code",
   "execution_count": null,
   "id": "789b82d3",
   "metadata": {},
   "outputs": [],
   "source": [
    "print(f\"The minority class of the test set makes up {521/4000 *100:.2f}% of the data\")"
   ]
  },
  {
   "cell_type": "markdown",
   "id": "c390dd22",
   "metadata": {},
   "source": [
    "There is a large class imbalance between clients who do subscribe to a term deposit and those who don't. This is a severely class-imbalanced data set.\n",
    "\n",
    "Data imbalance refers to the concept where a certain output category is underrepresented in a data set. Class-imbalanced data sets are far more common than class-balanced data sets. The goal of training is to create a model that successfully distinguishes the positive class from the negative class. A severely class-imbalanced data set might not contain enough minority class examples for proper training. During training a model should learn what each class looks like (what feature calues correspond to what class) and how common each class is (what is the relative distribution of the classes). These questions can be addressed with a two-step technique downsampling and upweighting the majority class.\n",
    "\n",
    "**1.** Downsampling the majority class means training on a disproportionately low percentage of majority class observations. I artificially force a class-imbalanced data set to become a little more balanced by omitting majority class examples from training. This increases the likelihood that each batch contains enough obsevations of the minority class to train the model properly. However, downsampling introduces a prediction bias by showing the model an unrealistic reality where the classes are more balanced.\n",
    "\n",
    "**2.** Upweighting the majority class is where the majority class is weighted by the factor to which it was downsampled. Upweigthing means treating the loss on a majority class observation more harshly than the loss on a minority class observation. This will multiply the loss on one observation by the factor to which the majority class was downsampled. \n",
    "\n",
    "Experiment with hyperparameters to determine the factor to use to rebalance the data set. A bonus of this method is faster convergence as the model sees the minority class more often during training. \n",
    "\n",
    "**has to be in the model setting, like ensemble learning models**\n",
    "https://developers.google.com/machine-learning/crash-course/overfitting/imbalanced-datasets "
   ]
  },
  {
   "cell_type": "markdown",
   "id": "86932d96",
   "metadata": {},
   "source": [
    "## **Exploratory Data Analysis** \n",
    "- Analyze the data set to summarize its main characteristics (use visuals, statistical models)\n",
    "- I want to see what the data can tell me beyond the formal modelling or hypothesis testing task\n",
    "\n",
    "**Ask myself** What patterns, anomalies, or relationships exist here that I might not anticipate?"
   ]
  },
  {
   "cell_type": "markdown",
   "id": "0c59eb6e",
   "metadata": {},
   "source": [
    "### **Age**"
   ]
  },
  {
   "cell_type": "code",
   "execution_count": null,
   "id": "2be24108",
   "metadata": {},
   "outputs": [],
   "source": [
    "# I think the best predictors for determining if a direct marketing campaign will result in a client subscribing to a term deposit are:\n",
    "    # Age (older people), job anyone not 'unknown', 'unemployed', 'student', 'retired'), education (tertiary and secondary), doesn't have credit in default, already has a balance with the bank, duration of the call\n",
    "\n",
    "df_train['age'].describe()\n",
    "sns.histplot(df_train['age'])"
   ]
  },
  {
   "cell_type": "markdown",
   "id": "d07fc92e",
   "metadata": {},
   "source": [
    "### **Job**"
   ]
  },
  {
   "cell_type": "code",
   "execution_count": null,
   "id": "1ca62029",
   "metadata": {},
   "outputs": [],
   "source": [
    "df_train['job'].value_counts(normalize=True) * 100 # getting percentage of each class in variable 'job'"
   ]
  },
  {
   "cell_type": "code",
   "execution_count": null,
   "id": "f58d84ba",
   "metadata": {},
   "outputs": [],
   "source": [
    "df_train['job'].value_counts().plot(kind='pie', autopct='%1.1f%%')\n",
    "plt.title('Distribution of Jobs')\n",
    "plt.ylabel('')\n",
    "plt.show()"
   ]
  },
  {
   "cell_type": "markdown",
   "id": "72f99c5f",
   "metadata": {},
   "source": [
    "### **Education**"
   ]
  },
  {
   "cell_type": "code",
   "execution_count": null,
   "id": "5dca8b03",
   "metadata": {},
   "outputs": [],
   "source": [
    "df_train['education'].value_counts(normalize=True) * 100"
   ]
  },
  {
   "cell_type": "markdown",
   "id": "cfc20d52",
   "metadata": {},
   "source": [
    "### **Credit Default**"
   ]
  },
  {
   "cell_type": "code",
   "execution_count": null,
   "id": "1e5189a9",
   "metadata": {},
   "outputs": [],
   "source": [
    "df_train['default'].value_counts(normalize=True) * 100"
   ]
  },
  {
   "cell_type": "code",
   "execution_count": null,
   "id": "b627be59",
   "metadata": {},
   "outputs": [],
   "source": [
    "df_train['default'].value_counts().plot(kind='bar')\n",
    "plt.title('Distribution of Credit Defaults')\n",
    "plt.xlabel('Has credit in default')\n",
    "plt.ylabel('Count')\n",
    "plt.show()"
   ]
  },
  {
   "cell_type": "markdown",
   "id": "6c036ed1",
   "metadata": {},
   "source": [
    "### **Balance**"
   ]
  },
  {
   "cell_type": "code",
   "execution_count": null,
   "id": "48cb51e7",
   "metadata": {},
   "outputs": [],
   "source": [
    "df_train['balance'].describe()"
   ]
  },
  {
   "cell_type": "code",
   "execution_count": null,
   "id": "dbf8e9ce",
   "metadata": {},
   "outputs": [],
   "source": [
    "sns.histplot(df_train['balance']) # there are some unusually high outliers pulling the mean upward\n",
    "# data is right skewed"
   ]
  },
  {
   "cell_type": "code",
   "execution_count": null,
   "id": "8a3f6aa1",
   "metadata": {},
   "outputs": [],
   "source": [
    "df_train['balance'].mode() # most clients have an average yearly balance of $0 with the bank"
   ]
  },
  {
   "cell_type": "code",
   "execution_count": null,
   "id": "e82c395b",
   "metadata": {},
   "outputs": [],
   "source": [
    "print(f\"98th percentile: {df_train['balance'].quantile(0.98):,.2f}\") # looking at the 98th quantile\n",
    "# just below $10,000"
   ]
  },
  {
   "cell_type": "code",
   "execution_count": null,
   "id": "86121dec",
   "metadata": {},
   "outputs": [],
   "source": [
    "# looking at 99th percentile \n",
    "print(f\"99th percentile: {df_train['balance'].quantile(0.989):,.2f}\") \n",
    "# a larger jump, this is a good place to winsorize "
   ]
  },
  {
   "cell_type": "markdown",
   "id": "0ec8e2b1",
   "metadata": {},
   "source": [
    "### **Duration of the Call for the Campaign**"
   ]
  },
  {
   "cell_type": "code",
   "execution_count": null,
   "id": "f1b588f0",
   "metadata": {},
   "outputs": [],
   "source": [
    "df_train['duration'].describe()"
   ]
  },
  {
   "cell_type": "code",
   "execution_count": null,
   "id": "7b89b1e6",
   "metadata": {},
   "outputs": [],
   "source": [
    "sns.histplot(df_train['duration']) # right skewed\n",
    "# most people stay on the phone for less than 4 minutes"
   ]
  },
  {
   "cell_type": "code",
   "execution_count": null,
   "id": "a05ef610",
   "metadata": {},
   "outputs": [],
   "source": [
    "df_train['duration'].mode() # Most people are on the phone for 2 minutes"
   ]
  },
  {
   "cell_type": "markdown",
   "id": "424ff0df",
   "metadata": {},
   "source": [
    "## **Preparing Data for Linear Model**"
   ]
  },
  {
   "cell_type": "markdown",
   "id": "c3a752f3",
   "metadata": {},
   "source": [
    "**Applying all filters together**\n",
    "- Keeping clients 35 or older\n",
    "- Keeping clients who are not retired, students, unemployed, or have an unknown occupation\n",
    "- Keeping clients with at least secondary education\n",
    "- Keeping clients who stayed on the phone for at least two minutes (who engaged meaningfully with calls)\n",
    "\n",
    "## **All Filter Data Set**"
   ]
  },
  {
   "cell_type": "code",
   "execution_count": null,
   "id": "1b5b991f",
   "metadata": {},
   "outputs": [],
   "source": [
    "age_filter = df_train['age'] >= 35\n",
    "job_filter = ~df_train['job'].isin(['unknown', 'unemployed', 'student', 'retired'])\n",
    "education_filter = ~df_train['education'].isin(['unknown', 'primary'])\n",
    "duration_filter = df_train['duration'] >= 120\n",
    "\n",
    "combined_filter = age_filter & job_filter & education_filter & duration_filter\n",
    "df_filtered_train = df_train[combined_filter].copy()\n",
    "\n",
    "print(f\"Retention Rate: {len(df_filtered_train)/len(df_train)*100:.1f}%\") # only about 1/3 of the training set remains after all filters are applied"
   ]
  },
  {
   "cell_type": "code",
   "execution_count": null,
   "id": "b4aa1134",
   "metadata": {},
   "outputs": [],
   "source": [
    "sns.histplot(df_filtered_train['balance'])"
   ]
  },
  {
   "cell_type": "code",
   "execution_count": null,
   "id": "3695421a",
   "metadata": {},
   "outputs": [],
   "source": [
    "# winsorizing at 98th percentile to get a better look at most clients with the bank\n",
    "# only winsorizing uppe tail because I think negative balances could be a good indicator for future deposit prediction\n",
    "from scipy.stats import mstats\n",
    "balance_winsorized_train = mstats.winsorize(df_filtered_train['balance'], limits=[0, 0.02])\n",
    "sns.histplot(balance_winsorized_train)"
   ]
  },
  {
   "cell_type": "markdown",
   "id": "e6bfc4cb",
   "metadata": {},
   "source": [
    "**Feature prep for all filter data set**"
   ]
  },
  {
   "cell_type": "code",
   "execution_count": null,
   "id": "b1ff9b37",
   "metadata": {},
   "outputs": [],
   "source": [
    "df_filtered_train['balance_winsorized'] = mstats.winsorize(df_filtered_train['balance'], limits=[0, 0.02]) # winsorizing balance above 98th percentile\n",
    "\n",
    "# defining quantitative and qualtitative predictors\n",
    "numeric_features = ['age', 'balance_winsorized', 'duration'] \n",
    "categorical_features = ['job', 'education', 'default']\n",
    "\n",
    "X_numeric = df_filtered_train[numeric_features]\n",
    "X_categorical = df_filtered_train[categorical_features]\n",
    "\n",
    "# one hot encoding categorical variables\n",
    "encoder = OneHotEncoder(drop='first', sparse_output=False)\n",
    "X_categorical_encoded = encoder.fit_transform(X_categorical)\n",
    "\n",
    "categorical_names = encoder.get_feature_names_out(categorical_features)\n",
    "\n",
    "X_categorical_df = pd.DataFrame(\n",
    "    X_categorical_encoded,\n",
    "    columns=categorical_names,\n",
    "    index=df_filtered_train.index \n",
    ")"
   ]
  },
  {
   "cell_type": "code",
   "execution_count": null,
   "id": "756a33ea",
   "metadata": {},
   "outputs": [],
   "source": [
    "# using a linear regression model to assess if the relationship between a client subscribing to more deposits and the data is best described as a linear relationship\n",
    "import statsmodels.api as sm\n",
    "\n",
    "X = pd.concat([X_numeric, X_categorical_df], axis=1) # independent variables\n",
    "y = df_filtered_train['y'] # dependent variable\n",
    "X = sm.add_constant(X) # adding intercept\n",
    "\n",
    "lin_model = sm.OLS(y, X).fit()\n",
    "print(lin_model.summary())\n"
   ]
  },
  {
   "cell_type": "markdown",
   "id": "e4b8129b",
   "metadata": {},
   "source": [
    "- Low R^2 (0.142) and note from model suggesting strong multicollinearity means I should refine my approach."
   ]
  },
  {
   "cell_type": "markdown",
   "id": "43d09f32",
   "metadata": {},
   "source": [
    "**Exploring relationships between categorical variables using chi-squared test**\n",
    "- Why?\n",
    "\n",
    "**I have a lot of categorical variables that could influence whether someone subscribes to a term deposit**\n",
    "\n",
    "**testing independence between categorical variables**\n",
    "- Do certain types of careers make more deposits? \n",
    "- Are married, single, or divorced clients equally likely to make more deposits?\n",
    "-  Does level of education affect the likelihood of making a deposit?\n",
    "- Does previous campaign success predict current campaign success?\n",
    "\n",
    "**If a low p-value (shows strong relationship) then those categorical features are likely influential to the model (if it's a weak relationship, I can consider dropping them)\n",
    "\n",
    "**business problem**\n",
    "- Should the bank target specific job categories differently?\n",
    "- Is marital status relevant for the bank's marketing strategy?"
   ]
  },
  {
   "cell_type": "code",
   "execution_count": null,
   "id": "006c942f",
   "metadata": {},
   "outputs": [],
   "source": [
    "from scipy.stats import chi2_contingency\n",
    "\n",
    "contingency_table = pd.crosstab(df_train['job'], df_train['y']) # creating contingency table\n",
    "print(contingency_table)"
   ]
  },
  {
   "cell_type": "code",
   "execution_count": null,
   "id": "55750490",
   "metadata": {},
   "outputs": [],
   "source": [
    "print(f\"Conversion rate (training set): {training_conversion_rate * 100 :.3f}%\")"
   ]
  },
  {
   "cell_type": "markdown",
   "id": "85614892",
   "metadata": {},
   "source": [
    "- Careers with above average conversion rates:\n",
    "    - Students **28.7%**\n",
    "    - Retired **22.8%**\n",
    "\n",
    "- Careers with below average conversion rates:\n",
    "    - Blue-collar **7.3%**\n",
    "    - Entrepreneur **8.3%**"
   ]
  },
  {
   "cell_type": "code",
   "execution_count": null,
   "id": "9173e325",
   "metadata": {},
   "outputs": [],
   "source": [
    "chi2, p_value, dof, expected = chi2_contingency(contingency_table)\n",
    "print(f\"chi-squared statistic {chi2}\")\n",
    "print(f\"p-value {p_value}\")\n",
    "print(f\"df {dof}\")"
   ]
  },
  {
   "cell_type": "markdown",
   "id": "89595769",
   "metadata": {},
   "source": [
    "- p-value < 0.05 so reject the null that career type doesn't influence responding well to campaign\n",
    "\n",
    "**Career type and responding positively to the campaign are dependent**\n",
    "\n",
    "The chi-squared test (χ² = 836.11, p < 0.001) provides overwhelming evidence that job type and subscription decisions are strongly related. This suggests that profession is a critical factor in customer behavior and should be prioritized in both feature selection and business strategy.\""
   ]
  },
  {
   "cell_type": "markdown",
   "id": "979f8966",
   "metadata": {},
   "source": [
    "Marketing Strategy: \n",
    "- Target students and retirees (better use of resources, better ROI)\n",
    "- Reconsider heavily investing in blue-collar workers\n",
    "- Could try to spend more on management segment because they show promise (13.8% conversion) and a large population"
   ]
  },
  {
   "cell_type": "code",
   "execution_count": null,
   "id": "b26e5748",
   "metadata": {},
   "outputs": [],
   "source": [
    "contingency_table2 = pd.crosstab(df_train['education'], df_train['y']) # creating contingency table\n",
    "print(contingency_table2)"
   ]
  },
  {
   "cell_type": "code",
   "execution_count": null,
   "id": "f7735cd9",
   "metadata": {},
   "outputs": [],
   "source": [
    "print(f\"Conversion rate of clients with primary education {(591/6260) * 100 :.3f}%\")\n",
    "print(f\"Conversion rate of clients with secondary education {(2450/20752) * 100 :.3f}%\")\n",
    "print(f\"Conversion rate of clients with tertiary education {(1996/11305) * 100 :.3f}%\")\n",
    "print(f\"Conversion rate of clients with unknown education level {(252/1605) * 100 :.3f}%\")"
   ]
  },
  {
   "cell_type": "markdown",
   "id": "097547c7",
   "metadata": {},
   "source": [
    "- Education levels with above average conversion rates: **Tertiary, Unknown**"
   ]
  },
  {
   "cell_type": "code",
   "execution_count": null,
   "id": "31995478",
   "metadata": {},
   "outputs": [],
   "source": [
    "chi2, p_value, dof, expected = chi2_contingency(contingency_table2)\n",
    "print(f\"chi-squared statistic {chi2}\")\n",
    "print(f\"p-value {p_value}\")\n",
    "print(f\"df {dof}\")"
   ]
  },
  {
   "cell_type": "markdown",
   "id": "028cb45a",
   "metadata": {},
   "source": [
    "## **Baseline Models**"
   ]
  },
  {
   "cell_type": "markdown",
   "id": "0a4ac4aa",
   "metadata": {},
   "source": [
    "**Logistic Regression**"
   ]
  },
  {
   "cell_type": "code",
   "execution_count": 4,
   "id": "7fae2aa6",
   "metadata": {},
   "outputs": [],
   "source": [
    "df_train['was_previously_contacted'] = (df_train['pdays'] != -1).astype(int) "
   ]
  },
  {
   "cell_type": "code",
   "execution_count": 5,
   "id": "4846f464",
   "metadata": {},
   "outputs": [],
   "source": [
    "# exploring class distribution of dependent variable\n",
    "dic = {'no': 0, 'yes': 1} # creating binary dictionary for response variable\n",
    "\n",
    "df_train['y'] = df_train['y'].map(dic)\n",
    "df_test['y'] = df_test['y'].map(dic)"
   ]
  },
  {
   "cell_type": "code",
   "execution_count": 6,
   "id": "62724974",
   "metadata": {},
   "outputs": [
    {
     "name": "stdout",
     "output_type": "stream",
     "text": [
      "Checking binary columns for issues:\n",
      "default unique values: ['no' 'yes']\n",
      "housing unique values: ['yes' 'no']\n",
      "loan unique values: ['no' 'yes']\n"
     ]
    }
   ],
   "source": [
    "print(\"Checking binary columns for issues:\")\n",
    "binary_cols = ['default', 'housing', 'loan']\n",
    "for col in binary_cols:\n",
    "    print(f\"{col} unique values: {df_train[col].unique()}\")"
   ]
  },
  {
   "cell_type": "code",
   "execution_count": 7,
   "id": "f9a551c1",
   "metadata": {},
   "outputs": [],
   "source": [
    "dic_binary = {'no': 0, 'yes': 1}\n",
    "for col in binary_cols:\n",
    "    # Add this line to handle any unexpected values\n",
    "    df_train[col] = df_train[col].fillna('no')  # or check what the actual issue is\n",
    "    df_train[col] = df_train[col].map(dic_binary)\n",
    "    df_train[col] = df_train[col].astype(int)"
   ]
  },
  {
   "cell_type": "code",
   "execution_count": 23,
   "id": "9150d08e",
   "metadata": {},
   "outputs": [
    {
     "name": "stdout",
     "output_type": "stream",
     "text": [
      "Original dataset shape: (45211, 18)\n",
      "Class distribution:\n",
      "y\n",
      "0    39922\n",
      "1     5289\n",
      "Name: count, dtype: int64\n",
      "Minority class percentage: 11.70%\n"
     ]
    }
   ],
   "source": [
    "print(\"Original dataset shape:\", df_train.shape)\n",
    "print(f\"Class distribution:\\n{df_train['y'].value_counts()}\")\n",
    "print(f\"Minority class percentage: {df_train['y'].mean() * 100:.2f}%\")"
   ]
  },
  {
   "cell_type": "code",
   "execution_count": 8,
   "id": "3cb8a2ee",
   "metadata": {},
   "outputs": [],
   "source": [
    "cat_feats = ['job', 'marital', 'education', 'contact', 'month', 'poutcome']\n",
    "\n",
    "df_encoded = pd.get_dummies(df_train, columns=cat_feats, drop_first=True) # creating dummy variables"
   ]
  },
  {
   "cell_type": "code",
   "execution_count": 9,
   "id": "ed7f7055",
   "metadata": {},
   "outputs": [],
   "source": [
    "# removing variable 'duration' because I don't know the duration of a call before making the call \n",
    "if 'duration' in df_encoded.columns:\n",
    "    df_encoded = df_encoded.drop('duration', axis=1)"
   ]
  },
  {
   "cell_type": "code",
   "execution_count": 10,
   "id": "7517768b",
   "metadata": {},
   "outputs": [],
   "source": [
    "num_feats = ['age', 'balance', 'campaign', 'pdays', 'previous', 'day']\n",
    "\n",
    "num_feats = [col for col in num_feats if col in df_encoded.columns] # filtering to only include features that exist in the data set"
   ]
  },
  {
   "cell_type": "code",
   "execution_count": 11,
   "id": "242736d8",
   "metadata": {},
   "outputs": [],
   "source": [
    "X = df_encoded.drop('y', axis=1) # independent variables\n",
    "y = df_encoded['y'] # target variable"
   ]
  },
  {
   "cell_type": "code",
   "execution_count": 12,
   "id": "ee2d01ba",
   "metadata": {},
   "outputs": [
    {
     "name": "stdout",
     "output_type": "stream",
     "text": [
      "\n",
      "Final feature matrix shape: (45211, 42)\n",
      "Feature names: ['age', 'default', 'balance', 'housing', 'loan', 'day', 'campaign', 'pdays', 'previous', 'was_previously_contacted', 'job_blue-collar', 'job_entrepreneur', 'job_housemaid', 'job_management', 'job_retired', 'job_self-employed', 'job_services', 'job_student', 'job_technician', 'job_unemployed', 'job_unknown', 'marital_married', 'marital_single', 'education_secondary', 'education_tertiary', 'education_unknown', 'contact_telephone', 'contact_unknown', 'month_aug', 'month_dec', 'month_feb', 'month_jan', 'month_jul', 'month_jun', 'month_mar', 'month_may', 'month_nov', 'month_oct', 'month_sep', 'poutcome_other', 'poutcome_success', 'poutcome_unknown']\n"
     ]
    }
   ],
   "source": [
    "print(f\"\\nFinal feature matrix shape: {X.shape}\")\n",
    "print(f\"Feature names: {list(X.columns)}\")"
   ]
  },
  {
   "cell_type": "code",
   "execution_count": 13,
   "id": "340034bc",
   "metadata": {},
   "outputs": [],
   "source": [
    "# standardizing\n",
    "scaler = StandardScaler()\n",
    "X_scaled = X.copy()\n",
    "X_scaled[num_feats] = scaler.fit_transform(X[num_feats])\n"
   ]
  },
  {
   "cell_type": "code",
   "execution_count": 14,
   "id": "1cdc2419",
   "metadata": {},
   "outputs": [],
   "source": [
    "from imblearn.under_sampling import RandomUnderSampler"
   ]
  },
  {
   "cell_type": "markdown",
   "id": "3bff8c2d",
   "metadata": {},
   "source": [
    "**Downsampling**\n",
    "- 88.3% Majority Class\n",
    "- 11.7% Minority Class\n",
    "\n",
    "- Downsample the majority class by a factor of 2 artificially creates a more balanced training set (79% : 21%; ratio 3.8:1)\n",
    "Factor of 2: (88.3/2) : 11.7 = 44.15 : 11.7 → 79% : 21% (ratio 3.8:1)\n",
    "- 11.7/44.15 = 26.5%\n",
    "\n",
    "- By a factor of 4 creates a training set 65% : 35%; ratio 1.9:1"
   ]
  },
  {
   "cell_type": "code",
   "execution_count": 15,
   "id": "4da9ae9b",
   "metadata": {},
   "outputs": [],
   "source": [
    "rus = RandomUnderSampler(sampling_strategy=0.27, random_state=42) # down sampling the majority class by a factor of 2\n",
    "# downsampling will introduce a prediction bias by showing the model an artificial world where the classes are more balanced than in reality\n",
    "# correct this bias by upweighting the majority class by the factor I downsampled by\n",
    "\n",
    "X_downsampled, y_downsampled = rus.fit_resample(X_scaled, y)"
   ]
  },
  {
   "cell_type": "code",
   "execution_count": 16,
   "id": "c48fc2a6",
   "metadata": {},
   "outputs": [],
   "source": [
    "X_train, X_test, y_train, y_test = train_test_split(X_downsampled, y_downsampled, test_size=0.2, random_state=42, stratify=y_downsampled)\n",
    "# stratify=y maintains the same class proportions as the original data set\n",
    "# This is useful when classes are imbalanced because it prevents one set from having too few examples of the minority class and ensures the validation set is representative of the data's distribution"
   ]
  },
  {
   "cell_type": "code",
   "execution_count": 17,
   "id": "6aa57851",
   "metadata": {},
   "outputs": [
    {
     "data": {
      "text/html": [
       "<style>#sk-container-id-1 {\n",
       "  /* Definition of color scheme common for light and dark mode */\n",
       "  --sklearn-color-text: black;\n",
       "  --sklearn-color-line: gray;\n",
       "  /* Definition of color scheme for unfitted estimators */\n",
       "  --sklearn-color-unfitted-level-0: #fff5e6;\n",
       "  --sklearn-color-unfitted-level-1: #f6e4d2;\n",
       "  --sklearn-color-unfitted-level-2: #ffe0b3;\n",
       "  --sklearn-color-unfitted-level-3: chocolate;\n",
       "  /* Definition of color scheme for fitted estimators */\n",
       "  --sklearn-color-fitted-level-0: #f0f8ff;\n",
       "  --sklearn-color-fitted-level-1: #d4ebff;\n",
       "  --sklearn-color-fitted-level-2: #b3dbfd;\n",
       "  --sklearn-color-fitted-level-3: cornflowerblue;\n",
       "\n",
       "  /* Specific color for light theme */\n",
       "  --sklearn-color-text-on-default-background: var(--sg-text-color, var(--theme-code-foreground, var(--jp-content-font-color1, black)));\n",
       "  --sklearn-color-background: var(--sg-background-color, var(--theme-background, var(--jp-layout-color0, white)));\n",
       "  --sklearn-color-border-box: var(--sg-text-color, var(--theme-code-foreground, var(--jp-content-font-color1, black)));\n",
       "  --sklearn-color-icon: #696969;\n",
       "\n",
       "  @media (prefers-color-scheme: dark) {\n",
       "    /* Redefinition of color scheme for dark theme */\n",
       "    --sklearn-color-text-on-default-background: var(--sg-text-color, var(--theme-code-foreground, var(--jp-content-font-color1, white)));\n",
       "    --sklearn-color-background: var(--sg-background-color, var(--theme-background, var(--jp-layout-color0, #111)));\n",
       "    --sklearn-color-border-box: var(--sg-text-color, var(--theme-code-foreground, var(--jp-content-font-color1, white)));\n",
       "    --sklearn-color-icon: #878787;\n",
       "  }\n",
       "}\n",
       "\n",
       "#sk-container-id-1 {\n",
       "  color: var(--sklearn-color-text);\n",
       "}\n",
       "\n",
       "#sk-container-id-1 pre {\n",
       "  padding: 0;\n",
       "}\n",
       "\n",
       "#sk-container-id-1 input.sk-hidden--visually {\n",
       "  border: 0;\n",
       "  clip: rect(1px 1px 1px 1px);\n",
       "  clip: rect(1px, 1px, 1px, 1px);\n",
       "  height: 1px;\n",
       "  margin: -1px;\n",
       "  overflow: hidden;\n",
       "  padding: 0;\n",
       "  position: absolute;\n",
       "  width: 1px;\n",
       "}\n",
       "\n",
       "#sk-container-id-1 div.sk-dashed-wrapped {\n",
       "  border: 1px dashed var(--sklearn-color-line);\n",
       "  margin: 0 0.4em 0.5em 0.4em;\n",
       "  box-sizing: border-box;\n",
       "  padding-bottom: 0.4em;\n",
       "  background-color: var(--sklearn-color-background);\n",
       "}\n",
       "\n",
       "#sk-container-id-1 div.sk-container {\n",
       "  /* jupyter's `normalize.less` sets `[hidden] { display: none; }`\n",
       "     but bootstrap.min.css set `[hidden] { display: none !important; }`\n",
       "     so we also need the `!important` here to be able to override the\n",
       "     default hidden behavior on the sphinx rendered scikit-learn.org.\n",
       "     See: https://github.com/scikit-learn/scikit-learn/issues/21755 */\n",
       "  display: inline-block !important;\n",
       "  position: relative;\n",
       "}\n",
       "\n",
       "#sk-container-id-1 div.sk-text-repr-fallback {\n",
       "  display: none;\n",
       "}\n",
       "\n",
       "div.sk-parallel-item,\n",
       "div.sk-serial,\n",
       "div.sk-item {\n",
       "  /* draw centered vertical line to link estimators */\n",
       "  background-image: linear-gradient(var(--sklearn-color-text-on-default-background), var(--sklearn-color-text-on-default-background));\n",
       "  background-size: 2px 100%;\n",
       "  background-repeat: no-repeat;\n",
       "  background-position: center center;\n",
       "}\n",
       "\n",
       "/* Parallel-specific style estimator block */\n",
       "\n",
       "#sk-container-id-1 div.sk-parallel-item::after {\n",
       "  content: \"\";\n",
       "  width: 100%;\n",
       "  border-bottom: 2px solid var(--sklearn-color-text-on-default-background);\n",
       "  flex-grow: 1;\n",
       "}\n",
       "\n",
       "#sk-container-id-1 div.sk-parallel {\n",
       "  display: flex;\n",
       "  align-items: stretch;\n",
       "  justify-content: center;\n",
       "  background-color: var(--sklearn-color-background);\n",
       "  position: relative;\n",
       "}\n",
       "\n",
       "#sk-container-id-1 div.sk-parallel-item {\n",
       "  display: flex;\n",
       "  flex-direction: column;\n",
       "}\n",
       "\n",
       "#sk-container-id-1 div.sk-parallel-item:first-child::after {\n",
       "  align-self: flex-end;\n",
       "  width: 50%;\n",
       "}\n",
       "\n",
       "#sk-container-id-1 div.sk-parallel-item:last-child::after {\n",
       "  align-self: flex-start;\n",
       "  width: 50%;\n",
       "}\n",
       "\n",
       "#sk-container-id-1 div.sk-parallel-item:only-child::after {\n",
       "  width: 0;\n",
       "}\n",
       "\n",
       "/* Serial-specific style estimator block */\n",
       "\n",
       "#sk-container-id-1 div.sk-serial {\n",
       "  display: flex;\n",
       "  flex-direction: column;\n",
       "  align-items: center;\n",
       "  background-color: var(--sklearn-color-background);\n",
       "  padding-right: 1em;\n",
       "  padding-left: 1em;\n",
       "}\n",
       "\n",
       "\n",
       "/* Toggleable style: style used for estimator/Pipeline/ColumnTransformer box that is\n",
       "clickable and can be expanded/collapsed.\n",
       "- Pipeline and ColumnTransformer use this feature and define the default style\n",
       "- Estimators will overwrite some part of the style using the `sk-estimator` class\n",
       "*/\n",
       "\n",
       "/* Pipeline and ColumnTransformer style (default) */\n",
       "\n",
       "#sk-container-id-1 div.sk-toggleable {\n",
       "  /* Default theme specific background. It is overwritten whether we have a\n",
       "  specific estimator or a Pipeline/ColumnTransformer */\n",
       "  background-color: var(--sklearn-color-background);\n",
       "}\n",
       "\n",
       "/* Toggleable label */\n",
       "#sk-container-id-1 label.sk-toggleable__label {\n",
       "  cursor: pointer;\n",
       "  display: block;\n",
       "  width: 100%;\n",
       "  margin-bottom: 0;\n",
       "  padding: 0.5em;\n",
       "  box-sizing: border-box;\n",
       "  text-align: center;\n",
       "}\n",
       "\n",
       "#sk-container-id-1 label.sk-toggleable__label-arrow:before {\n",
       "  /* Arrow on the left of the label */\n",
       "  content: \"▸\";\n",
       "  float: left;\n",
       "  margin-right: 0.25em;\n",
       "  color: var(--sklearn-color-icon);\n",
       "}\n",
       "\n",
       "#sk-container-id-1 label.sk-toggleable__label-arrow:hover:before {\n",
       "  color: var(--sklearn-color-text);\n",
       "}\n",
       "\n",
       "/* Toggleable content - dropdown */\n",
       "\n",
       "#sk-container-id-1 div.sk-toggleable__content {\n",
       "  max-height: 0;\n",
       "  max-width: 0;\n",
       "  overflow: hidden;\n",
       "  text-align: left;\n",
       "  /* unfitted */\n",
       "  background-color: var(--sklearn-color-unfitted-level-0);\n",
       "}\n",
       "\n",
       "#sk-container-id-1 div.sk-toggleable__content.fitted {\n",
       "  /* fitted */\n",
       "  background-color: var(--sklearn-color-fitted-level-0);\n",
       "}\n",
       "\n",
       "#sk-container-id-1 div.sk-toggleable__content pre {\n",
       "  margin: 0.2em;\n",
       "  border-radius: 0.25em;\n",
       "  color: var(--sklearn-color-text);\n",
       "  /* unfitted */\n",
       "  background-color: var(--sklearn-color-unfitted-level-0);\n",
       "}\n",
       "\n",
       "#sk-container-id-1 div.sk-toggleable__content.fitted pre {\n",
       "  /* unfitted */\n",
       "  background-color: var(--sklearn-color-fitted-level-0);\n",
       "}\n",
       "\n",
       "#sk-container-id-1 input.sk-toggleable__control:checked~div.sk-toggleable__content {\n",
       "  /* Expand drop-down */\n",
       "  max-height: 200px;\n",
       "  max-width: 100%;\n",
       "  overflow: auto;\n",
       "}\n",
       "\n",
       "#sk-container-id-1 input.sk-toggleable__control:checked~label.sk-toggleable__label-arrow:before {\n",
       "  content: \"▾\";\n",
       "}\n",
       "\n",
       "/* Pipeline/ColumnTransformer-specific style */\n",
       "\n",
       "#sk-container-id-1 div.sk-label input.sk-toggleable__control:checked~label.sk-toggleable__label {\n",
       "  color: var(--sklearn-color-text);\n",
       "  background-color: var(--sklearn-color-unfitted-level-2);\n",
       "}\n",
       "\n",
       "#sk-container-id-1 div.sk-label.fitted input.sk-toggleable__control:checked~label.sk-toggleable__label {\n",
       "  background-color: var(--sklearn-color-fitted-level-2);\n",
       "}\n",
       "\n",
       "/* Estimator-specific style */\n",
       "\n",
       "/* Colorize estimator box */\n",
       "#sk-container-id-1 div.sk-estimator input.sk-toggleable__control:checked~label.sk-toggleable__label {\n",
       "  /* unfitted */\n",
       "  background-color: var(--sklearn-color-unfitted-level-2);\n",
       "}\n",
       "\n",
       "#sk-container-id-1 div.sk-estimator.fitted input.sk-toggleable__control:checked~label.sk-toggleable__label {\n",
       "  /* fitted */\n",
       "  background-color: var(--sklearn-color-fitted-level-2);\n",
       "}\n",
       "\n",
       "#sk-container-id-1 div.sk-label label.sk-toggleable__label,\n",
       "#sk-container-id-1 div.sk-label label {\n",
       "  /* The background is the default theme color */\n",
       "  color: var(--sklearn-color-text-on-default-background);\n",
       "}\n",
       "\n",
       "/* On hover, darken the color of the background */\n",
       "#sk-container-id-1 div.sk-label:hover label.sk-toggleable__label {\n",
       "  color: var(--sklearn-color-text);\n",
       "  background-color: var(--sklearn-color-unfitted-level-2);\n",
       "}\n",
       "\n",
       "/* Label box, darken color on hover, fitted */\n",
       "#sk-container-id-1 div.sk-label.fitted:hover label.sk-toggleable__label.fitted {\n",
       "  color: var(--sklearn-color-text);\n",
       "  background-color: var(--sklearn-color-fitted-level-2);\n",
       "}\n",
       "\n",
       "/* Estimator label */\n",
       "\n",
       "#sk-container-id-1 div.sk-label label {\n",
       "  font-family: monospace;\n",
       "  font-weight: bold;\n",
       "  display: inline-block;\n",
       "  line-height: 1.2em;\n",
       "}\n",
       "\n",
       "#sk-container-id-1 div.sk-label-container {\n",
       "  text-align: center;\n",
       "}\n",
       "\n",
       "/* Estimator-specific */\n",
       "#sk-container-id-1 div.sk-estimator {\n",
       "  font-family: monospace;\n",
       "  border: 1px dotted var(--sklearn-color-border-box);\n",
       "  border-radius: 0.25em;\n",
       "  box-sizing: border-box;\n",
       "  margin-bottom: 0.5em;\n",
       "  /* unfitted */\n",
       "  background-color: var(--sklearn-color-unfitted-level-0);\n",
       "}\n",
       "\n",
       "#sk-container-id-1 div.sk-estimator.fitted {\n",
       "  /* fitted */\n",
       "  background-color: var(--sklearn-color-fitted-level-0);\n",
       "}\n",
       "\n",
       "/* on hover */\n",
       "#sk-container-id-1 div.sk-estimator:hover {\n",
       "  /* unfitted */\n",
       "  background-color: var(--sklearn-color-unfitted-level-2);\n",
       "}\n",
       "\n",
       "#sk-container-id-1 div.sk-estimator.fitted:hover {\n",
       "  /* fitted */\n",
       "  background-color: var(--sklearn-color-fitted-level-2);\n",
       "}\n",
       "\n",
       "/* Specification for estimator info (e.g. \"i\" and \"?\") */\n",
       "\n",
       "/* Common style for \"i\" and \"?\" */\n",
       "\n",
       ".sk-estimator-doc-link,\n",
       "a:link.sk-estimator-doc-link,\n",
       "a:visited.sk-estimator-doc-link {\n",
       "  float: right;\n",
       "  font-size: smaller;\n",
       "  line-height: 1em;\n",
       "  font-family: monospace;\n",
       "  background-color: var(--sklearn-color-background);\n",
       "  border-radius: 1em;\n",
       "  height: 1em;\n",
       "  width: 1em;\n",
       "  text-decoration: none !important;\n",
       "  margin-left: 1ex;\n",
       "  /* unfitted */\n",
       "  border: var(--sklearn-color-unfitted-level-1) 1pt solid;\n",
       "  color: var(--sklearn-color-unfitted-level-1);\n",
       "}\n",
       "\n",
       ".sk-estimator-doc-link.fitted,\n",
       "a:link.sk-estimator-doc-link.fitted,\n",
       "a:visited.sk-estimator-doc-link.fitted {\n",
       "  /* fitted */\n",
       "  border: var(--sklearn-color-fitted-level-1) 1pt solid;\n",
       "  color: var(--sklearn-color-fitted-level-1);\n",
       "}\n",
       "\n",
       "/* On hover */\n",
       "div.sk-estimator:hover .sk-estimator-doc-link:hover,\n",
       ".sk-estimator-doc-link:hover,\n",
       "div.sk-label-container:hover .sk-estimator-doc-link:hover,\n",
       ".sk-estimator-doc-link:hover {\n",
       "  /* unfitted */\n",
       "  background-color: var(--sklearn-color-unfitted-level-3);\n",
       "  color: var(--sklearn-color-background);\n",
       "  text-decoration: none;\n",
       "}\n",
       "\n",
       "div.sk-estimator.fitted:hover .sk-estimator-doc-link.fitted:hover,\n",
       ".sk-estimator-doc-link.fitted:hover,\n",
       "div.sk-label-container:hover .sk-estimator-doc-link.fitted:hover,\n",
       ".sk-estimator-doc-link.fitted:hover {\n",
       "  /* fitted */\n",
       "  background-color: var(--sklearn-color-fitted-level-3);\n",
       "  color: var(--sklearn-color-background);\n",
       "  text-decoration: none;\n",
       "}\n",
       "\n",
       "/* Span, style for the box shown on hovering the info icon */\n",
       ".sk-estimator-doc-link span {\n",
       "  display: none;\n",
       "  z-index: 9999;\n",
       "  position: relative;\n",
       "  font-weight: normal;\n",
       "  right: .2ex;\n",
       "  padding: .5ex;\n",
       "  margin: .5ex;\n",
       "  width: min-content;\n",
       "  min-width: 20ex;\n",
       "  max-width: 50ex;\n",
       "  color: var(--sklearn-color-text);\n",
       "  box-shadow: 2pt 2pt 4pt #999;\n",
       "  /* unfitted */\n",
       "  background: var(--sklearn-color-unfitted-level-0);\n",
       "  border: .5pt solid var(--sklearn-color-unfitted-level-3);\n",
       "}\n",
       "\n",
       ".sk-estimator-doc-link.fitted span {\n",
       "  /* fitted */\n",
       "  background: var(--sklearn-color-fitted-level-0);\n",
       "  border: var(--sklearn-color-fitted-level-3);\n",
       "}\n",
       "\n",
       ".sk-estimator-doc-link:hover span {\n",
       "  display: block;\n",
       "}\n",
       "\n",
       "/* \"?\"-specific style due to the `<a>` HTML tag */\n",
       "\n",
       "#sk-container-id-1 a.estimator_doc_link {\n",
       "  float: right;\n",
       "  font-size: 1rem;\n",
       "  line-height: 1em;\n",
       "  font-family: monospace;\n",
       "  background-color: var(--sklearn-color-background);\n",
       "  border-radius: 1rem;\n",
       "  height: 1rem;\n",
       "  width: 1rem;\n",
       "  text-decoration: none;\n",
       "  /* unfitted */\n",
       "  color: var(--sklearn-color-unfitted-level-1);\n",
       "  border: var(--sklearn-color-unfitted-level-1) 1pt solid;\n",
       "}\n",
       "\n",
       "#sk-container-id-1 a.estimator_doc_link.fitted {\n",
       "  /* fitted */\n",
       "  border: var(--sklearn-color-fitted-level-1) 1pt solid;\n",
       "  color: var(--sklearn-color-fitted-level-1);\n",
       "}\n",
       "\n",
       "/* On hover */\n",
       "#sk-container-id-1 a.estimator_doc_link:hover {\n",
       "  /* unfitted */\n",
       "  background-color: var(--sklearn-color-unfitted-level-3);\n",
       "  color: var(--sklearn-color-background);\n",
       "  text-decoration: none;\n",
       "}\n",
       "\n",
       "#sk-container-id-1 a.estimator_doc_link.fitted:hover {\n",
       "  /* fitted */\n",
       "  background-color: var(--sklearn-color-fitted-level-3);\n",
       "}\n",
       "</style><div id=\"sk-container-id-1\" class=\"sk-top-container\"><div class=\"sk-text-repr-fallback\"><pre>LogisticRegression(class_weight={0: 2.0, 1: 1.0}, max_iter=1000,\n",
       "                   random_state=42)</pre><b>In a Jupyter environment, please rerun this cell to show the HTML representation or trust the notebook. <br />On GitHub, the HTML representation is unable to render, please try loading this page with nbviewer.org.</b></div><div class=\"sk-container\" hidden><div class=\"sk-item\"><div class=\"sk-estimator fitted sk-toggleable\"><input class=\"sk-toggleable__control sk-hidden--visually\" id=\"sk-estimator-id-1\" type=\"checkbox\" checked><label for=\"sk-estimator-id-1\" class=\"sk-toggleable__label fitted sk-toggleable__label-arrow fitted\">&nbsp;&nbsp;LogisticRegression<a class=\"sk-estimator-doc-link fitted\" rel=\"noreferrer\" target=\"_blank\" href=\"https://scikit-learn.org/1.4/modules/generated/sklearn.linear_model.LogisticRegression.html\">?<span>Documentation for LogisticRegression</span></a><span class=\"sk-estimator-doc-link fitted\">i<span>Fitted</span></span></label><div class=\"sk-toggleable__content fitted\"><pre>LogisticRegression(class_weight={0: 2.0, 1: 1.0}, max_iter=1000,\n",
       "                   random_state=42)</pre></div> </div></div></div></div>"
      ],
      "text/plain": [
       "LogisticRegression(class_weight={0: 2.0, 1: 1.0}, max_iter=1000,\n",
       "                   random_state=42)"
      ]
     },
     "execution_count": 17,
     "metadata": {},
     "output_type": "execute_result"
    }
   ],
   "source": [
    "lr = LogisticRegression(class_weight={0: 2.0, 1: 1.0}, # upweighting majority class by a factor of 2\n",
    "                        random_state=42,\n",
    "                        max_iter=1000\n",
    ")\n",
    "\n",
    "lr.fit(X_train, y_train)"
   ]
  },
  {
   "cell_type": "code",
   "execution_count": 20,
   "id": "6a5bba37",
   "metadata": {},
   "outputs": [
    {
     "name": "stdout",
     "output_type": "stream",
     "text": [
      "Accuracy: 0.8145\n"
     ]
    }
   ],
   "source": [
    "y_pred = lr.predict(X_test) # making predictions\n",
    "y_pred_proba = lr.predict_proba(X_test)[:, 1] # probabilities for positive class\n",
    "\n",
    "accuracy = accuracy_score(y_test, y_pred)\n",
    "print(f\"Accuracy: {accuracy:.4f}\")"
   ]
  },
  {
   "cell_type": "code",
   "execution_count": 23,
   "id": "b0f02127",
   "metadata": {},
   "outputs": [
    {
     "name": "stdout",
     "output_type": "stream",
     "text": [
      "              precision    recall  f1-score   support\n",
      "\n",
      "           0       0.82      0.99      0.89      3918\n",
      "           1       0.77      0.18      0.29      1058\n",
      "\n",
      "    accuracy                           0.81      4976\n",
      "   macro avg       0.79      0.58      0.59      4976\n",
      "weighted avg       0.81      0.81      0.77      4976\n",
      "\n"
     ]
    }
   ],
   "source": [
    "print(classification_report(y_test, y_pred))"
   ]
  },
  {
   "cell_type": "code",
   "execution_count": 25,
   "id": "605c2948",
   "metadata": {},
   "outputs": [
    {
     "name": "stdout",
     "output_type": "stream",
     "text": [
      "\n",
      "AUC Score: 0.7673\n"
     ]
    },
    {
     "data": {
      "image/png": "[encoded data removed]",
      "text/plain": [
       "<Figure size 800x600 with 1 Axes>"
      ]
     },
     "metadata": {},
     "output_type": "display_data"
    }
   ],
   "source": [
    "from sklearn.metrics import roc_auc_score, roc_curve\n",
    "\n",
    "# AUC Score\n",
    "auc = roc_auc_score(y_test, y_pred_proba)\n",
    "print(f\"\\nAUC Score: {auc:.4f}\")\n",
    "\n",
    "# ROC Curve\n",
    "fpr, tpr, _ = roc_curve(y_test, y_pred_proba)\n",
    "plt.figure(figsize=(8, 6))\n",
    "plt.plot(fpr, tpr, label=f'ROC Curve (AUC = {auc:.4f})')\n",
    "plt.plot([0, 1], [0, 1], 'k--', label='Random')\n",
    "plt.xlabel('False Positive Rate')\n",
    "plt.ylabel('True Positive Rate')\n",
    "plt.title('ROC Curve')\n",
    "plt.legend()\n",
    "plt.show()"
   ]
  },
  {
   "cell_type": "code",
   "execution_count": 26,
   "id": "edeaeea5",
   "metadata": {},
   "outputs": [
    {
     "name": "stdout",
     "output_type": "stream",
     "text": [
      "\n",
      "Top 10 Most Important Features:\n",
      "             feature  coefficient\n",
      "40  poutcome_success     2.188582\n",
      "27   contact_unknown    -1.331569\n",
      "34         month_mar     1.036319\n",
      "31         month_jan    -1.035515\n",
      "36         month_nov    -0.855201\n",
      "28         month_aug    -0.819606\n",
      "32         month_jul    -0.712808\n",
      "38         month_sep     0.712581\n",
      "37         month_oct     0.602066\n",
      "3            housing    -0.490219\n"
     ]
    }
   ],
   "source": [
    "# Get feature coefficients\n",
    "feature_importance = pd.DataFrame({\n",
    "    'feature': X_train.columns,\n",
    "    'coefficient': lr.coef_[0]\n",
    "})\n",
    "feature_importance = feature_importance.sort_values('coefficient', key=abs, ascending=False)\n",
    "\n",
    "print(\"\\nTop 10 Most Important Features:\")\n",
    "print(feature_importance.head(10))"
   ]
  },
  {
   "cell_type": "code",
   "execution_count": 27,
   "id": "27858f14",
   "metadata": {},
   "outputs": [
    {
     "data": {
      "image/png": "[encoded data removed]",
      "text/plain": [
       "<Figure size 1000x600 with 1 Axes>"
      ]
     },
     "metadata": {},
     "output_type": "display_data"
    },
    {
     "name": "stdout",
     "output_type": "stream",
     "text": [
      "Average Precision Score: 0.5521\n",
      "Baseline (random classifier): 0.2126\n"
     ]
    }
   ],
   "source": [
    "from sklearn.metrics import precision_recall_curve, average_precision_score\n",
    "import matplotlib.pyplot as plt\n",
    "\n",
    "# Calculate precision-recall curve\n",
    "precision, recall, thresholds = precision_recall_curve(y_test, y_pred_proba)\n",
    "\n",
    "# Calculate average precision score (area under PR curve)\n",
    "avg_precision = average_precision_score(y_test, y_pred_proba)\n",
    "\n",
    "# Plot the precision-recall curve\n",
    "plt.figure(figsize=(10, 6))\n",
    "plt.plot(recall, precision, label=f'PR Curve (AP = {avg_precision:.3f})', linewidth=2)\n",
    "\n",
    "# Add baseline (random classifier performance)\n",
    "baseline = y_test.mean()  # Proportion of positive class\n",
    "plt.axhline(y=baseline, color='r', linestyle='--', \n",
    "           label=f'Baseline (Random) = {baseline:.3f}')\n",
    "\n",
    "# Mark current model's performance\n",
    "current_precision = precision_score(y_test, y_pred, pos_label=1)\n",
    "current_recall = recall_score(y_test, y_pred, pos_label=1)\n",
    "plt.scatter(current_recall, current_precision, color='red', s=100, \n",
    "           label=f'Current Model (P={current_precision:.2f}, R={current_recall:.2f})')\n",
    "\n",
    "# Formatting\n",
    "plt.xlabel('Recall', fontsize=12)\n",
    "plt.ylabel('Precision', fontsize=12)\n",
    "plt.title('Precision-Recall Curve', fontsize=14)\n",
    "plt.legend()\n",
    "plt.grid(True, alpha=0.3)\n",
    "plt.xlim([0, 1])\n",
    "plt.ylim([0, 1])\n",
    "plt.show()\n",
    "\n",
    "print(f\"Average Precision Score: {avg_precision:.4f}\")\n",
    "print(f\"Baseline (random classifier): {baseline:.4f}\")"
   ]
  },
  {
   "cell_type": "code",
   "execution_count": null,
   "id": "a6999b6a",
   "metadata": {},
   "outputs": [],
   "source": []
  }
 ],
 "metadata": {
  "kernelspec": {
   "display_name": "base",
   "language": "python",
   "name": "python3"
  },
  "language_info": {
   "codemirror_mode": {
    "name": "ipython",
    "version": 3
   },
   "file_extension": ".py",
   "mimetype": "text/x-python",
   "name": "python",
   "nbconvert_exporter": "python",
   "pygments_lexer": "ipython3",
   "version": "3.12.4"
  }
 },
 "nbformat": 4,
 "nbformat_minor": 5
}
