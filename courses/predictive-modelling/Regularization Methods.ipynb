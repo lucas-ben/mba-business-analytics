{
 "cells": [
  {
   "cell_type": "code",
   "execution_count": 1,
   "id": "8289f5e1",
   "metadata": {},
   "outputs": [],
   "source": [
    "import numpy as np\n",
    "import pandas as pd\n",
    "import matplotlib.pyplot as plt\n",
    "import statsmodels.api as sm\n",
    "from sklearn import linear_model as lm"
   ]
  },
  {
   "cell_type": "code",
   "execution_count": 2,
   "id": "ac25ff6d",
   "metadata": {},
   "outputs": [],
   "source": [
    "x_1 = np.random.uniform(10,40,100)\n",
    "x_2 = np.random.uniform(-50,20,100)\n",
    "x_3 = np.random.uniform(20,60,100)\n",
    "x_4 = np.random.uniform(10,40,100)\n",
    "x_5 = np.random.uniform(-50,20,100)\n",
    "x_6 = np.random.uniform(20,60,100)\n",
    "epsilon = np.random.normal(0,10,100)"
   ]
  },
  {
   "cell_type": "code",
   "execution_count": 3,
   "id": "42b4353c",
   "metadata": {},
   "outputs": [],
   "source": [
    "y=-30+1.3*x_1+1.6*x_2+1.1*x_3+0.7*x_4-2.1*x_5-0.9*x_6+epsilon"
   ]
  },
  {
   "cell_type": "code",
   "execution_count": 4,
   "id": "f4f0d12d",
   "metadata": {},
   "outputs": [],
   "source": [
    "# don't do this use a loop instead, anytime I see repetitve code I think they should have used a loop\n",
    "X_ols=pd.DataFrame()\n",
    "X_ols['Constant']=pd.Series(np.ones(100))\n",
    "X_ols['X1'] = pd.Series(x_1)\n",
    "X_ols['X2'] = pd.Series(x_2)\n",
    "X_ols['X3'] = pd.Series(x_3)\n",
    "X_ols['X4'] = pd.Series(x_4)\n",
    "X_ols['X5'] = pd.Series(x_5)\n",
    "X_ols['X6'] = pd.Series(x_6)"
   ]
  },
  {
   "cell_type": "code",
   "execution_count": 5,
   "id": "0614462a",
   "metadata": {},
   "outputs": [
    {
     "data": {
      "text/html": [
       "<table class=\"simpletable\">\n",
       "<caption>OLS Regression Results</caption>\n",
       "<tr>\n",
       "  <th>Dep. Variable:</th>            <td>y</td>        <th>  R-squared:         </th> <td>   0.964</td>\n",
       "</tr>\n",
       "<tr>\n",
       "  <th>Model:</th>                   <td>OLS</td>       <th>  Adj. R-squared:    </th> <td>   0.961</td>\n",
       "</tr>\n",
       "<tr>\n",
       "  <th>Method:</th>             <td>Least Squares</td>  <th>  F-statistic:       </th> <td>   410.4</td>\n",
       "</tr>\n",
       "<tr>\n",
       "  <th>Date:</th>             <td>Tue, 30 Sep 2025</td> <th>  Prob (F-statistic):</th> <td>1.30e-64</td>\n",
       "</tr>\n",
       "<tr>\n",
       "  <th>Time:</th>                 <td>20:14:11</td>     <th>  Log-Likelihood:    </th> <td> -380.16</td>\n",
       "</tr>\n",
       "<tr>\n",
       "  <th>No. Observations:</th>      <td>   100</td>      <th>  AIC:               </th> <td>   774.3</td>\n",
       "</tr>\n",
       "<tr>\n",
       "  <th>Df Residuals:</th>          <td>    93</td>      <th>  BIC:               </th> <td>   792.6</td>\n",
       "</tr>\n",
       "<tr>\n",
       "  <th>Df Model:</th>              <td>     6</td>      <th>                     </th>     <td> </td>   \n",
       "</tr>\n",
       "<tr>\n",
       "  <th>Covariance Type:</th>      <td>nonrobust</td>    <th>                     </th>     <td> </td>   \n",
       "</tr>\n",
       "</table>\n",
       "<table class=\"simpletable\">\n",
       "<tr>\n",
       "      <td></td>        <th>coef</th>     <th>std err</th>      <th>t</th>      <th>P>|t|</th>  <th>[0.025</th>    <th>0.975]</th>  \n",
       "</tr>\n",
       "<tr>\n",
       "  <th>Constant</th> <td>  -32.7602</td> <td>    7.450</td> <td>   -4.397</td> <td> 0.000</td> <td>  -47.555</td> <td>  -17.965</td>\n",
       "</tr>\n",
       "<tr>\n",
       "  <th>X1</th>       <td>    1.3537</td> <td>    0.128</td> <td>   10.594</td> <td> 0.000</td> <td>    1.100</td> <td>    1.607</td>\n",
       "</tr>\n",
       "<tr>\n",
       "  <th>X2</th>       <td>    1.6240</td> <td>    0.058</td> <td>   27.785</td> <td> 0.000</td> <td>    1.508</td> <td>    1.740</td>\n",
       "</tr>\n",
       "<tr>\n",
       "  <th>X3</th>       <td>    1.0662</td> <td>    0.094</td> <td>   11.287</td> <td> 0.000</td> <td>    0.879</td> <td>    1.254</td>\n",
       "</tr>\n",
       "<tr>\n",
       "  <th>X4</th>       <td>    0.7971</td> <td>    0.141</td> <td>    5.664</td> <td> 0.000</td> <td>    0.518</td> <td>    1.077</td>\n",
       "</tr>\n",
       "<tr>\n",
       "  <th>X5</th>       <td>   -2.0629</td> <td>    0.060</td> <td>  -34.347</td> <td> 0.000</td> <td>   -2.182</td> <td>   -1.944</td>\n",
       "</tr>\n",
       "<tr>\n",
       "  <th>X6</th>       <td>   -0.8933</td> <td>    0.109</td> <td>   -8.202</td> <td> 0.000</td> <td>   -1.110</td> <td>   -0.677</td>\n",
       "</tr>\n",
       "</table>\n",
       "<table class=\"simpletable\">\n",
       "<tr>\n",
       "  <th>Omnibus:</th>       <td> 1.950</td> <th>  Durbin-Watson:     </th> <td>   1.951</td>\n",
       "</tr>\n",
       "<tr>\n",
       "  <th>Prob(Omnibus):</th> <td> 0.377</td> <th>  Jarque-Bera (JB):  </th> <td>   1.469</td>\n",
       "</tr>\n",
       "<tr>\n",
       "  <th>Skew:</th>          <td> 0.083</td> <th>  Prob(JB):          </th> <td>   0.480</td>\n",
       "</tr>\n",
       "<tr>\n",
       "  <th>Kurtosis:</th>      <td> 2.430</td> <th>  Cond. No.          </th> <td>    479.</td>\n",
       "</tr>\n",
       "</table><br/><br/>Notes:<br/>[1] Standard Errors assume that the covariance matrix of the errors is correctly specified."
      ],
      "text/latex": [
       "\\begin{center}\n",
       "\\begin{tabular}{lclc}\n",
       "\\toprule\n",
       "\\textbf{Dep. Variable:}    &        y         & \\textbf{  R-squared:         } &     0.964   \\\\\n",
       "\\textbf{Model:}            &       OLS        & \\textbf{  Adj. R-squared:    } &     0.961   \\\\\n",
       "\\textbf{Method:}           &  Least Squares   & \\textbf{  F-statistic:       } &     410.4   \\\\\n",
       "\\textbf{Date:}             & Tue, 30 Sep 2025 & \\textbf{  Prob (F-statistic):} &  1.30e-64   \\\\\n",
       "\\textbf{Time:}             &     20:14:11     & \\textbf{  Log-Likelihood:    } &   -380.16   \\\\\n",
       "\\textbf{No. Observations:} &         100      & \\textbf{  AIC:               } &     774.3   \\\\\n",
       "\\textbf{Df Residuals:}     &          93      & \\textbf{  BIC:               } &     792.6   \\\\\n",
       "\\textbf{Df Model:}         &           6      & \\textbf{                     } &             \\\\\n",
       "\\textbf{Covariance Type:}  &    nonrobust     & \\textbf{                     } &             \\\\\n",
       "\\bottomrule\n",
       "\\end{tabular}\n",
       "\\begin{tabular}{lcccccc}\n",
       "                  & \\textbf{coef} & \\textbf{std err} & \\textbf{t} & \\textbf{P$> |$t$|$} & \\textbf{[0.025} & \\textbf{0.975]}  \\\\\n",
       "\\midrule\n",
       "\\textbf{Constant} &     -32.7602  &        7.450     &    -4.397  &         0.000        &      -47.555    &      -17.965     \\\\\n",
       "\\textbf{X1}       &       1.3537  &        0.128     &    10.594  &         0.000        &        1.100    &        1.607     \\\\\n",
       "\\textbf{X2}       &       1.6240  &        0.058     &    27.785  &         0.000        &        1.508    &        1.740     \\\\\n",
       "\\textbf{X3}       &       1.0662  &        0.094     &    11.287  &         0.000        &        0.879    &        1.254     \\\\\n",
       "\\textbf{X4}       &       0.7971  &        0.141     &     5.664  &         0.000        &        0.518    &        1.077     \\\\\n",
       "\\textbf{X5}       &      -2.0629  &        0.060     &   -34.347  &         0.000        &       -2.182    &       -1.944     \\\\\n",
       "\\textbf{X6}       &      -0.8933  &        0.109     &    -8.202  &         0.000        &       -1.110    &       -0.677     \\\\\n",
       "\\bottomrule\n",
       "\\end{tabular}\n",
       "\\begin{tabular}{lclc}\n",
       "\\textbf{Omnibus:}       &  1.950 & \\textbf{  Durbin-Watson:     } &    1.951  \\\\\n",
       "\\textbf{Prob(Omnibus):} &  0.377 & \\textbf{  Jarque-Bera (JB):  } &    1.469  \\\\\n",
       "\\textbf{Skew:}          &  0.083 & \\textbf{  Prob(JB):          } &    0.480  \\\\\n",
       "\\textbf{Kurtosis:}      &  2.430 & \\textbf{  Cond. No.          } &     479.  \\\\\n",
       "\\bottomrule\n",
       "\\end{tabular}\n",
       "%\\caption{OLS Regression Results}\n",
       "\\end{center}\n",
       "\n",
       "Notes: \\newline\n",
       " [1] Standard Errors assume that the covariance matrix of the errors is correctly specified."
      ],
      "text/plain": [
       "<class 'statsmodels.iolib.summary.Summary'>\n",
       "\"\"\"\n",
       "                            OLS Regression Results                            \n",
       "==============================================================================\n",
       "Dep. Variable:                      y   R-squared:                       0.964\n",
       "Model:                            OLS   Adj. R-squared:                  0.961\n",
       "Method:                 Least Squares   F-statistic:                     410.4\n",
       "Date:                Tue, 30 Sep 2025   Prob (F-statistic):           1.30e-64\n",
       "Time:                        20:14:11   Log-Likelihood:                -380.16\n",
       "No. Observations:                 100   AIC:                             774.3\n",
       "Df Residuals:                      93   BIC:                             792.6\n",
       "Df Model:                           6                                         \n",
       "Covariance Type:            nonrobust                                         \n",
       "==============================================================================\n",
       "                 coef    std err          t      P>|t|      [0.025      0.975]\n",
       "------------------------------------------------------------------------------\n",
       "Constant     -32.7602      7.450     -4.397      0.000     -47.555     -17.965\n",
       "X1             1.3537      0.128     10.594      0.000       1.100       1.607\n",
       "X2             1.6240      0.058     27.785      0.000       1.508       1.740\n",
       "X3             1.0662      0.094     11.287      0.000       0.879       1.254\n",
       "X4             0.7971      0.141      5.664      0.000       0.518       1.077\n",
       "X5            -2.0629      0.060    -34.347      0.000      -2.182      -1.944\n",
       "X6            -0.8933      0.109     -8.202      0.000      -1.110      -0.677\n",
       "==============================================================================\n",
       "Omnibus:                        1.950   Durbin-Watson:                   1.951\n",
       "Prob(Omnibus):                  0.377   Jarque-Bera (JB):                1.469\n",
       "Skew:                           0.083   Prob(JB):                        0.480\n",
       "Kurtosis:                       2.430   Cond. No.                         479.\n",
       "==============================================================================\n",
       "\n",
       "Notes:\n",
       "[1] Standard Errors assume that the covariance matrix of the errors is correctly specified.\n",
       "\"\"\""
      ]
     },
     "execution_count": 5,
     "metadata": {},
     "output_type": "execute_result"
    }
   ],
   "source": [
    "model_reg = sm.OLS(y,X_ols).fit()\n",
    "model_reg.summary()"
   ]
  },
  {
   "cell_type": "code",
   "execution_count": 6,
   "id": "7a996da0",
   "metadata": {},
   "outputs": [],
   "source": [
    "# Now we add some unrelated coefficients\n",
    "x_7 = np.random.uniform(10,40,100)\n",
    "x_8 = np.random.uniform(-50,20,100)\n",
    "x_9 = np.random.uniform(20,60,100)\n",
    "x_10 = np.random.uniform(10,40,100)\n",
    "x_11 = np.random.uniform(-50,20,100)\n",
    "x_12 = np.random.uniform(20,60,100)"
   ]
  },
  {
   "cell_type": "code",
   "execution_count": 7,
   "id": "6c40d68e",
   "metadata": {},
   "outputs": [],
   "source": [
    "X_ext = pd.DataFrame()\n",
    "X_ext['Constant']=pd.Series(np.ones(100))\n",
    "X_ext['X1'] = pd.Series(x_1)\n",
    "X_ext['X2'] = pd.Series(x_2)\n",
    "X_ext['X3'] = pd.Series(x_3)\n",
    "X_ext['X4'] = pd.Series(x_4)\n",
    "X_ext['X5'] = pd.Series(x_5)\n",
    "X_ext['X6'] = pd.Series(x_6)\n",
    "X_ext['X7'] = pd.Series(x_7)\n",
    "X_ext['X8'] = pd.Series(x_8)\n",
    "X_ext['X9'] = pd.Series(x_9)\n",
    "X_ext['X10'] = pd.Series(x_10)\n",
    "X_ext['X11'] = pd.Series(x_11)\n",
    "X_ext['X12'] = pd.Series(x_12)"
   ]
  },
  {
   "cell_type": "code",
   "execution_count": 13,
   "id": "d87033bc",
   "metadata": {},
   "outputs": [
    {
     "data": {
      "text/html": [
       "<table class=\"simpletable\">\n",
       "<caption>OLS Regression Results</caption>\n",
       "<tr>\n",
       "  <th>Dep. Variable:</th>            <td>y</td>        <th>  R-squared (uncentered):</th>      <td>   0.973</td>\n",
       "</tr>\n",
       "<tr>\n",
       "  <th>Model:</th>                   <td>OLS</td>       <th>  Adj. R-squared (uncentered):</th> <td>   0.970</td>\n",
       "</tr>\n",
       "<tr>\n",
       "  <th>Method:</th>             <td>Least Squares</td>  <th>  F-statistic:       </th>          <td>   269.0</td>\n",
       "</tr>\n",
       "<tr>\n",
       "  <th>Date:</th>             <td>Tue, 30 Sep 2025</td> <th>  Prob (F-statistic):</th>          <td>7.50e-64</td>\n",
       "</tr>\n",
       "<tr>\n",
       "  <th>Time:</th>                 <td>20:14:49</td>     <th>  Log-Likelihood:    </th>          <td> -381.51</td>\n",
       "</tr>\n",
       "<tr>\n",
       "  <th>No. Observations:</th>      <td>   100</td>      <th>  AIC:               </th>          <td>   787.0</td>\n",
       "</tr>\n",
       "<tr>\n",
       "  <th>Df Residuals:</th>          <td>    88</td>      <th>  BIC:               </th>          <td>   818.3</td>\n",
       "</tr>\n",
       "<tr>\n",
       "  <th>Df Model:</th>              <td>    12</td>      <th>                     </th>              <td> </td>   \n",
       "</tr>\n",
       "<tr>\n",
       "  <th>Covariance Type:</th>      <td>nonrobust</td>    <th>                     </th>              <td> </td>   \n",
       "</tr>\n",
       "</table>\n",
       "<table class=\"simpletable\">\n",
       "<tr>\n",
       "   <td></td>      <th>coef</th>     <th>std err</th>      <th>t</th>      <th>P>|t|</th>  <th>[0.025</th>    <th>0.975]</th>  \n",
       "</tr>\n",
       "<tr>\n",
       "  <th>X1</th>  <td>    1.2286</td> <td>    0.134</td> <td>    9.166</td> <td> 0.000</td> <td>    0.962</td> <td>    1.495</td>\n",
       "</tr>\n",
       "<tr>\n",
       "  <th>X2</th>  <td>    1.6388</td> <td>    0.062</td> <td>   26.465</td> <td> 0.000</td> <td>    1.516</td> <td>    1.762</td>\n",
       "</tr>\n",
       "<tr>\n",
       "  <th>X3</th>  <td>    0.9237</td> <td>    0.091</td> <td>   10.190</td> <td> 0.000</td> <td>    0.744</td> <td>    1.104</td>\n",
       "</tr>\n",
       "<tr>\n",
       "  <th>X4</th>  <td>    0.5587</td> <td>    0.148</td> <td>    3.771</td> <td> 0.000</td> <td>    0.264</td> <td>    0.853</td>\n",
       "</tr>\n",
       "<tr>\n",
       "  <th>X5</th>  <td>   -2.0603</td> <td>    0.063</td> <td>  -32.653</td> <td> 0.000</td> <td>   -2.186</td> <td>   -1.935</td>\n",
       "</tr>\n",
       "<tr>\n",
       "  <th>X6</th>  <td>   -0.9575</td> <td>    0.112</td> <td>   -8.566</td> <td> 0.000</td> <td>   -1.180</td> <td>   -0.735</td>\n",
       "</tr>\n",
       "<tr>\n",
       "  <th>X7</th>  <td>   -0.1690</td> <td>    0.139</td> <td>   -1.215</td> <td> 0.228</td> <td>   -0.446</td> <td>    0.107</td>\n",
       "</tr>\n",
       "<tr>\n",
       "  <th>X8</th>  <td>   -0.0556</td> <td>    0.058</td> <td>   -0.960</td> <td> 0.340</td> <td>   -0.171</td> <td>    0.059</td>\n",
       "</tr>\n",
       "<tr>\n",
       "  <th>X9</th>  <td>   -0.2821</td> <td>    0.099</td> <td>   -2.855</td> <td> 0.005</td> <td>   -0.479</td> <td>   -0.086</td>\n",
       "</tr>\n",
       "<tr>\n",
       "  <th>X10</th> <td>   -0.1809</td> <td>    0.143</td> <td>   -1.265</td> <td> 0.209</td> <td>   -0.465</td> <td>    0.103</td>\n",
       "</tr>\n",
       "<tr>\n",
       "  <th>X11</th> <td>    0.0458</td> <td>    0.059</td> <td>    0.771</td> <td> 0.443</td> <td>   -0.072</td> <td>    0.164</td>\n",
       "</tr>\n",
       "<tr>\n",
       "  <th>X12</th> <td>    0.1473</td> <td>    0.097</td> <td>    1.520</td> <td> 0.132</td> <td>   -0.045</td> <td>    0.340</td>\n",
       "</tr>\n",
       "</table>\n",
       "<table class=\"simpletable\">\n",
       "<tr>\n",
       "  <th>Omnibus:</th>       <td> 0.838</td> <th>  Durbin-Watson:     </th> <td>   1.872</td>\n",
       "</tr>\n",
       "<tr>\n",
       "  <th>Prob(Omnibus):</th> <td> 0.658</td> <th>  Jarque-Bera (JB):  </th> <td>   0.538</td>\n",
       "</tr>\n",
       "<tr>\n",
       "  <th>Skew:</th>          <td> 0.173</td> <th>  Prob(JB):          </th> <td>   0.764</td>\n",
       "</tr>\n",
       "<tr>\n",
       "  <th>Kurtosis:</th>      <td> 3.098</td> <th>  Cond. No.          </th> <td>    15.1</td>\n",
       "</tr>\n",
       "</table><br/><br/>Notes:<br/>[1] R² is computed without centering (uncentered) since the model does not contain a constant.<br/>[2] Standard Errors assume that the covariance matrix of the errors is correctly specified."
      ],
      "text/latex": [
       "\\begin{center}\n",
       "\\begin{tabular}{lclc}\n",
       "\\toprule\n",
       "\\textbf{Dep. Variable:}    &        y         & \\textbf{  R-squared (uncentered):}      &     0.973   \\\\\n",
       "\\textbf{Model:}            &       OLS        & \\textbf{  Adj. R-squared (uncentered):} &     0.970   \\\\\n",
       "\\textbf{Method:}           &  Least Squares   & \\textbf{  F-statistic:       }          &     269.0   \\\\\n",
       "\\textbf{Date:}             & Tue, 30 Sep 2025 & \\textbf{  Prob (F-statistic):}          &  7.50e-64   \\\\\n",
       "\\textbf{Time:}             &     20:14:49     & \\textbf{  Log-Likelihood:    }          &   -381.51   \\\\\n",
       "\\textbf{No. Observations:} &         100      & \\textbf{  AIC:               }          &     787.0   \\\\\n",
       "\\textbf{Df Residuals:}     &          88      & \\textbf{  BIC:               }          &     818.3   \\\\\n",
       "\\textbf{Df Model:}         &          12      & \\textbf{                     }          &             \\\\\n",
       "\\textbf{Covariance Type:}  &    nonrobust     & \\textbf{                     }          &             \\\\\n",
       "\\bottomrule\n",
       "\\end{tabular}\n",
       "\\begin{tabular}{lcccccc}\n",
       "             & \\textbf{coef} & \\textbf{std err} & \\textbf{t} & \\textbf{P$> |$t$|$} & \\textbf{[0.025} & \\textbf{0.975]}  \\\\\n",
       "\\midrule\n",
       "\\textbf{X1}  &       1.2286  &        0.134     &     9.166  &         0.000        &        0.962    &        1.495     \\\\\n",
       "\\textbf{X2}  &       1.6388  &        0.062     &    26.465  &         0.000        &        1.516    &        1.762     \\\\\n",
       "\\textbf{X3}  &       0.9237  &        0.091     &    10.190  &         0.000        &        0.744    &        1.104     \\\\\n",
       "\\textbf{X4}  &       0.5587  &        0.148     &     3.771  &         0.000        &        0.264    &        0.853     \\\\\n",
       "\\textbf{X5}  &      -2.0603  &        0.063     &   -32.653  &         0.000        &       -2.186    &       -1.935     \\\\\n",
       "\\textbf{X6}  &      -0.9575  &        0.112     &    -8.566  &         0.000        &       -1.180    &       -0.735     \\\\\n",
       "\\textbf{X7}  &      -0.1690  &        0.139     &    -1.215  &         0.228        &       -0.446    &        0.107     \\\\\n",
       "\\textbf{X8}  &      -0.0556  &        0.058     &    -0.960  &         0.340        &       -0.171    &        0.059     \\\\\n",
       "\\textbf{X9}  &      -0.2821  &        0.099     &    -2.855  &         0.005        &       -0.479    &       -0.086     \\\\\n",
       "\\textbf{X10} &      -0.1809  &        0.143     &    -1.265  &         0.209        &       -0.465    &        0.103     \\\\\n",
       "\\textbf{X11} &       0.0458  &        0.059     &     0.771  &         0.443        &       -0.072    &        0.164     \\\\\n",
       "\\textbf{X12} &       0.1473  &        0.097     &     1.520  &         0.132        &       -0.045    &        0.340     \\\\\n",
       "\\bottomrule\n",
       "\\end{tabular}\n",
       "\\begin{tabular}{lclc}\n",
       "\\textbf{Omnibus:}       &  0.838 & \\textbf{  Durbin-Watson:     } &    1.872  \\\\\n",
       "\\textbf{Prob(Omnibus):} &  0.658 & \\textbf{  Jarque-Bera (JB):  } &    0.538  \\\\\n",
       "\\textbf{Skew:}          &  0.173 & \\textbf{  Prob(JB):          } &    0.764  \\\\\n",
       "\\textbf{Kurtosis:}      &  3.098 & \\textbf{  Cond. No.          } &     15.1  \\\\\n",
       "\\bottomrule\n",
       "\\end{tabular}\n",
       "%\\caption{OLS Regression Results}\n",
       "\\end{center}\n",
       "\n",
       "Notes: \\newline\n",
       " [1] R² is computed without centering (uncentered) since the model does not contain a constant. \\newline\n",
       " [2] Standard Errors assume that the covariance matrix of the errors is correctly specified."
      ],
      "text/plain": [
       "<class 'statsmodels.iolib.summary.Summary'>\n",
       "\"\"\"\n",
       "                                 OLS Regression Results                                \n",
       "=======================================================================================\n",
       "Dep. Variable:                      y   R-squared (uncentered):                   0.973\n",
       "Model:                            OLS   Adj. R-squared (uncentered):              0.970\n",
       "Method:                 Least Squares   F-statistic:                              269.0\n",
       "Date:                Tue, 30 Sep 2025   Prob (F-statistic):                    7.50e-64\n",
       "Time:                        20:14:49   Log-Likelihood:                         -381.51\n",
       "No. Observations:                 100   AIC:                                      787.0\n",
       "Df Residuals:                      88   BIC:                                      818.3\n",
       "Df Model:                          12                                                  \n",
       "Covariance Type:            nonrobust                                                  \n",
       "==============================================================================\n",
       "                 coef    std err          t      P>|t|      [0.025      0.975]\n",
       "------------------------------------------------------------------------------\n",
       "X1             1.2286      0.134      9.166      0.000       0.962       1.495\n",
       "X2             1.6388      0.062     26.465      0.000       1.516       1.762\n",
       "X3             0.9237      0.091     10.190      0.000       0.744       1.104\n",
       "X4             0.5587      0.148      3.771      0.000       0.264       0.853\n",
       "X5            -2.0603      0.063    -32.653      0.000      -2.186      -1.935\n",
       "X6            -0.9575      0.112     -8.566      0.000      -1.180      -0.735\n",
       "X7            -0.1690      0.139     -1.215      0.228      -0.446       0.107\n",
       "X8            -0.0556      0.058     -0.960      0.340      -0.171       0.059\n",
       "X9            -0.2821      0.099     -2.855      0.005      -0.479      -0.086\n",
       "X10           -0.1809      0.143     -1.265      0.209      -0.465       0.103\n",
       "X11            0.0458      0.059      0.771      0.443      -0.072       0.164\n",
       "X12            0.1473      0.097      1.520      0.132      -0.045       0.340\n",
       "==============================================================================\n",
       "Omnibus:                        0.838   Durbin-Watson:                   1.872\n",
       "Prob(Omnibus):                  0.658   Jarque-Bera (JB):                0.538\n",
       "Skew:                           0.173   Prob(JB):                        0.764\n",
       "Kurtosis:                       3.098   Cond. No.                         15.1\n",
       "==============================================================================\n",
       "\n",
       "Notes:\n",
       "[1] R² is computed without centering (uncentered) since the model does not contain a constant.\n",
       "[2] Standard Errors assume that the covariance matrix of the errors is correctly specified.\n",
       "\"\"\""
      ]
     },
     "execution_count": 13,
     "metadata": {},
     "output_type": "execute_result"
    }
   ],
   "source": [
    "model_reg = sm.OLS(y,X_ext).fit()\n",
    "model_reg.summary()"
   ]
  },
  {
   "cell_type": "code",
   "execution_count": 9,
   "id": "4bf6e43b",
   "metadata": {},
   "outputs": [
    {
     "data": {
      "text/plain": [
       "array([ 1.33522604,  1.62937691,  1.04157525,  0.69679598, -2.07220181,\n",
       "       -0.84929981, -0.06842065, -0.03351382, -0.10103855, -0.0061838 ,\n",
       "        0.00846681,  0.22568521])"
      ]
     },
     "execution_count": 9,
     "metadata": {},
     "output_type": "execute_result"
    }
   ],
   "source": [
    "# When we input the matrix, we don't need to add the column of ones because \\\n",
    "# Lasso automatically takes it into account\n",
    "\n",
    "X_ext = X_ext.drop(columns=['Constant'])\n",
    "model_lasso = lm.Lasso(alpha=1).fit(X_ext,y)\n",
    "model_lasso.coef_"
   ]
  },
  {
   "cell_type": "code",
   "execution_count": 10,
   "id": "d9778204",
   "metadata": {},
   "outputs": [
    {
     "data": {
      "text/plain": [
       "array([ 1.22221761,  1.59720706,  0.99753063,  0.60033792, -2.04932393,\n",
       "       -0.76413086, -0.        , -0.01705001, -0.04140385, -0.        ,\n",
       "        0.        ,  0.17364998])"
      ]
     },
     "execution_count": 10,
     "metadata": {},
     "output_type": "execute_result"
    }
   ],
   "source": [
    "model_lasso = lm.Lasso(alpha=10).fit(X_ext,y)\n",
    "model_lasso.coef_"
   ]
  },
  {
   "cell_type": "code",
   "execution_count": 11,
   "id": "7b10d4f6",
   "metadata": {},
   "outputs": [
    {
     "data": {
      "text/plain": [
       "array([ 1.34420358,  1.6317166 ,  1.0457815 ,  0.70701247, -2.07398283,\n",
       "       -0.85679921, -0.08367905, -0.03609181, -0.10941622, -0.01422878,\n",
       "        0.01035887,  0.23129113])"
      ]
     },
     "execution_count": 11,
     "metadata": {},
     "output_type": "execute_result"
    }
   ],
   "source": [
    "# We now apply Ridge Regression to our data\n",
    "\n",
    "model_ridge = lm.Ridge(alpha=10).fit(X_ext,y)\n",
    "model_ridge.coef_"
   ]
  },
  {
   "cell_type": "code",
   "execution_count": 17,
   "id": "16de3321",
   "metadata": {},
   "outputs": [
    {
     "data": {
      "text/plain": [
       "array([ 1.32127687,  1.6249313 ,  1.03911778,  0.69647566, -2.06757482,\n",
       "       -0.84390982, -0.08049137, -0.03771322, -0.11318044, -0.02279446,\n",
       "        0.01363299,  0.23045577])"
      ]
     },
     "execution_count": 17,
     "metadata": {},
     "output_type": "execute_result"
    }
   ],
   "source": [
    "model_ridge = lm.Ridge(alpha=120).fit(X_ext,y)\n",
    "model_ridge.coef_"
   ]
  },
  {
   "cell_type": "code",
   "execution_count": 18,
   "id": "b0628168",
   "metadata": {},
   "outputs": [],
   "source": [
    "df = pd.read_csv('https://raw.githubusercontent.com/delinai/schulich_ds1/refs/heads/main/Datasets/kc_house_data.csv') # clean data set"
   ]
  },
  {
   "cell_type": "code",
   "execution_count": 19,
   "id": "2e48ebb9",
   "metadata": {},
   "outputs": [],
   "source": [
    "x = df.iloc[:,3:]\n",
    "y = df['price']\n",
    "x = sm.add_constant(x)"
   ]
  },
  {
   "cell_type": "code",
   "execution_count": 21,
   "id": "a1dd3013",
   "metadata": {},
   "outputs": [
    {
     "name": "stdout",
     "output_type": "stream",
     "text": [
      "                            OLS Regression Results                            \n",
      "==============================================================================\n",
      "Dep. Variable:                  price   R-squared:                       0.700\n",
      "Model:                            OLS   Adj. R-squared:                  0.700\n",
      "Method:                 Least Squares   F-statistic:                     2960.\n",
      "Date:                Tue, 30 Sep 2025   Prob (F-statistic):               0.00\n",
      "Time:                        20:20:38   Log-Likelihood:            -2.9460e+05\n",
      "No. Observations:               21613   AIC:                         5.892e+05\n",
      "Df Residuals:                   21595   BIC:                         5.894e+05\n",
      "Df Model:                          17                                         \n",
      "Covariance Type:            nonrobust                                         \n",
      "=================================================================================\n",
      "                    coef    std err          t      P>|t|      [0.025      0.975]\n",
      "---------------------------------------------------------------------------------\n",
      "const           6.69e+06   2.93e+06      2.282      0.022    9.44e+05    1.24e+07\n",
      "bedrooms      -3.577e+04   1891.843    -18.906      0.000   -3.95e+04   -3.21e+04\n",
      "bathrooms      4.114e+04   3253.678     12.645      0.000    3.48e+04    4.75e+04\n",
      "sqft_living     110.4421      2.270     48.661      0.000     105.994     114.891\n",
      "sqft_lot          0.1286      0.048      2.683      0.007       0.035       0.223\n",
      "floors         6689.5501   3595.859      1.860      0.063    -358.599    1.37e+04\n",
      "waterfront      5.83e+05   1.74e+04     33.580      0.000    5.49e+05    6.17e+05\n",
      "view           5.287e+04   2140.055     24.705      0.000    4.87e+04    5.71e+04\n",
      "condition      2.639e+04   2351.461     11.221      0.000    2.18e+04     3.1e+04\n",
      "grade          9.589e+04   2152.789     44.542      0.000    9.17e+04       1e+05\n",
      "sqft_above       70.7860      2.253     31.413      0.000      66.369      75.203\n",
      "sqft_basement    39.6584      2.647     14.985      0.000      34.471      44.846\n",
      "yr_built      -2620.2232     72.659    -36.062      0.000   -2762.640   -2477.806\n",
      "yr_renovated     19.8126      3.656      5.420      0.000      12.647      26.978\n",
      "zipcode        -582.4199     32.986    -17.657      0.000    -647.074    -517.765\n",
      "lat            6.027e+05   1.07e+04     56.149      0.000    5.82e+05    6.24e+05\n",
      "long          -2.147e+05   1.31e+04    -16.349      0.000    -2.4e+05   -1.89e+05\n",
      "sqft_living15    21.6814      3.448      6.289      0.000      14.924      28.439\n",
      "sqft_lot15       -0.3826      0.073     -5.222      0.000      -0.526      -0.239\n",
      "==============================================================================\n",
      "Omnibus:                    18384.201   Durbin-Watson:                   1.990\n",
      "Prob(Omnibus):                  0.000   Jarque-Bera (JB):          1868224.491\n",
      "Skew:                           3.566   Prob(JB):                         0.00\n",
      "Kurtosis:                      47.985   Cond. No.                     2.22e+16\n",
      "==============================================================================\n",
      "\n",
      "Notes:\n",
      "[1] Standard Errors assume that the covariance matrix of the errors is correctly specified.\n",
      "[2] The smallest eigenvalue is 4.46e-19. This might indicate that there are\n",
      "strong multicollinearity problems or that the design matrix is singular.\n"
     ]
    }
   ],
   "source": [
    "model_houses = sm.OLS(y,x).fit()\n",
    "print(model_houses.summary())"
   ]
  },
  {
   "cell_type": "code",
   "execution_count": null,
   "id": "f2f7cf17",
   "metadata": {},
   "outputs": [],
   "source": [
    "x = x.iloc[:,1:]"
   ]
  },
  {
   "cell_type": "code",
   "execution_count": 32,
   "id": "bae08e4a",
   "metadata": {},
   "outputs": [
    {
     "data": {
      "text/plain": [
       "array([ 1.53943403e-01,  1.70363976e+04,  5.93957582e+05,  5.60082866e+04,\n",
       "        2.63947147e+04,  1.02252306e+05,  1.72688339e+02,  1.47184848e+02,\n",
       "       -2.31694061e+03,  2.63725485e+01, -5.59220806e+02,  6.10821170e+05,\n",
       "       -2.14254304e+05,  2.13881561e+01, -3.44417382e-01])"
      ]
     },
     "execution_count": 32,
     "metadata": {},
     "output_type": "execute_result"
    }
   ],
   "source": [
    "housing_lasso = lm.Lasso(alpha=10).fit(x, y)\n",
    "housing_lasso.coef_"
   ]
  },
  {
   "cell_type": "code",
   "execution_count": 33,
   "id": "d1408af0",
   "metadata": {},
   "outputs": [
    {
     "data": {
      "text/plain": [
       "array([-7.73490553e-03,  0.00000000e+00,  0.00000000e+00,  5.69443830e+04,\n",
       "        0.00000000e+00,  1.08719492e+05,  1.80286521e+02,  1.72090297e+02,\n",
       "       -3.02957446e+03,  2.71927509e+01,  9.93036383e+01,  1.19167221e+03,\n",
       "       -0.00000000e+00,  2.96138460e+01, -5.45206311e-01])"
      ]
     },
     "execution_count": 33,
     "metadata": {},
     "output_type": "execute_result"
    }
   ],
   "source": [
    "housing_lasso = lm.Lasso(alpha=10000).fit(x, y)\n",
    "housing_lasso.coef_"
   ]
  },
  {
   "cell_type": "code",
   "execution_count": 34,
   "id": "f97cb60f",
   "metadata": {},
   "outputs": [
    {
     "data": {
      "text/plain": [
       "array([ 1.47932591e-01,  1.77478188e+04,  5.54505062e+05,  5.75930895e+04,\n",
       "        2.62416660e+04,  1.02828392e+05,  1.72294605e+02,  1.47640758e+02,\n",
       "       -2.34416960e+03,  2.65623854e+01, -5.40891880e+02,  5.94006793e+05,\n",
       "       -2.05677587e+05,  2.11726105e+01, -3.48171477e-01])"
      ]
     },
     "execution_count": 34,
     "metadata": {},
     "output_type": "execute_result"
    }
   ],
   "source": [
    "housing_ridge = lm.Ridge(alpha=10).fit(x, y)\n",
    "housing_ridge.coef_"
   ]
  },
  {
   "cell_type": "code",
   "execution_count": 35,
   "id": "22433ccc",
   "metadata": {},
   "outputs": [
    {
     "data": {
      "text/plain": [
       "array([ 8.46132075e-02,  2.49248334e+04,  2.41303114e+05,  6.82203936e+04,\n",
       "        2.36384104e+04,  1.09129285e+05,  1.67889906e+02,  1.54095142e+02,\n",
       "       -2.66243115e+03,  2.71671697e+01, -3.19337885e+02,  3.86656377e+05,\n",
       "       -1.10626505e+05,  2.05338841e+01, -4.01770817e-01])"
      ]
     },
     "execution_count": 35,
     "metadata": {},
     "output_type": "execute_result"
    }
   ],
   "source": [
    "housing_ridge = lm.Ridge(alpha=200).fit(x, y)\n",
    "housing_ridge.coef_"
   ]
  },
  {
   "cell_type": "code",
   "execution_count": null,
   "id": "409bf842",
   "metadata": {},
   "outputs": [],
   "source": []
  }
 ],
 "metadata": {
  "kernelspec": {
   "display_name": "base",
   "language": "python",
   "name": "python3"
  },
  "language_info": {
   "codemirror_mode": {
    "name": "ipython",
    "version": 3
   },
   "file_extension": ".py",
   "mimetype": "text/x-python",
   "name": "python",
   "nbconvert_exporter": "python",
   "pygments_lexer": "ipython3",
   "version": "3.12.4"
  }
 },
 "nbformat": 4,
 "nbformat_minor": 5
}
