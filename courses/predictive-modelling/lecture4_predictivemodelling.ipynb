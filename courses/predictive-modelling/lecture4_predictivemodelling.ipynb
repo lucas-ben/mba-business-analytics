{
 "cells": [
  {
   "cell_type": "markdown",
   "id": "cb82fac1",
   "metadata": {},
   "source": [
    "- In OLS, there is a single solution that can be solved for (closed form solution)\n",
    "\n",
    "- Multicollinearity is a problem for linear regression\n",
    "- Without scaling data, coefficients can be untrustworthy (coefficients will change with any change to the model)\n",
    "\n",
    "- L1 and L2 are regularization methods that can be applied to linear models, deep learning models, SVM\n",
    "- Regularization means controlling for the coefficients I have in my model (brings everything to an equal playing field so I don't train a model that is too dependent on any one variable)\n",
    "\n",
    "- Foundational models: combine all the data a company has and train a model on it (a general use model) and can be used for clustering, classification, ...\n",
    "\n",
    "- Regularization is a way to drive feature selection; a way to remove variables that don't have a large impact on the model\n",
    "\n",
    "- Regularization isn't good for scalability (for production, would require retraining because \"dropping\" a variable today introduces bias and not being able to capture any future patterns for that variable if they do come up)\n",
    "\n",
    "- If I'm confident there is multicollinearity, it might be safe to say it won't change in the near future so it would be okay to use regularization\n",
    "\n",
    "- Regularization is feature selection (want to build a model and focus on the computation)\n",
    "\n",
    "- t is the number of optimal coefficients the model should keep (lasso regularization constraint); minimizing the error\n",
    "\n",
    "- The problem canbe framed as either a constraint (t) or penalty (alpha)\n",
    "\n",
    "- Adding more relevant variables to the model generally guarantees the error will decrease\n",
    "\n",
    "- By adding a penalty, I'm effectively adding the sum of the absolute value of the coefficients and adding a penalty to that\n",
    "\n",
    "- Alpha is a hyper-parameter that I can tune to optimize my model\n",
    "\n",
    "- Least angle regression is an efficient solver to select features (gradient descent would be too slow)\n",
    "\n",
    "- lasso is not a closed form solution because it is quadratic"
   ]
  },
  {
   "cell_type": "code",
   "execution_count": 17,
   "id": "df46b11b",
   "metadata": {},
   "outputs": [
    {
     "name": "stdout",
     "output_type": "stream",
     "text": [
      "          0         1         2         3         4         5         6     \\\n",
      "0     3.004142  4.439553  3.492571  5.123464  2.812511  8.716488  3.291922   \n",
      "1     6.765055  6.475596  3.847487  8.084093  5.318858  6.808439  2.980802   \n",
      "2     1.704090  4.618986  5.197491  5.515967  3.844614  5.570037  6.185871   \n",
      "3     2.839375  7.273675  8.006865  6.148216  5.558990  8.275731  3.918595   \n",
      "4     5.830960  5.808624  6.760549  2.065523  6.819263  3.201544  5.718747   \n",
      "...        ...       ...       ...       ...       ...       ...       ...   \n",
      "9995  4.355593  8.117481  7.814709  3.298883  5.434622  4.788030  4.323193   \n",
      "9996  3.718719  6.344071  3.881735  6.108788  5.999050  4.004032  0.607577   \n",
      "9997  8.129543  2.471363  1.527386  5.686485  4.533585  4.553604  7.249130   \n",
      "9998  5.465356  6.685299  1.978598  3.471057  4.661843  4.544058  1.432367   \n",
      "9999  7.558734  4.226959  3.116175  5.538491  5.265823  4.844693  7.641612   \n",
      "\n",
      "          7         8         9     ...      9990       9991      9992  \\\n",
      "0     6.121741  3.321737  8.517008  ... -0.098341   4.389063  5.602639   \n",
      "1     5.009409  5.002790  7.290049  ...  5.578065   3.481412  7.148276   \n",
      "2     7.044780  6.868694  6.000089  ...  6.509397   3.451649  6.402145   \n",
      "3     6.081682  5.770759  7.581899  ...  3.268365   4.734270  2.033523   \n",
      "4     5.252970  5.475900  3.090149  ...  4.128720   5.349330  4.152157   \n",
      "...        ...       ...       ...  ...       ...        ...       ...   \n",
      "9995  8.918824  4.429652  4.922451  ...  4.733539   5.093434  7.590131   \n",
      "9996  5.171139  4.054837  5.730042  ...  4.479867   3.395535  3.967763   \n",
      "9997  6.146627  3.699574  1.874329  ...  5.650649  11.533341  4.702085   \n",
      "9998  3.128552  1.528202  3.309551  ...  1.433844   3.173434  5.994720   \n",
      "9999  6.526815  3.139073  1.223465  ...  4.173750   5.775250  5.854340   \n",
      "\n",
      "          9993      9994      9995      9996      9997      9998      9999  \n",
      "0     2.705511  4.423157  3.445436  5.143183  3.014974  6.280244  3.299002  \n",
      "1     3.295035  4.665179  7.876648  3.948425  7.668287  4.578852  3.415762  \n",
      "2     4.060767  9.169358  2.328291  4.583272  3.880053  8.597667  8.363047  \n",
      "3     0.488104  4.819883  6.055203  4.945054  4.591080  4.430655  4.739387  \n",
      "4     7.622622  3.811070  4.054355  0.919238  5.223727  5.347234  3.790138  \n",
      "...        ...       ...       ...       ...       ...       ...       ...  \n",
      "9995  5.652989  8.356587  7.019020  4.470585  8.332864  4.510078  7.988396  \n",
      "9996  5.941996  4.717790  3.174862  4.523709  6.464888  3.072613  7.478684  \n",
      "9997  7.296368  5.693808  3.024165  4.579483  7.279514  4.509765  5.849176  \n",
      "9998  4.529552  6.710238  5.357003  5.558405  5.652953  3.769178  4.941633  \n",
      "9999  2.708846  7.897465  7.144671  6.787975  6.416914  4.445964  6.877766  \n",
      "\n",
      "[10000 rows x 10000 columns]\n"
     ]
    }
   ],
   "source": [
    "# generating normally distributed data\n",
    "import numpy as np\n",
    "import pandas as pd\n",
    "\n",
    "x_1 = np.random.normal(5,2,(10000,10000))\n",
    "\n",
    "x_1 = pd.DataFrame(x_1)\n",
    "\n",
    "print(x_1)"
   ]
  },
  {
   "cell_type": "code",
   "execution_count": 18,
   "id": "3a53bbc2",
   "metadata": {},
   "outputs": [
    {
     "data": {
      "text/plain": [
       "<Axes: xlabel='0', ylabel='Count'>"
      ]
     },
     "execution_count": 18,
     "metadata": {},
     "output_type": "execute_result"
    },
    {
     "data": {
      "image/png": "[encoded data removed]",
      "text/plain": [
       "<Figure size 640x480 with 1 Axes>"
      ]
     },
     "metadata": {},
     "output_type": "display_data"
    }
   ],
   "source": [
    "import seaborn as sns\n",
    "\n",
    "sns.histplot(x_1[0])"
   ]
  },
  {
   "cell_type": "code",
   "execution_count": 30,
   "id": "b39c7553",
   "metadata": {},
   "outputs": [
    {
     "data": {
      "text/plain": [
       "<Axes: xlabel='0', ylabel='Count'>"
      ]
     },
     "execution_count": 30,
     "metadata": {},
     "output_type": "execute_result"
    },
    {
     "data": {
      "image/png": "[encoded data removed]",
      "text/plain": [
       "<Figure size 640x480 with 1 Axes>"
      ]
     },
     "metadata": {},
     "output_type": "display_data"
    }
   ],
   "source": [
    "x_2 = np.random.weibull(0.9, (1000, 2))\n",
    "\n",
    "x_2 = pd.DataFrame(x_2)\n",
    "\n",
    "sns.histplot(x_2[0])"
   ]
  },
  {
   "cell_type": "markdown",
   "id": "e00effc7",
   "metadata": {},
   "source": [
    "**Ridge Regression**\n",
    "\n",
    "- Minimizing the error subject to having less than total value of coefficients\n",
    "\n",
    "- Closed form solution\n",
    "\n",
    "- Keeps features in the data set so better than lasso (minimizes impact but if becomes more relevant later can always retrain model)\n",
    "\n",
    "    - **Use ridge regression for feature importance and to prevent overfitting rather than lasso because it is better for scaling or data-drift**\n",
    "\n",
    "- trying to find the best coefficients to find the best combination of coefficients that averages the effects of more influential variables(downplay the impact of variables and increase the coefficients of variables that don't matter that much)\n",
    "\n",
    "- Ridge & lasso regression are just OLS models with a constraint\n",
    "    - **A linear optimization problem**\n",
    "\n",
    "- Logistic regression supports the same methodology for both penalties (because it is a linear model)"
   ]
  },
  {
   "cell_type": "code",
   "execution_count": null,
   "id": "47abdeba",
   "metadata": {},
   "outputs": [],
   "source": []
  }
 ],
 "metadata": {
  "kernelspec": {
   "display_name": "base",
   "language": "python",
   "name": "python3"
  },
  "language_info": {
   "codemirror_mode": {
    "name": "ipython",
    "version": 3
   },
   "file_extension": ".py",
   "mimetype": "text/x-python",
   "name": "python",
   "nbconvert_exporter": "python",
   "pygments_lexer": "ipython3",
   "version": "3.12.4"
  }
 },
 "nbformat": 4,
 "nbformat_minor": 5
}
