{
 "cells": [
  {
   "cell_type": "code",
   "execution_count": 8,
   "id": "3b0f4cd4",
   "metadata": {},
   "outputs": [],
   "source": [
    "import pandas as pd\n",
    "import numpy as np\n",
    "from simdec import decomposition, visualization, tableau, palette, sensitivity_indices"
   ]
  },
  {
   "cell_type": "code",
   "execution_count": 11,
   "id": "f150d92a",
   "metadata": {},
   "outputs": [],
   "source": [
    "X = pd.DataFrame({\n",
    "    'temperature': [20, 25, 30, 22, 28, 31, 21, 26],\n",
    "    'pressure': [100, 105, 110, 102, 108, 112, 101, 106]\n",
    "})\n",
    "y = pd.DataFrame({'output': [5.2, 6.1, 7.3, 5.5, 6.8, 7.5, 5.3, 6.4]})"
   ]
  },
  {
   "cell_type": "code",
   "execution_count": 13,
   "id": "b24f7848",
   "metadata": {},
   "outputs": [
    {
     "ename": "AttributeError",
     "evalue": "The number of `values` elements must match the length of each `sample` dimension.",
     "output_type": "error",
     "traceback": [
      "\u001b[0;31m---------------------------------------------------------------------------\u001b[0m",
      "\u001b[0;31mAttributeError\u001b[0m                            Traceback (most recent call last)",
      "Cell \u001b[0;32mIn[13], line 1\u001b[0m\n\u001b[0;32m----> 1\u001b[0m si_result \u001b[38;5;241m=\u001b[39m sensitivity_indices(inputs\u001b[38;5;241m=\u001b[39mX, output\u001b[38;5;241m=\u001b[39my)\n\u001b[1;32m      2\u001b[0m si \u001b[38;5;241m=\u001b[39m si_result\u001b[38;5;241m.\u001b[39mfirst_order\n",
      "File \u001b[0;32m/opt/anaconda3/lib/python3.12/site-packages/simdec/sensitivity_indices.py:122\u001b[0m, in \u001b[0;36msensitivity_indices\u001b[0;34m(inputs, output)\u001b[0m\n\u001b[1;32m    118\u001b[0m \u001b[38;5;28;01mfor\u001b[39;00m i \u001b[38;5;129;01min\u001b[39;00m \u001b[38;5;28mrange\u001b[39m(n_factors):\n\u001b[1;32m    119\u001b[0m     \u001b[38;5;66;03m# first order\u001b[39;00m\n\u001b[1;32m    120\u001b[0m     xi \u001b[38;5;241m=\u001b[39m inputs[:, i]\n\u001b[0;32m--> 122\u001b[0m     bin_avg, _, binnumber \u001b[38;5;241m=\u001b[39m stats\u001b[38;5;241m.\u001b[39mbinned_statistic(\n\u001b[1;32m    123\u001b[0m         x\u001b[38;5;241m=\u001b[39mxi, values\u001b[38;5;241m=\u001b[39moutput, bins\u001b[38;5;241m=\u001b[39mn_bins_foe\n\u001b[1;32m    124\u001b[0m     )\n\u001b[1;32m    125\u001b[0m     \u001b[38;5;66;03m# can have NaN in the average but no corresponding binnumber\u001b[39;00m\n\u001b[1;32m    126\u001b[0m     bin_avg \u001b[38;5;241m=\u001b[39m bin_avg[\u001b[38;5;241m~\u001b[39mnp\u001b[38;5;241m.\u001b[39misnan(bin_avg)]\n",
      "File \u001b[0;32m/opt/anaconda3/lib/python3.12/site-packages/scipy/stats/_binned_statistic.py:184\u001b[0m, in \u001b[0;36mbinned_statistic\u001b[0;34m(x, values, statistic, bins, range)\u001b[0m\n\u001b[1;32m    181\u001b[0m     \u001b[38;5;28;01mif\u001b[39;00m \u001b[38;5;28mlen\u001b[39m(\u001b[38;5;28mrange\u001b[39m) \u001b[38;5;241m==\u001b[39m \u001b[38;5;241m2\u001b[39m:\n\u001b[1;32m    182\u001b[0m         \u001b[38;5;28mrange\u001b[39m \u001b[38;5;241m=\u001b[39m [\u001b[38;5;28mrange\u001b[39m]\n\u001b[0;32m--> 184\u001b[0m medians, edges, binnumbers \u001b[38;5;241m=\u001b[39m binned_statistic_dd(\n\u001b[1;32m    185\u001b[0m     [x], values, statistic, bins, \u001b[38;5;28mrange\u001b[39m)\n\u001b[1;32m    187\u001b[0m \u001b[38;5;28;01mreturn\u001b[39;00m BinnedStatisticResult(medians, edges[\u001b[38;5;241m0\u001b[39m], binnumbers)\n",
      "File \u001b[0;32m/opt/anaconda3/lib/python3.12/site-packages/scipy/stats/_binned_statistic.py:571\u001b[0m, in \u001b[0;36mbinned_statistic_dd\u001b[0;34m(sample, values, statistic, bins, range, expand_binnumbers, binned_statistic_result)\u001b[0m\n\u001b[1;32m    569\u001b[0m \u001b[38;5;66;03m# Make sure `values` match `sample`\u001b[39;00m\n\u001b[1;32m    570\u001b[0m \u001b[38;5;28;01mif\u001b[39;00m statistic \u001b[38;5;241m!=\u001b[39m \u001b[38;5;124m'\u001b[39m\u001b[38;5;124mcount\u001b[39m\u001b[38;5;124m'\u001b[39m \u001b[38;5;129;01mand\u001b[39;00m Vlen \u001b[38;5;241m!=\u001b[39m Dlen:\n\u001b[0;32m--> 571\u001b[0m     \u001b[38;5;28;01mraise\u001b[39;00m \u001b[38;5;167;01mAttributeError\u001b[39;00m(\u001b[38;5;124m'\u001b[39m\u001b[38;5;124mThe number of `values` elements must match the \u001b[39m\u001b[38;5;124m'\u001b[39m\n\u001b[1;32m    572\u001b[0m                          \u001b[38;5;124m'\u001b[39m\u001b[38;5;124mlength of each `sample` dimension.\u001b[39m\u001b[38;5;124m'\u001b[39m)\n\u001b[1;32m    574\u001b[0m \u001b[38;5;28;01mtry\u001b[39;00m:\n\u001b[1;32m    575\u001b[0m     M \u001b[38;5;241m=\u001b[39m \u001b[38;5;28mlen\u001b[39m(bins)\n",
      "\u001b[0;31mAttributeError\u001b[0m: The number of `values` elements must match the length of each `sample` dimension."
     ]
    }
   ],
   "source": [
    "si_result = sensitivity_indices(inputs=X, output=y)\n",
    "si = si_result.first_order "
   ]
  },
  {
   "cell_type": "code",
   "execution_count": 14,
   "id": "7ed0a154",
   "metadata": {},
   "outputs": [
    {
     "ename": "IndexError",
     "evalue": "index 1 is out of bounds for axis 1 with size 1",
     "output_type": "error",
     "traceback": [
      "\u001b[0;31m---------------------------------------------------------------------------\u001b[0m",
      "\u001b[0;31mIndexError\u001b[0m                                Traceback (most recent call last)",
      "Cell \u001b[0;32mIn[14], line 1\u001b[0m\n\u001b[0;32m----> 1\u001b[0m result \u001b[38;5;241m=\u001b[39m decomposition(\n\u001b[1;32m      2\u001b[0m     inputs\u001b[38;5;241m=\u001b[39mX,\n\u001b[1;32m      3\u001b[0m     output\u001b[38;5;241m=\u001b[39my,\n\u001b[1;32m      4\u001b[0m     sensitivity_indices\u001b[38;5;241m=\u001b[39msi,\n\u001b[1;32m      5\u001b[0m     states\u001b[38;5;241m=\u001b[39m[\u001b[38;5;241m2\u001b[39m, \u001b[38;5;241m2\u001b[39m],\n\u001b[1;32m      6\u001b[0m     dec_limit\u001b[38;5;241m=\u001b[39m\u001b[38;5;241m1.0\u001b[39m\n\u001b[1;32m      7\u001b[0m )\n",
      "File \u001b[0;32m/opt/anaconda3/lib/python3.12/site-packages/simdec/decomposition.py:170\u001b[0m, in \u001b[0;36mdecomposition\u001b[0;34m(inputs, output, sensitivity_indices, dec_limit, auto_ordering, states, statistic)\u001b[0m\n\u001b[1;32m    168\u001b[0m bin_edges \u001b[38;5;241m=\u001b[39m []\n\u001b[1;32m    169\u001b[0m \u001b[38;5;28;01mfor\u001b[39;00m i, states_ \u001b[38;5;129;01min\u001b[39;00m \u001b[38;5;28menumerate\u001b[39m(states):\n\u001b[0;32m--> 170\u001b[0m     splits \u001b[38;5;241m=\u001b[39m np\u001b[38;5;241m.\u001b[39marray_split(sorted_inputs[:, i], states_)\n\u001b[1;32m    171\u001b[0m     bin_edges_ \u001b[38;5;241m=\u001b[39m [splits_[\u001b[38;5;241m0\u001b[39m] \u001b[38;5;28;01mfor\u001b[39;00m splits_ \u001b[38;5;129;01min\u001b[39;00m splits]\n\u001b[1;32m    172\u001b[0m     bin_edges_\u001b[38;5;241m.\u001b[39mappend(splits[\u001b[38;5;241m-\u001b[39m\u001b[38;5;241m1\u001b[39m][\u001b[38;5;241m-\u001b[39m\u001b[38;5;241m1\u001b[39m])  \u001b[38;5;66;03m# last point to close the edges\u001b[39;00m\n",
      "\u001b[0;31mIndexError\u001b[0m: index 1 is out of bounds for axis 1 with size 1"
     ]
    }
   ],
   "source": [
    "result = decomposition(\n",
    "    inputs=X,\n",
    "    output=y,\n",
    "    sensitivity_indices=si,\n",
    "    states=[2, 2],\n",
    "    dec_limit=1.0\n",
    ")"
   ]
  },
  {
   "cell_type": "code",
   "execution_count": 7,
   "id": "e40762a6",
   "metadata": {},
   "outputs": [
    {
     "name": "stdout",
     "output_type": "stream",
     "text": [
      "\u001b[0;31mSignature:\u001b[0m\n",
      "\u001b[0mdecomposition\u001b[0m\u001b[0;34m(\u001b[0m\u001b[0;34m\u001b[0m\n",
      "\u001b[0;34m\u001b[0m    \u001b[0minputs\u001b[0m\u001b[0;34m:\u001b[0m \u001b[0;34m'pd.DataFrame'\u001b[0m\u001b[0;34m,\u001b[0m\u001b[0;34m\u001b[0m\n",
      "\u001b[0;34m\u001b[0m    \u001b[0moutput\u001b[0m\u001b[0;34m:\u001b[0m \u001b[0;34m'pd.DataFrame'\u001b[0m\u001b[0;34m,\u001b[0m\u001b[0;34m\u001b[0m\n",
      "\u001b[0;34m\u001b[0m    \u001b[0;34m*\u001b[0m\u001b[0;34m,\u001b[0m\u001b[0;34m\u001b[0m\n",
      "\u001b[0;34m\u001b[0m    \u001b[0msensitivity_indices\u001b[0m\u001b[0;34m:\u001b[0m \u001b[0;34m'np.ndarray'\u001b[0m\u001b[0;34m,\u001b[0m\u001b[0;34m\u001b[0m\n",
      "\u001b[0;34m\u001b[0m    \u001b[0mdec_limit\u001b[0m\u001b[0;34m:\u001b[0m \u001b[0;34m'float'\u001b[0m \u001b[0;34m=\u001b[0m \u001b[0;36m1\u001b[0m\u001b[0;34m,\u001b[0m\u001b[0;34m\u001b[0m\n",
      "\u001b[0;34m\u001b[0m    \u001b[0mauto_ordering\u001b[0m\u001b[0;34m:\u001b[0m \u001b[0;34m'bool'\u001b[0m \u001b[0;34m=\u001b[0m \u001b[0;32mTrue\u001b[0m\u001b[0;34m,\u001b[0m\u001b[0;34m\u001b[0m\n",
      "\u001b[0;34m\u001b[0m    \u001b[0mstates\u001b[0m\u001b[0;34m:\u001b[0m \u001b[0;34m'list[int] | None'\u001b[0m \u001b[0;34m=\u001b[0m \u001b[0;32mNone\u001b[0m\u001b[0;34m,\u001b[0m\u001b[0;34m\u001b[0m\n",
      "\u001b[0;34m\u001b[0m    \u001b[0mstatistic\u001b[0m\u001b[0;34m:\u001b[0m \u001b[0;34m\"Literal['mean', 'median'] | None\"\u001b[0m \u001b[0;34m=\u001b[0m \u001b[0;34m'mean'\u001b[0m\u001b[0;34m,\u001b[0m\u001b[0;34m\u001b[0m\n",
      "\u001b[0;34m\u001b[0m\u001b[0;34m)\u001b[0m \u001b[0;34m->\u001b[0m \u001b[0;34m'DecompositionResult'\u001b[0m\u001b[0;34m\u001b[0m\u001b[0;34m\u001b[0m\u001b[0m\n",
      "\u001b[0;31mDocstring:\u001b[0m\n",
      "SimDec decomposition.\n",
      "\n",
      "Parameters\n",
      "----------\n",
      "inputs : DataFrame of shape (n_runs, n_factors)\n",
      "    Input variables.\n",
      "output : DataFrame of shape (n_runs, 1)\n",
      "    Target variable.\n",
      "sensitivity_indices : ndarray of shape (n_factors, 1)\n",
      "    Sensitivity indices, combined effect of each input.\n",
      "dec_limit : float\n",
      "    Explained variance ratio to filter the number input variables.\n",
      "auto_ordering : bool\n",
      "    Automatically order input columns based on the relative sensitivity_indices\n",
      "    or use the provided order.\n",
      "states : list of int, optional\n",
      "    List of possible states for the considered parameter.\n",
      "statistic : {\"mean\", \"median\"}, optional\n",
      "    Statistic to compute in each bin.\n",
      "\n",
      "Returns\n",
      "-------\n",
      "res : DecompositionResult\n",
      "    An object with attributes:\n",
      "\n",
      "    var_names : list of string (n_factors, 1)\n",
      "        Variable names.\n",
      "    statistic : ndarray of shape (n_factors, 1)\n",
      "        Statistic in each bin.\n",
      "    bins : DataFrame\n",
      "        Multidimensional bins.\n",
      "    states : list of int\n",
      "        List of possible states for the considered parameter.\n",
      "\u001b[0;31mFile:\u001b[0m      /opt/anaconda3/lib/python3.12/site-packages/simdec/decomposition.py\n",
      "\u001b[0;31mType:\u001b[0m      function"
     ]
    }
   ],
   "source": [
    "decomposition?"
   ]
  },
  {
   "cell_type": "code",
   "execution_count": null,
   "id": "95ba6ebf",
   "metadata": {},
   "outputs": [],
   "source": []
  }
 ],
 "metadata": {
  "kernelspec": {
   "display_name": "base",
   "language": "python",
   "name": "python3"
  },
  "language_info": {
   "codemirror_mode": {
    "name": "ipython",
    "version": 3
   },
   "file_extension": ".py",
   "mimetype": "text/x-python",
   "name": "python",
   "nbconvert_exporter": "python",
   "pygments_lexer": "ipython3",
   "version": "3.12.4"
  }
 },
 "nbformat": 4,
 "nbformat_minor": 5
}
